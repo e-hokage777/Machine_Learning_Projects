{
 "cells": [
  {
   "cell_type": "markdown",
   "id": "59e19b9e-ec4d-4d1e-83ae-f1c2d1ea27cc",
   "metadata": {},
   "source": [
    "<h1 style=\"text-align: center;\">Facial Recognition with <strong><em>Siamese Network</em></strong> on Yale Faces dataset</h1>"
   ]
  },
  {
   "cell_type": "markdown",
   "id": "42dce9bb-bebd-4544-a089-368d71810d1b",
   "metadata": {},
   "source": [
    "- The `siamese network` is model that utilizes a cost function that aims to minimize the distance between any two images of the same person, while maximizing the distance between pictures of any two different people.\n",
    "- Pairs of images are passed through the model and the model makes a prediction of the distance between them. The distance is passed through the cost function for which the model is penalized more for predicting large distances for similar images and small instances for disimilar images.\n",
    "- A plot of the distributions of the distances for similar and distances for disimilar images, as shown in the last few lines gives a pictorial method of gauging the performance of the model. The farther apart the distributions are, the more likely the model is performing well"
   ]
  },
  {
   "cell_type": "markdown",
   "id": "dfd6079e-e846-465e-8316-7ac0cbbe5e47",
   "metadata": {},
   "source": [
    "Dataset can be downloaded [here](https://www.kaggle.com/datasets/olgabelitskaya/yale-face-database)"
   ]
  },
  {
   "cell_type": "code",
   "execution_count": 1,
   "id": "b580aec2-822f-45ff-9a8c-94aa776cbb1c",
   "metadata": {},
   "outputs": [
    {
     "name": "stdout",
     "output_type": "stream",
     "text": [
      "WARNING:tensorflow:From C:\\Users\\Eli\\AppData\\Local\\Packages\\PythonSoftwareFoundation.Python.3.11_qbz5n2kfra8p0\\LocalCache\\local-packages\\Python311\\site-packages\\keras\\src\\losses.py:2976: The name tf.losses.sparse_softmax_cross_entropy is deprecated. Please use tf.compat.v1.losses.sparse_softmax_cross_entropy instead.\n",
      "\n"
     ]
    }
   ],
   "source": [
    "import numpy as np\n",
    "import matplotlib.pyplot as plt\n",
    "\n",
    "import torch\n",
    "import torch.nn as nn\n",
    "import torch.nn.functional as F\n",
    "\n",
    "from glob import glob\n",
    "\n",
    "import tensorflow as tf\n",
    "from keras.preprocessing import image\n",
    "import keras.utils as utils\n",
    "\n",
    "import re\n",
    "import math\n",
    "from collections import Counter\n",
    "from itertools import combinations, combinations_with_replacement, product\n",
    "from datetime import datetime"
   ]
  },
  {
   "cell_type": "code",
   "execution_count": 2,
   "id": "5ec3b6da-83a7-45fa-b90c-e34db77286a8",
   "metadata": {},
   "outputs": [],
   "source": [
    "## getting all filenames\n",
    "data_path = \"(path to dataset)\"\n",
    "filenames = glob(f\"{data_path}/*\")\n",
    "\n",
    "## shuffling the filenames\n",
    "np.random.shuffle(filenames)"
   ]
  },
  {
   "cell_type": "code",
   "execution_count": 3,
   "id": "08258e59-8653-4357-b5b4-cfdc84e31ff4",
   "metadata": {},
   "outputs": [],
   "source": [
    "## setting width and height of each image\n",
    "H,W = 60, 80"
   ]
  },
  {
   "cell_type": "code",
   "execution_count": 4,
   "id": "1285485d-15a1-4e4e-b951-e0177ac850ca",
   "metadata": {},
   "outputs": [],
   "source": [
    "def load_image(filename):\n",
    "    return utils.img_to_array(utils.load_img(filename, target_size=[H,W])).mean(-1).astype(np.uint8)\n",
    "\n",
    "def get_labels(filenames):\n",
    "    return [int(re.search(\"\\\\\\\\subject(\\d+)\", filename).groups(0)[0])-1 for filename in filenames]"
   ]
  },
  {
   "cell_type": "code",
   "execution_count": 5,
   "id": "032bde2d-8c46-4db8-a7fa-ac6d5fd163a1",
   "metadata": {},
   "outputs": [
    {
     "data": {
      "image/png": "[encoded data removed]",
      "text/plain": [
       "<Figure size 640x480 with 1 Axes>"
      ]
     },
     "metadata": {},
     "output_type": "display_data"
    }
   ],
   "source": [
    "plt.imshow(load_image(np.random.choice(filenames)), cmap=\"gray\")\n",
    "plt.show()"
   ]
  },
  {
   "cell_type": "code",
   "execution_count": 6,
   "id": "c9776a5e-74b6-4ee6-a42e-7369f3b74c3e",
   "metadata": {},
   "outputs": [],
   "source": [
    "\n",
    "N = len(filenames)"
   ]
  },
  {
   "cell_type": "code",
   "execution_count": 7,
   "id": "3863158b-82fc-4a4a-b9de-101119f7867e",
   "metadata": {},
   "outputs": [],
   "source": [
    "## getting images as numpy arrays\n",
    "images = np.zeros((N, H, W))\n",
    "for i in range(len(filenames)):\n",
    "    images[i] = load_image(filenames[i])/255.\n",
    "\n",
    "## getting labels of each image\n",
    "labels = get_labels(filenames)"
   ]
  },
  {
   "cell_type": "code",
   "execution_count": 8,
   "id": "3418ac64-a786-472d-b966-b4defcca0fd4",
   "metadata": {},
   "outputs": [
    {
     "data": {
      "text/plain": [
       "Counter({11: 11,\n",
       "         10: 11,\n",
       "         14: 11,\n",
       "         6: 11,\n",
       "         7: 11,\n",
       "         13: 11,\n",
       "         5: 11,\n",
       "         2: 11,\n",
       "         4: 11,\n",
       "         8: 11,\n",
       "         3: 11,\n",
       "         1: 11,\n",
       "         0: 11,\n",
       "         12: 11,\n",
       "         9: 11})"
      ]
     },
     "execution_count": 8,
     "metadata": {},
     "output_type": "execute_result"
    }
   ],
   "source": [
    "## checking number of items in each of the train test split to decide how to split\n",
    "Counter(labels)"
   ]
  },
  {
   "cell_type": "code",
   "execution_count": 9,
   "id": "625e4a5e-da15-445a-964b-feccdf59c00f",
   "metadata": {},
   "outputs": [],
   "source": [
    "## since each subject has same number of images, use fixed size per subject for each subject in test data"
   ]
  },
  {
   "cell_type": "code",
   "execution_count": 10,
   "id": "23151168-0196-4ca9-832a-a38e3edb219a",
   "metadata": {},
   "outputs": [],
   "source": [
    "## getting the indices where each label is found to make pairs\n",
    "test_idxs = {}\n",
    "train_idxs = {}\n",
    "test_size = 3\n",
    "\n",
    "for idx, label in enumerate(labels):\n",
    "    ar = test_idxs.get(label, [])\n",
    "    if len(ar) < test_size:\n",
    "        ar.append(idx)\n",
    "        test_idxs[label] = ar\n",
    "    else:\n",
    "        ar = train_idxs.get(label, [])\n",
    "        ar.append(idx)\n",
    "        train_idxs[label] = ar\n",
    "\n",
    "del ar"
   ]
  },
  {
   "cell_type": "code",
   "execution_count": 11,
   "id": "62cc0410-95c2-407c-8f08-6701cd9cea7c",
   "metadata": {},
   "outputs": [],
   "source": [
    "def generate_pairs(idxs_dict):\n",
    "    pos_pairs = []\n",
    "    neg_pairs = []\n",
    "\n",
    "    # for k in idxs_dict:\n",
    "    #     pos_pairs += combinations(idxs_dict[k],2)\n",
    "    for a, b in combinations_with_replacement(idxs_dict, 2):\n",
    "        if a == b: pos_pairs += combinations(idxs_dict[a],2)\n",
    "        else: neg_pairs += product(idxs_dict[a], idxs_dict[b])\n",
    "\n",
    "    return pos_pairs, neg_pairs"
   ]
  },
  {
   "cell_type": "code",
   "execution_count": 12,
   "id": "02a53086-71bf-433c-8d98-cbd28f064dfd",
   "metadata": {},
   "outputs": [],
   "source": [
    "## getting the positive and negative matches for both train and test data\n",
    "train_pos_pairs, train_neg_pairs = generate_pairs(train_idxs)\n",
    "test_pos_pairs, test_neg_pairs = generate_pairs(test_idxs)"
   ]
  },
  {
   "cell_type": "code",
   "execution_count": 13,
   "id": "8d0c8c1d-ec64-4ef6-b1a2-cc4b66b629ad",
   "metadata": {},
   "outputs": [
    {
     "data": {
      "text/plain": [
       "(420, 6720)"
      ]
     },
     "execution_count": 13,
     "metadata": {},
     "output_type": "execute_result"
    }
   ],
   "source": [
    "len(train_pos_pairs), len(train_neg_pairs)"
   ]
  },
  {
   "cell_type": "code",
   "execution_count": 14,
   "id": "8244ebc2-f808-4ff7-b124-4e8f2c592f4c",
   "metadata": {},
   "outputs": [
    {
     "data": {
      "text/plain": [
       "(45, 945)"
      ]
     },
     "execution_count": 14,
     "metadata": {},
     "output_type": "execute_result"
    }
   ],
   "source": [
    "len(test_pos_pairs), len(test_neg_pairs)"
   ]
  },
  {
   "cell_type": "code",
   "execution_count": 15,
   "id": "b9e0eb8d-0686-4543-a980-5f5c25dbb2c4",
   "metadata": {},
   "outputs": [],
   "source": [
    "def pair_generator(pos_pairs, neg_pairs, images, shuffle=False, batch_size=64):\n",
    "    n_batches = int(np.ceil(len(pos_pairs)/batch_size))\n",
    "    img_shape = images[0].shape\n",
    "    while True:\n",
    "        if shuffle: np.random.shuffle(pos_pairs)\n",
    "        x_batch_1 = np.zeros((batch_size*2, *img_shape))\n",
    "        x_batch_2 = np.zeros((batch_size*2, *img_shape))\n",
    "        y_batch = np.zeros(batch_size*2)\n",
    "\n",
    "\n",
    "        for i in range(n_batches):\n",
    "            batch_pos_pairs = pos_pairs[i*batch_size:(i+1)*batch_size]\n",
    "            j = 0\n",
    "            for idx1, idx2 in batch_pos_pairs:\n",
    "                x_batch_1[j] = images[idx1]\n",
    "                x_batch_2[j] = images[idx2]\n",
    "                y_batch[j] = 1\n",
    "                j+=1\n",
    "\n",
    "            ## if-condition to allow selection with replacement in the event that the number positive pairs\n",
    "            ## are greater than the number of negative pairs\n",
    "            neg_idxs = np.random.choice(len(neg_pairs), size=len(batch_pos_pairs), replace=False if len(neg_pairs) > len(batch_pos_pairs) else True)\n",
    "            for neg in neg_idxs:\n",
    "                idx1, idx2 = neg_pairs[neg]\n",
    "                x_batch_1[j] = images[idx1]\n",
    "                x_batch_2[j] = images[idx2]\n",
    "                y_batch[j] = 0\n",
    "                j+=1\n",
    "\n",
    "            ## batch data only up to index j\n",
    "            x1 = x_batch_1[:j].reshape(-1,1,*img_shape).astype(np.float32)\n",
    "            x2 = x_batch_2[:j].reshape(-1,1,*img_shape).astype(np.float32)\n",
    "            y = y_batch[:j].astype(np.float32)\n",
    "\n",
    "            ## converting to tensors\n",
    "            x1 = torch.from_numpy(x1)\n",
    "            x2 = torch.from_numpy(x2)\n",
    "            y = torch.from_numpy(y)\n",
    "\n",
    "            \n",
    "            yield [x1, x2], y"
   ]
  },
  {
   "cell_type": "code",
   "execution_count": 16,
   "id": "2f396539-6c68-408d-801c-d780c4b165b1",
   "metadata": {},
   "outputs": [],
   "source": [
    "batch_size = 64\n",
    "train_generator = lambda: pair_generator(train_pos_pairs, train_neg_pairs, images, shuffle=True, batch_size=batch_size)\n",
    "test_generator = lambda: pair_generator(test_pos_pairs, test_neg_pairs, images, shuffle=False, batch_size=batch_size)"
   ]
  },
  {
   "cell_type": "code",
   "execution_count": 17,
   "id": "070d68fe-c115-4cad-be8e-6690c49f53de",
   "metadata": {},
   "outputs": [],
   "source": [
    "class SiameseNN(nn.Module):\n",
    "    def __init__(self, vector_space_size=50):\n",
    "        super(SiameseNN, self).__init__()\n",
    "        self.V = vector_space_size\n",
    "\n",
    "        self.cnn = nn.Sequential(\n",
    "            nn.Conv2d(1, 32, kernel_size=3),\n",
    "            nn.BatchNorm2d(32),\n",
    "            nn.ReLU(),\n",
    "            nn.MaxPool2d(2),\n",
    "            nn.Conv2d(32, 64, kernel_size=3),\n",
    "            nn.BatchNorm2d(64),\n",
    "            nn.ReLU(),\n",
    "            nn.MaxPool2d(2),\n",
    "            nn.Flatten(),\n",
    "            nn.Linear(13*18*64, 128),\n",
    "            nn.ReLU(),\n",
    "            nn.Linear(128, self.V)\n",
    "        )\n",
    "\n",
    "    def forward(self, img1, img2):\n",
    "        feat1, feat2 = self.cnn(img1), self.cnn(img2)\n",
    "        \n",
    "        ## returning euclidean distance between both image embeddings\n",
    "        return torch.linalg.norm(feat2-feat1, dim=-1)"
   ]
  },
  {
   "cell_type": "code",
   "execution_count": 18,
   "id": "5f8049f7-e021-4b0a-9a67-543cd08f9a42",
   "metadata": {},
   "outputs": [],
   "source": [
    "## creating criterion yd**2 + (1-y)max(m-d, 0)\n",
    "def criterion(d, y):\n",
    "    ## for non matches, distance between image embedding should be ideally at least 1\n",
    "    non_match = F.relu(1-d)\n",
    "    return torch.mean(y*d**2 + (1-y)*non_match**2)"
   ]
  },
  {
   "cell_type": "code",
   "execution_count": 19,
   "id": "3257ef39-0268-47ed-ba8e-ff92c29dc289",
   "metadata": {},
   "outputs": [
    {
     "data": {
      "text/plain": [
       "device(type='cpu')"
      ]
     },
     "execution_count": 19,
     "metadata": {},
     "output_type": "execute_result"
    }
   ],
   "source": [
    "device = torch.device(\"cuda:0\" if torch.cuda.is_available() else \"cpu\")\n",
    "device"
   ]
  },
  {
   "cell_type": "code",
   "execution_count": 20,
   "id": "42ccc9ce-c43c-4b59-a633-df633e99eb01",
   "metadata": {},
   "outputs": [
    {
     "data": {
      "text/plain": [
       "SiameseNN(\n",
       "  (cnn): Sequential(\n",
       "    (0): Conv2d(1, 32, kernel_size=(3, 3), stride=(1, 1))\n",
       "    (1): BatchNorm2d(32, eps=1e-05, momentum=0.1, affine=True, track_running_stats=True)\n",
       "    (2): ReLU()\n",
       "    (3): MaxPool2d(kernel_size=2, stride=2, padding=0, dilation=1, ceil_mode=False)\n",
       "    (4): Conv2d(32, 64, kernel_size=(3, 3), stride=(1, 1))\n",
       "    (5): BatchNorm2d(64, eps=1e-05, momentum=0.1, affine=True, track_running_stats=True)\n",
       "    (6): ReLU()\n",
       "    (7): MaxPool2d(kernel_size=2, stride=2, padding=0, dilation=1, ceil_mode=False)\n",
       "    (8): Flatten(start_dim=1, end_dim=-1)\n",
       "    (9): Linear(in_features=14976, out_features=128, bias=True)\n",
       "    (10): ReLU()\n",
       "    (11): Linear(in_features=128, out_features=50, bias=True)\n",
       "  )\n",
       ")"
      ]
     },
     "execution_count": 20,
     "metadata": {},
     "output_type": "execute_result"
    }
   ],
   "source": [
    "model = SiameseNN(50)\n",
    "model.to(device)"
   ]
  },
  {
   "cell_type": "code",
   "execution_count": 21,
   "id": "1fa10e8e-d1c1-417e-ab5b-8f2badaecfc2",
   "metadata": {},
   "outputs": [],
   "source": [
    "optimizer = torch.optim.Adam(model.parameters())"
   ]
  },
  {
   "cell_type": "code",
   "execution_count": 22,
   "id": "781e95a3-93cd-493f-9bc0-977b3f34419e",
   "metadata": {},
   "outputs": [],
   "source": [
    "def batch_gd(model, criterion, optimizer, train_loader, test_loader, train_steps=2, test_steps=2, epochs=20):\n",
    "    train_losses = np.zeros(epochs)\n",
    "    test_losses = np.zeros(epochs)\n",
    "\n",
    "    for it in range(epochs):\n",
    "        t0 = datetime.now()\n",
    "        steps = 0\n",
    "        epoch_losses = []\n",
    "        for [inputs1, inputs2], targets in train_loader:\n",
    "            optimizer.zero_grad()\n",
    "            inputs1, inputs2, targets = inputs1.to(device), inputs2.to(device), targets.to(device)\n",
    "            outputs = model(inputs1, inputs2)\n",
    "            loss = criterion(outputs, targets)\n",
    "            loss.backward()\n",
    "            optimizer.step()\n",
    "    \n",
    "            epoch_losses.append(loss.item())\n",
    "    \n",
    "            steps+=1\n",
    "            if steps >= train_steps: break;\n",
    "\n",
    "        train_losses[it] = np.mean(epoch_losses)\n",
    "        \n",
    "        steps = 0\n",
    "        epoch_losses = []\n",
    "        for [inputs1, inputs2], targets in test_loader:\n",
    "            inputs1, inputs2, targets = inputs1.to(device), inputs2.to(device), targets.to(device)\n",
    "            outputs = model(inputs1, inputs2)\n",
    "            loss = criterion(outputs, targets)\n",
    "    \n",
    "            epoch_losses.append(loss.item())\n",
    "    \n",
    "            steps+=1\n",
    "            if steps >= test_steps: break;\n",
    "\n",
    "        test_losses[it] = np.mean(epoch_losses)\n",
    "\n",
    "        dt = datetime.now() - t0\n",
    "\n",
    "        print(f\"Epoch: {it+1}/{epochs}, Train loss: {train_losses[it]}, Test Loss: {test_losses[it]}, Duration: {dt}\")\n",
    "\n",
    "    return train_losses, test_losses"
   ]
  },
  {
   "cell_type": "code",
   "execution_count": 23,
   "id": "aa4925ab-6903-4ce9-8a0c-0c71b5a87343",
   "metadata": {},
   "outputs": [
    {
     "name": "stdout",
     "output_type": "stream",
     "text": [
      "Epoch: 1/20, Train loss: 0.6854980098349708, Test Loss: 0.31797727942466736, Duration: 0:00:19.999091\n",
      "Epoch: 2/20, Train loss: 0.22758211621216365, Test Loss: 0.3033442497253418, Duration: 0:00:20.294130\n",
      "Epoch: 3/20, Train loss: 0.1518760078719684, Test Loss: 0.23646430671215057, Duration: 0:00:22.497397\n",
      "Epoch: 4/20, Train loss: 0.09009936664785657, Test Loss: 0.18902894854545593, Duration: 0:00:21.404243\n",
      "Epoch: 5/20, Train loss: 0.059176323137113025, Test Loss: 0.2255759835243225, Duration: 0:00:21.129380\n",
      "Epoch: 6/20, Train loss: 0.04087700854454722, Test Loss: 0.16542194783687592, Duration: 0:00:21.153297\n",
      "Epoch: 7/20, Train loss: 0.02292526194027492, Test Loss: 0.1992633193731308, Duration: 0:00:19.627021\n",
      "Epoch: 8/20, Train loss: 0.018957064487040043, Test Loss: 0.20246510207653046, Duration: 0:00:20.487726\n",
      "Epoch: 9/20, Train loss: 0.011027889459260873, Test Loss: 0.16790278255939484, Duration: 0:00:19.651884\n",
      "Epoch: 10/20, Train loss: 0.00890485949016043, Test Loss: 0.17253953218460083, Duration: 0:00:19.775467\n",
      "Epoch: 11/20, Train loss: 0.005968505117510047, Test Loss: 0.18547280132770538, Duration: 0:00:20.800220\n",
      "Epoch: 12/20, Train loss: 0.005573121132329106, Test Loss: 0.19055281579494476, Duration: 0:00:21.304815\n",
      "Epoch: 13/20, Train loss: 0.005079640042302864, Test Loss: 0.17987726628780365, Duration: 0:00:21.406978\n",
      "Epoch: 14/20, Train loss: 0.004275250148826412, Test Loss: 0.1758192777633667, Duration: 0:00:09.666495\n",
      "Epoch: 15/20, Train loss: 0.0027058341739965336, Test Loss: 0.16195453703403473, Duration: 0:00:10.660320\n",
      "Epoch: 16/20, Train loss: 0.0018491554240296995, Test Loss: 0.16771036386489868, Duration: 0:00:10.564590\n",
      "Epoch: 17/20, Train loss: 0.0017080557299777865, Test Loss: 0.1688162088394165, Duration: 0:00:10.990807\n",
      "Epoch: 18/20, Train loss: 0.0012967780681460031, Test Loss: 0.1739858239889145, Duration: 0:00:11.950434\n",
      "Epoch: 19/20, Train loss: 0.0016264975420199335, Test Loss: 0.17690341174602509, Duration: 0:00:11.557521\n",
      "Epoch: 20/20, Train loss: 0.0014870031819944935, Test Loss: 0.16738827526569366, Duration: 0:00:11.062639\n"
     ]
    }
   ],
   "source": [
    "train_steps = int(np.ceil(len(train_pos_pairs)/batch_size))\n",
    "test_steps = int(np.ceil(len(test_pos_pairs)/batch_size))\n",
    "\n",
    "train_losses, test_losses = batch_gd(\n",
    "    model, criterion, optimizer, train_generator(), test_generator(), train_steps=train_steps, test_steps=test_steps\n",
    ")"
   ]
  },
  {
   "cell_type": "code",
   "execution_count": 24,
   "id": "ed5bdfe0-cc96-4ebe-8fec-9c2299b5ef35",
   "metadata": {},
   "outputs": [
    {
     "data": {
      "image/png": "[encoded data removed]",
      "text/plain": [
       "<Figure size 640x480 with 1 Axes>"
      ]
     },
     "metadata": {},
     "output_type": "display_data"
    }
   ],
   "source": [
    "plt.plot(train_losses)\n",
    "plt.plot(test_losses)\n",
    "plt.show()"
   ]
  },
  {
   "cell_type": "code",
   "execution_count": 25,
   "id": "56b128bf-6a1d-4bf1-b761-4f7a718f18a8",
   "metadata": {},
   "outputs": [],
   "source": [
    "def predict(x1, x2):\n",
    "    with torch.no_grad():\n",
    "        x1 = torch.from_numpy(x1.reshape(-1,1, H,W).astype(np.float32))\n",
    "        x2 = torch.from_numpy(x2.reshape(-1,1, H,W).astype(np.float32))\n",
    "\n",
    "        return model(x1,x2)"
   ]
  },
  {
   "cell_type": "code",
   "execution_count": 26,
   "id": "eb767803-db94-4252-8072-0f1b31bf9900",
   "metadata": {},
   "outputs": [],
   "source": [
    "def get_accuracy(pos_pairs, neg_pairs, images, threshold=0.85, batch_size=64):\n",
    "    tp = 0 ## +ve and I say it is\n",
    "    tn = 0 ## -ve and I say it is\n",
    "    fp = 0 ## -ve but I say +ve\n",
    "    fn = 0 ## +ve but I say -ve\n",
    "\n",
    "    pos_distances = []\n",
    "    neg_distances = []\n",
    "\n",
    "    img_shape = images[0].shape\n",
    "    x_batch_1 = np.zeros((batch_size, *img_shape))\n",
    "    x_batch_2 = np.zeros((batch_size, *img_shape))\n",
    "\n",
    "    n_batches = int(np.ceil(len(pos_pairs)/batch_size))\n",
    "    for i in range(n_batches):\n",
    "        print(f\"Positive Batch: {i+1}/{n_batches}\")\n",
    "        pos_batch_pairs = pos_pairs[i*batch_size:(i+1)*batch_size]\n",
    "\n",
    "        j = 0\n",
    "        for idx1, idx2 in pos_batch_pairs:\n",
    "            x_batch_1[j] = images[idx1]\n",
    "            x_batch_2[j] = images[idx2]\n",
    "            j+=1\n",
    "\n",
    "        x1 = x_batch_1[:j]\n",
    "        x2 = x_batch_2[:j]\n",
    "\n",
    "        distances = predict(x1, x2)\n",
    "\n",
    "        tp += (distances < threshold).sum().item()\n",
    "        fn += (distances > threshold).sum().item()\n",
    "        \n",
    "        pos_distances += distances.tolist()\n",
    "        \n",
    "    n_batches = int(np.ceil(len(neg_pairs)/batch_size))\n",
    "    for i in range(n_batches):\n",
    "        print(f\"Negative Batch: {i+1}/{n_batches}\")\n",
    "        neg_batch_pairs = neg_pairs[i*batch_size:(i+1)*batch_size]\n",
    "\n",
    "        j = 0\n",
    "        for idx1, idx2 in neg_batch_pairs:\n",
    "            x_batch_1[j] = images[idx1]\n",
    "            x_batch_2[j] = images[idx2]\n",
    "            j+=1\n",
    "\n",
    "        x1 = x_batch_1[:j]\n",
    "        x2 = x_batch_2[:j]\n",
    "\n",
    "        distances = predict(x1, x2)\n",
    "\n",
    "        tn += (distances > threshold).sum().item()\n",
    "        fp += (distances < threshold).sum().item()\n",
    "        \n",
    "        neg_distances += distances.tolist()\n",
    "\n",
    "\n",
    "    ## getting true-positive rate and false-negative rate\n",
    "    tpr = tp/(tp + fn)\n",
    "    tnr = tn/(tn + fp)\n",
    "\n",
    "    print(f\"Sensitivity: {tpr}, Specificity: {tnr}\")\n",
    "\n",
    "    return pos_distances, neg_distances"
   ]
  },
  {
   "cell_type": "code",
   "execution_count": 27,
   "id": "019ac8fc-b7f2-4329-a279-3db6f96b2c66",
   "metadata": {},
   "outputs": [
    {
     "name": "stdout",
     "output_type": "stream",
     "text": [
      "Positive Batch: 1/7\n",
      "Positive Batch: 2/7\n",
      "Positive Batch: 3/7\n",
      "Positive Batch: 4/7\n",
      "Positive Batch: 5/7\n",
      "Positive Batch: 6/7\n",
      "Positive Batch: 7/7\n",
      "Negative Batch: 1/105\n",
      "Negative Batch: 2/105\n",
      "Negative Batch: 3/105\n",
      "Negative Batch: 4/105\n",
      "Negative Batch: 5/105\n",
      "Negative Batch: 6/105\n",
      "Negative Batch: 7/105\n",
      "Negative Batch: 8/105\n",
      "Negative Batch: 9/105\n",
      "Negative Batch: 10/105\n",
      "Negative Batch: 11/105\n",
      "Negative Batch: 12/105\n",
      "Negative Batch: 13/105\n",
      "Negative Batch: 14/105\n",
      "Negative Batch: 15/105\n",
      "Negative Batch: 16/105\n",
      "Negative Batch: 17/105\n",
      "Negative Batch: 18/105\n",
      "Negative Batch: 19/105\n",
      "Negative Batch: 20/105\n",
      "Negative Batch: 21/105\n",
      "Negative Batch: 22/105\n",
      "Negative Batch: 23/105\n",
      "Negative Batch: 24/105\n",
      "Negative Batch: 25/105\n",
      "Negative Batch: 26/105\n",
      "Negative Batch: 27/105\n",
      "Negative Batch: 28/105\n",
      "Negative Batch: 29/105\n",
      "Negative Batch: 30/105\n",
      "Negative Batch: 31/105\n",
      "Negative Batch: 32/105\n",
      "Negative Batch: 33/105\n",
      "Negative Batch: 34/105\n",
      "Negative Batch: 35/105\n",
      "Negative Batch: 36/105\n",
      "Negative Batch: 37/105\n",
      "Negative Batch: 38/105\n",
      "Negative Batch: 39/105\n",
      "Negative Batch: 40/105\n",
      "Negative Batch: 41/105\n",
      "Negative Batch: 42/105\n",
      "Negative Batch: 43/105\n",
      "Negative Batch: 44/105\n",
      "Negative Batch: 45/105\n",
      "Negative Batch: 46/105\n",
      "Negative Batch: 47/105\n",
      "Negative Batch: 48/105\n",
      "Negative Batch: 49/105\n",
      "Negative Batch: 50/105\n",
      "Negative Batch: 51/105\n",
      "Negative Batch: 52/105\n",
      "Negative Batch: 53/105\n",
      "Negative Batch: 54/105\n",
      "Negative Batch: 55/105\n",
      "Negative Batch: 56/105\n",
      "Negative Batch: 57/105\n",
      "Negative Batch: 58/105\n",
      "Negative Batch: 59/105\n",
      "Negative Batch: 60/105\n",
      "Negative Batch: 61/105\n",
      "Negative Batch: 62/105\n",
      "Negative Batch: 63/105\n",
      "Negative Batch: 64/105\n",
      "Negative Batch: 65/105\n",
      "Negative Batch: 66/105\n",
      "Negative Batch: 67/105\n",
      "Negative Batch: 68/105\n",
      "Negative Batch: 69/105\n",
      "Negative Batch: 70/105\n",
      "Negative Batch: 71/105\n",
      "Negative Batch: 72/105\n",
      "Negative Batch: 73/105\n",
      "Negative Batch: 74/105\n",
      "Negative Batch: 75/105\n",
      "Negative Batch: 76/105\n",
      "Negative Batch: 77/105\n",
      "Negative Batch: 78/105\n",
      "Negative Batch: 79/105\n",
      "Negative Batch: 80/105\n",
      "Negative Batch: 81/105\n",
      "Negative Batch: 82/105\n",
      "Negative Batch: 83/105\n",
      "Negative Batch: 84/105\n",
      "Negative Batch: 85/105\n",
      "Negative Batch: 86/105\n",
      "Negative Batch: 87/105\n",
      "Negative Batch: 88/105\n",
      "Negative Batch: 89/105\n",
      "Negative Batch: 90/105\n",
      "Negative Batch: 91/105\n",
      "Negative Batch: 92/105\n",
      "Negative Batch: 93/105\n",
      "Negative Batch: 94/105\n",
      "Negative Batch: 95/105\n",
      "Negative Batch: 96/105\n",
      "Negative Batch: 97/105\n",
      "Negative Batch: 98/105\n",
      "Negative Batch: 99/105\n",
      "Negative Batch: 100/105\n",
      "Negative Batch: 101/105\n",
      "Negative Batch: 102/105\n",
      "Negative Batch: 103/105\n",
      "Negative Batch: 104/105\n",
      "Negative Batch: 105/105\n",
      "Sensitivity: 1.0, Specificity: 0.9825892857142857\n"
     ]
    }
   ],
   "source": [
    "train_pos_distances, train_neg_distances = get_accuracy(train_pos_pairs, train_neg_pairs, images, threshold=0.65)"
   ]
  },
  {
   "cell_type": "code",
   "execution_count": 28,
   "id": "ac55e27a-bbe1-4518-ba8b-4c80b50c7e13",
   "metadata": {},
   "outputs": [
    {
     "data": {
      "image/png": "[encoded data removed]",
      "text/plain": [
       "<Figure size 640x480 with 1 Axes>"
      ]
     },
     "metadata": {},
     "output_type": "display_data"
    }
   ],
   "source": [
    "plt.hist(train_pos_distances, bins=20, density=True, alpha=0.5)\n",
    "plt.hist(train_neg_distances, bins=20, density=True, alpha=0.5)\n",
    "\n",
    "plt.show()"
   ]
  },
  {
   "cell_type": "code",
   "execution_count": 29,
   "id": "bb6cf041-7a35-49b4-9130-3b5eaa9a7e50",
   "metadata": {},
   "outputs": [
    {
     "name": "stdout",
     "output_type": "stream",
     "text": [
      "Positive Batch: 1/1\n",
      "Negative Batch: 1/15\n",
      "Negative Batch: 2/15\n",
      "Negative Batch: 3/15\n",
      "Negative Batch: 4/15\n",
      "Negative Batch: 5/15\n",
      "Negative Batch: 6/15\n",
      "Negative Batch: 7/15\n",
      "Negative Batch: 8/15\n",
      "Negative Batch: 9/15\n",
      "Negative Batch: 10/15\n",
      "Negative Batch: 11/15\n",
      "Negative Batch: 12/15\n",
      "Negative Batch: 13/15\n",
      "Negative Batch: 14/15\n",
      "Negative Batch: 15/15\n",
      "Sensitivity: 0.8222222222222222, Specificity: 0.9724867724867725\n"
     ]
    },
    {
     "data": {
      "image/png": "[encoded data removed]",
      "text/plain": [
       "<Figure size 640x480 with 1 Axes>"
      ]
     },
     "metadata": {},
     "output_type": "display_data"
    }
   ],
   "source": [
    "test_pos_distances, test_neg_distances = get_accuracy(test_pos_pairs, test_neg_pairs, images, threshold=0.65)\n",
    "plt.hist(test_pos_distances, bins=20, density=True, alpha=0.5)\n",
    "plt.hist(test_neg_distances, bins=20, density=True, alpha=0.5)\n",
    "plt.show()"
   ]
  }
 ],
 "metadata": {
  "kernelspec": {
   "display_name": "Python 3 (ipykernel)",
   "language": "python",
   "name": "python3"
  },
  "language_info": {
   "codemirror_mode": {
    "name": "ipython",
    "version": 3
   },
   "file_extension": ".py",
   "mimetype": "text/x-python",
   "name": "python",
   "nbconvert_exporter": "python",
   "pygments_lexer": "ipython3",
   "version": "3.11.7"
  }
 },
 "nbformat": 4,
 "nbformat_minor": 5
}
