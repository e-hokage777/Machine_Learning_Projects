{
 "cells": [
  {
   "cell_type": "markdown",
   "id": "b4a39908-bdc2-4129-a2a6-ea87e09dd1bc",
   "metadata": {},
   "source": [
    "<h1 style=\"text-align: center;\">Facial Expression Detection</h1>"
   ]
  },
  {
   "cell_type": "markdown",
   "id": "f235e19d-f07d-4ee5-adec-6ac0b3d7cb1c",
   "metadata": {},
   "source": [
    "Dataset can be downloaded [here](https://www.kaggle.com/competitions/challenges-in-representation-learning-facial-expression-recognition-challenge/data)"
   ]
  },
  {
   "cell_type": "code",
   "execution_count": 159,
   "id": "485c0473-77c7-4708-9501-2fe96b70fa7e",
   "metadata": {},
   "outputs": [],
   "source": [
    "import numpy as np\n",
    "import pandas as pd\n",
    "import matplotlib.pyplot as plt\n",
    "import torch\n",
    "import torch.nn as nn\n",
    "from torch.utils.data import Dataset, DataLoader, random_split\n",
    "import torchvision.transforms as transforms\n",
    "\n",
    "from datetime import datetime"
   ]
  },
  {
   "cell_type": "code",
   "execution_count": 160,
   "id": "f1d21f29-209d-4e08-8884-3ab1fa27f3a8",
   "metadata": {},
   "outputs": [],
   "source": [
    "## Class for getting the data\n",
    "class ExpressionDataset(Dataset):\n",
    "    def __init__(self, filename, img_size=(48,48), transform=None):\n",
    "        self.data = pd.read_csv(filename)\n",
    "        self.img_height = img_size[0]\n",
    "        self.img_width = img_size[0]\n",
    "        self.transform = transform\n",
    "\n",
    "    def __len__(self):\n",
    "        return len(self.data)\n",
    "\n",
    "    def __getitem__(self, idx):\n",
    "        pixels = self.data.loc[idx, \"pixels\"]\n",
    "        target = self.data.loc[idx, \"emotion\"]\n",
    "\n",
    "        ## changing the image pixel string into actual image\n",
    "        img = []\n",
    "        row = []\n",
    "        for pixel in pixels.split():\n",
    "            if len(row) == self.img_width:\n",
    "                img.append(row)\n",
    "                row = []\n",
    "\n",
    "            row.append(np.uint8(pixel))\n",
    "\n",
    "        ## appending last row\n",
    "        img.append(row)\n",
    "        img = np.array(img)\n",
    "\n",
    "        if self.transform:\n",
    "            img = self.transform(img)\n",
    "\n",
    "        return img, target"
   ]
  },
  {
   "cell_type": "code",
   "execution_count": 161,
   "id": "1778aff3-b5ed-41a7-bd74-2075985957fa",
   "metadata": {},
   "outputs": [],
   "source": [
    "import os"
   ]
  },
  {
   "cell_type": "code",
   "execution_count": 162,
   "id": "42523e8d-ddfd-4d45-aa3a-56f13654a8d8",
   "metadata": {},
   "outputs": [],
   "source": [
    "## getting labels\n",
    "# (0=Angry, 1=Disgust, 2=Fear, 3=Happy, 4=Sad, 5=Surprise, 6=Neutral)\n",
    "labels = {\n",
    "    0: \"Angry\",\n",
    "    1: \"Disgust\",\n",
    "    2: \"Fear\",\n",
    "    3: \"Happy\",\n",
    "    4: \"Sad\",\n",
    "    5: \"Surprise\",\n",
    "    6: \"Neutral\"\n",
    "}"
   ]
  },
  {
   "cell_type": "code",
   "execution_count": 163,
   "id": "68bd847e-ce7b-4490-bb46-8d60a9811a1f",
   "metadata": {},
   "outputs": [],
   "source": [
    "## filepaths for data\n",
    "# creating transforms for the data\n",
    "data_transforms = transforms.ToTensor()\n",
    "data_folder = \"x__data\"\n",
    "train_path = os.path.join(data_folder, \"train.csv\")\n",
    "dataset = ExpressionDataset(train_path, transform=data_transforms)"
   ]
  },
  {
   "cell_type": "code",
   "execution_count": 164,
   "id": "a801c3bb-d07f-4c58-8d2c-72f4ecc08eff",
   "metadata": {},
   "outputs": [
    {
     "data": {
      "image/png": "[encoded data removed]",
      "text/plain": [
       "<Figure size 640x480 with 1 Axes>"
      ]
     },
     "metadata": {},
     "output_type": "display_data"
    }
   ],
   "source": [
    "rand_ind = np.random.choice(len(train_dataset))\n",
    "img, target = train_dataset[rand_ind]\n",
    "\n",
    "plt.imshow(img.permute(1,2,0), cmap=\"gray\")\n",
    "plt.show()"
   ]
  },
  {
   "cell_type": "code",
   "execution_count": 165,
   "id": "6dbf31be-7891-49c0-b186-e5839de0130a",
   "metadata": {},
   "outputs": [],
   "source": [
    "## splitting the train dataset into train and validation\n",
    "valid_size = 0.3\n",
    "train_size = 1 - valid_size\n",
    "train_dataset, validation_dataset = random_split(dataset, [train_size,  valid_size])"
   ]
  },
  {
   "cell_type": "code",
   "execution_count": 166,
   "id": "a8e31253-d7fa-4032-b583-fadd2c9ee5eb",
   "metadata": {},
   "outputs": [],
   "source": [
    "## creating data loaders\n",
    "batch_size = 128\n",
    "\n",
    "train_loader = DataLoader(train_dataset, batch_size=batch_size, shuffle=True)\n",
    "validation_loader = DataLoader(validation_dataset, batch_size=batch_size, shuffle=False)"
   ]
  },
  {
   "cell_type": "code",
   "execution_count": 167,
   "id": "d0f8b369-86a0-4420-a7e6-74048ecdb299",
   "metadata": {},
   "outputs": [],
   "source": [
    "## creating model\n",
    "class CNN(nn.Module):\n",
    "    def __init__(self, output_size):\n",
    "        super(CNN, self).__init__()\n",
    "\n",
    "        self.K = output_size\n",
    "\n",
    "        self.cnn = nn.Sequential(\n",
    "            nn.Conv2d(in_channels=1, out_channels=32, kernel_size=3, padding=1),\n",
    "            nn.ReLU(),\n",
    "            nn.MaxPool2d(2),\n",
    "            nn.Conv2d(in_channels=32, out_channels=64, kernel_size=3, padding=1),\n",
    "            nn.ReLU(),\n",
    "            nn.MaxPool2d(2)\n",
    "            nn.Conv2d(in_channels=64, out_channels=128, kernel_size=3, padding=1),\n",
    "            nn.ReLU(),\n",
    "            nn.MaxPool2d(2)\n",
    "        )\n",
    "\n",
    "        self.fc = nn.Sequential(\n",
    "            nn.Dropout(0.2)\n",
    "            nn.Linear(12*12*64, 128),\n",
    "            nn.ReLU(),\n",
    "            nn.Linear(128, 64),\n",
    "            nn.ReLU(),\n",
    "            # nn.Linear(64, 32),\n",
    "            # nn.ReLU(),\n",
    "            nn.Linear(64, self.K)\n",
    "        )\n",
    "\n",
    "    def forward(self, X):\n",
    "        out = self.cnn(X)\n",
    "        out = self.fc(out.view(out.shape[0], -1))\n",
    "        return out"
   ]
  },
  {
   "cell_type": "code",
   "execution_count": 168,
   "id": "e103c771-53cd-494b-8628-05d2aa351029",
   "metadata": {},
   "outputs": [
    {
     "data": {
      "text/plain": [
       "device(type='cpu')"
      ]
     },
     "execution_count": 168,
     "metadata": {},
     "output_type": "execute_result"
    }
   ],
   "source": [
    "device = torch.device(\"cuda:0\" if torch.cuda.is_available() else \"cpu\")\n",
    "device"
   ]
  },
  {
   "cell_type": "code",
   "execution_count": 169,
   "id": "7611450e-5b95-4373-abba-5df271277125",
   "metadata": {},
   "outputs": [
    {
     "data": {
      "text/plain": [
       "CNN(\n",
       "  (cnn): Sequential(\n",
       "    (0): Conv2d(1, 32, kernel_size=(3, 3), stride=(1, 1), padding=(1, 1))\n",
       "    (1): ReLU()\n",
       "    (2): MaxPool2d(kernel_size=2, stride=2, padding=0, dilation=1, ceil_mode=False)\n",
       "    (3): Conv2d(32, 64, kernel_size=(3, 3), stride=(1, 1), padding=(1, 1))\n",
       "    (4): ReLU()\n",
       "    (5): MaxPool2d(kernel_size=2, stride=2, padding=0, dilation=1, ceil_mode=False)\n",
       "  )\n",
       "  (fc): Sequential(\n",
       "    (0): Linear(in_features=9216, out_features=128, bias=True)\n",
       "    (1): ReLU()\n",
       "    (2): Linear(in_features=128, out_features=64, bias=True)\n",
       "    (3): ReLU()\n",
       "    (4): Linear(in_features=64, out_features=7, bias=True)\n",
       "  )\n",
       ")"
      ]
     },
     "execution_count": 169,
     "metadata": {},
     "output_type": "execute_result"
    }
   ],
   "source": [
    "model = CNN(len(labels))\n",
    "model.to(device)"
   ]
  },
  {
   "cell_type": "code",
   "execution_count": 170,
   "id": "ec15bf30-356f-4d77-9461-97c5a2b94fc7",
   "metadata": {},
   "outputs": [],
   "source": [
    "## creating criterion and optimizer\n",
    "criterion = nn.CrossEntropyLoss()\n",
    "optimizer = torch.optim.Adam(model.parameters())"
   ]
  },
  {
   "cell_type": "code",
   "execution_count": 171,
   "id": "bfea4c99-8bcf-4863-9729-56815ef7f2c8",
   "metadata": {},
   "outputs": [],
   "source": [
    "## creating batch gradient descent function\n",
    "def batch_gd(model, criterion, optimizer, train_loader, validation_loader, epochs=20):\n",
    "    train_losses = []\n",
    "    validation_losses = []\n",
    "\n",
    "    for it in range(epochs):\n",
    "        t0 = datetime.now()\n",
    "        epoch_losses = []\n",
    "        model.train()\n",
    "        for inputs, targets in train_loader:\n",
    "            optimizer.zero_grad()\n",
    "            inputs, targets = inputs.to(device), targets.to(device)\n",
    "            outputs = model(inputs)\n",
    "            loss = criterion(outputs, targets)\n",
    "\n",
    "            loss.backward()\n",
    "            optimizer.step()\n",
    "            \n",
    "            epoch_losses.append(loss.item())\n",
    "            \n",
    "        train_losses.append(np.mean(epoch_losses))\n",
    "\n",
    "        \n",
    "        epoch_losses = []\n",
    "        model.eval()\n",
    "        for inputs, targets in validation_loader:\n",
    "            inputs, targets = inputs.to(device), targets.to(device)\n",
    "            outputs = model(inputs)\n",
    "            loss = criterion(outputs, targets)\n",
    "            \n",
    "            epoch_losses.append(loss.item())\n",
    "            \n",
    "        validation_losses.append(np.mean(epoch_losses))\n",
    "\n",
    "        dt = datetime.now() - t0\n",
    "\n",
    "        print(f\"Epoch {it+1}/{epochs}, Train Loss: {train_losses[it]}, Validation Loss: {validation_losses[it]}, Duration: {dt}\")\n",
    "\n",
    "    return train_losses, validation_losses"
   ]
  },
  {
   "cell_type": "code",
   "execution_count": 172,
   "id": "2d92b721-f009-47fd-8e60-48c9e10d2dd0",
   "metadata": {},
   "outputs": [
    {
     "name": "stdout",
     "output_type": "stream",
     "text": [
      "Epoch 1/20, Train Loss: 1.7325755810435814, Validation Loss: 1.650088534635656, Duration: 0:02:08.075358\n",
      "Epoch 2/20, Train Loss: 1.5832188755651064, Validation Loss: 1.5536580857108622, Duration: 0:02:16.443443\n",
      "Epoch 3/20, Train Loss: 1.4845827916000462, Validation Loss: 1.477905834422392, Duration: 0:02:18.043412\n",
      "Epoch 4/20, Train Loss: 1.404763786098625, Validation Loss: 1.490687675335828, Duration: 0:02:11.583467\n",
      "Epoch 5/20, Train Loss: 1.3312121101572543, Validation Loss: 1.4031541557872997, Duration: 0:02:28.644642\n",
      "Epoch 6/20, Train Loss: 1.2669855077055436, Validation Loss: 1.3947903531439163, Duration: 0:02:25.703899\n",
      "Epoch 7/20, Train Loss: 1.2049141575146136, Validation Loss: 1.3670829902676975, Duration: 0:02:28.433485\n",
      "Epoch 8/20, Train Loss: 1.1285945097974772, Validation Loss: 1.334957124555812, Duration: 0:02:24.452531\n",
      "Epoch 9/20, Train Loss: 1.0717151957222177, Validation Loss: 1.3645087200052597, Duration: 0:02:25.804012\n",
      "Epoch 10/20, Train Loss: 1.036829798659192, Validation Loss: 1.4056079037049238, Duration: 0:02:24.496741\n",
      "Epoch 11/20, Train Loss: 0.9511590019057069, Validation Loss: 1.4532691713641672, Duration: 0:02:12.816305\n",
      "Epoch 12/20, Train Loss: 0.9059129639865688, Validation Loss: 1.4294667051118963, Duration: 0:02:08.460324\n",
      "Epoch 13/20, Train Loss: 0.7830301358635667, Validation Loss: 1.4651229118599611, Duration: 0:02:09.012105\n",
      "Epoch 14/20, Train Loss: 0.6993408889886982, Validation Loss: 1.560738949214711, Duration: 0:02:01.936043\n",
      "Epoch 15/20, Train Loss: 0.6110324435661063, Validation Loss: 1.6847476520959068, Duration: 0:02:12.582117\n",
      "Epoch 16/20, Train Loss: 0.5327101481011538, Validation Loss: 1.7429403382189133, Duration: 0:02:23.848778\n",
      "Epoch 17/20, Train Loss: 0.43629770564388587, Validation Loss: 1.9356594629147474, Duration: 0:02:17.928907\n",
      "Epoch 18/20, Train Loss: 0.35523518817528754, Validation Loss: 2.128371692755643, Duration: 0:02:10.519920\n",
      "Epoch 19/20, Train Loss: 0.2930678072609479, Validation Loss: 2.291292304501814, Duration: 0:02:07.182236\n",
      "Epoch 20/20, Train Loss: 0.23633086788644897, Validation Loss: 2.533485338968389, Duration: 0:02:09.534372\n"
     ]
    }
   ],
   "source": [
    "train_losses, validation_losses = batch_gd(model,\n",
    "                                           criterion,\n",
    "                                           optimizer,\n",
    "                                           train_loader,\n",
    "                                           validation_loader,\n",
    "                                           epochs=10\n",
    "                                          )"
   ]
  },
  {
   "cell_type": "code",
   "execution_count": 173,
   "id": "16d2d1fa-2563-4e62-af04-1aa47dcbd3a7",
   "metadata": {},
   "outputs": [
    {
     "data": {
      "image/png": "[encoded data removed]",
      "text/plain": [
       "<Figure size 640x480 with 1 Axes>"
      ]
     },
     "metadata": {},
     "output_type": "display_data"
    }
   ],
   "source": [
    "plt.plot(train_losses, label=\"Train Loss\")\n",
    "plt.plot(validation_losses, label=\"Validation Loss\")\n",
    "plt.legend()\n",
    "plt.show()"
   ]
  },
  {
   "cell_type": "code",
   "execution_count": 174,
   "id": "001add56-52f0-41ba-8827-71f4afe1aa1f",
   "metadata": {},
   "outputs": [
    {
     "name": "stdout",
     "output_type": "stream",
     "text": [
      "Train Accuracy: 0.9489973627904662, Validation Accuracy: 0.5037157454714352\n"
     ]
    }
   ],
   "source": [
    "## getting accuracy\n",
    "with torch.no_grad():\n",
    "    model.eval()\n",
    "    n_correct = 0\n",
    "    count = 0\n",
    "    for inputs, targets in train_loader:\n",
    "        inputs, targets = inputs.to(device), targets.to(device)\n",
    "        outputs = model(inputs)\n",
    "        _, preds = torch.max(outputs, 1)\n",
    "        n_correct += sum(preds == targets).item()\n",
    "        count += len(targets)\n",
    "\n",
    "    train_acc = n_correct/count\n",
    "    \n",
    "    n_correct = 0\n",
    "    count = 0\n",
    "    for inputs, targets in validation_loader:\n",
    "        inputs, targets = inputs.to(device), targets.to(device)\n",
    "        outputs = model(inputs)\n",
    "        _, preds = torch.max(outputs, 1)\n",
    "        n_correct += sum(preds == targets).item()\n",
    "        count += len(targets)\n",
    "\n",
    "    validation_acc = n_correct/count\n",
    "\n",
    "print(f\"Train Accuracy: {train_acc}, Validation Accuracy: {validation_acc}\")"
   ]
  },
  {
   "cell_type": "code",
   "execution_count": null,
   "id": "06a21479-5099-4c95-88c1-3128a53dad5c",
   "metadata": {},
   "outputs": [],
   "source": []
  },
  {
   "cell_type": "code",
   "execution_count": null,
   "id": "8e01519c-e538-4cd6-9a07-4bd2e3597942",
   "metadata": {},
   "outputs": [],
   "source": []
  }
 ],
 "metadata": {
  "kernelspec": {
   "display_name": "Python 3 (ipykernel)",
   "language": "python",
   "name": "python3"
  },
  "language_info": {
   "codemirror_mode": {
    "name": "ipython",
    "version": 3
   },
   "file_extension": ".py",
   "mimetype": "text/x-python",
   "name": "python",
   "nbconvert_exporter": "python",
   "pygments_lexer": "ipython3",
   "version": "3.11.7"
  }
 },
 "nbformat": 4,
 "nbformat_minor": 5
}
