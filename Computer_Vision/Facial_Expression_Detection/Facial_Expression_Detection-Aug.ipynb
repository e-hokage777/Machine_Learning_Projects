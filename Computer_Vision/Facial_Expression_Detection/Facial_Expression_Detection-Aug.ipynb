{
 "cells": [
  {
   "cell_type": "markdown",
   "id": "b4a39908-bdc2-4129-a2a6-ea87e09dd1bc",
   "metadata": {},
   "source": [
    "<h1 style=\"text-align: center;\">Facial Expression Detection</h1>"
   ]
  },
  {
   "cell_type": "markdown",
   "id": "f235e19d-f07d-4ee5-adec-6ac0b3d7cb1c",
   "metadata": {},
   "source": [
    "Dataset can be downloaded [here](https://www.kaggle.com/competitions/challenges-in-representation-learning-facial-expression-recognition-challenge/data)"
   ]
  },
  {
   "cell_type": "code",
   "execution_count": 224,
   "id": "485c0473-77c7-4708-9501-2fe96b70fa7e",
   "metadata": {},
   "outputs": [],
   "source": [
    "import numpy as np\n",
    "import pandas as pd\n",
    "import matplotlib.pyplot as plt\n",
    "import torch\n",
    "import torch.nn as nn\n",
    "from torch.utils.data import Dataset, DataLoader, random_split\n",
    "import torchvision.transforms as transforms\n",
    "from sklearn.utils import shuffle\n",
    "from PIL import Image\n",
    "from datetime import datetime\n",
    "import math"
   ]
  },
  {
   "cell_type": "code",
   "execution_count": 225,
   "id": "33f6e6d8-9251-4813-b89f-e27d65f214e3",
   "metadata": {},
   "outputs": [],
   "source": [
    "def get_image(idx):\n",
    "    img = data.loc[idx, \"pixels\"]\n",
    "    img = np.array(img.split(), dtype=np.uint8).reshape(48,48)\n",
    "    return img"
   ]
  },
  {
   "cell_type": "code",
   "execution_count": 226,
   "id": "e9ce7607-95da-493e-9924-eef999631124",
   "metadata": {},
   "outputs": [],
   "source": [
    "## creating data generator\n",
    "def data_generator(data, indices, transform=None, batch_size=128):\n",
    "    n_batches = math.ceil(len(indices)/batch_size)\n",
    "\n",
    "    for i in range(n_batches):\n",
    "        batch_idxs = indices[i*batch_size:(i+1)*batch_size]\n",
    "        X_batch = []\n",
    "        y_batch = np.zeros(len(batch_idxs), dtype=np.uint8)\n",
    "        for i in range(len(batch_idxs)):\n",
    "            idx = batch_idxs[i]\n",
    "            img = data.loc[idx, \"pixels\"]\n",
    "            img = np.array(img.split(), dtype=np.uint8).reshape(48,48)\n",
    "            img = Image.fromarray(img)\n",
    "            if transform:\n",
    "                img = transform(img)\n",
    "                \n",
    "            target = data.loc[idx, \"emotion\"]\n",
    "\n",
    "            X_batch.append(img)\n",
    "            y_batch[i] = target\n",
    "\n",
    "        yield torch.stack(X_batch), torch.from_numpy(y_batch)"
   ]
  },
  {
   "cell_type": "code",
   "execution_count": 227,
   "id": "1778aff3-b5ed-41a7-bd74-2075985957fa",
   "metadata": {},
   "outputs": [],
   "source": [
    "import os"
   ]
  },
  {
   "cell_type": "code",
   "execution_count": 228,
   "id": "42523e8d-ddfd-4d45-aa3a-56f13654a8d8",
   "metadata": {},
   "outputs": [],
   "source": [
    "## getting labels\n",
    "# (0=Angry, 1=Disgust, 2=Fear, 3=Happy, 4=Sad, 5=Surprise, 6=Neutral)\n",
    "labels = {\n",
    "    0: \"Angry\",\n",
    "    1: \"Disgust\",\n",
    "    2: \"Fear\",\n",
    "    3: \"Happy\",\n",
    "    4: \"Sad\",\n",
    "    5: \"Surprise\",\n",
    "    6: \"Neutral\"\n",
    "}\n",
    "\n",
    "data_folder = \"x__data\"\n",
    "data = pd.read_csv(os.path.join(data_folder, \"train.csv\"))"
   ]
  },
  {
   "cell_type": "code",
   "execution_count": 229,
   "id": "fc14b8d5-b892-4f9a-8c3d-3989582b55d2",
   "metadata": {},
   "outputs": [
    {
     "data": {
      "image/png": "[encoded data removed]",
      "text/plain": [
       "<Figure size 640x480 with 1 Axes>"
      ]
     },
     "metadata": {},
     "output_type": "display_data"
    }
   ],
   "source": [
    "## visualizing single image\n",
    "rand_idx = np.random.choice(len(data))\n",
    "img = get_image(rand_idx)\n",
    "plt.imshow(img, cmap=\"gray\")\n",
    "plt.show()"
   ]
  },
  {
   "cell_type": "code",
   "execution_count": 230,
   "id": "6dbf31be-7891-49c0-b186-e5839de0130a",
   "metadata": {},
   "outputs": [],
   "source": [
    "## dividing the indices\n",
    "random_state = 235\n",
    "validation_size = 0.3\n",
    "n = len(data)\n",
    "validation_end_idx = math.floor(validation_size * n)\n",
    "\n",
    "new_idxs = shuffle(list(data.index), random_state=random_state)\n",
    "validation_idxs, train_idxs = new_idxs[:validation_end_idx], new_idxs[validation_end_idx:]"
   ]
  },
  {
   "cell_type": "code",
   "execution_count": 231,
   "id": "a8e31253-d7fa-4032-b583-fadd2c9ee5eb",
   "metadata": {},
   "outputs": [],
   "source": [
    "## creating data generators\n",
    "batch_size = 128\n",
    "\n",
    "train_transforms = transforms.Compose([\n",
    "    transforms.RandomHorizontalFlip(0.5),\n",
    "    transforms.ToTensor()\n",
    "])\n",
    "validation_transforms = transforms.ToTensor()\n",
    "\n",
    "train_generator = lambda : data_generator(data, train_idxs, train_transforms, batch_size)\n",
    "validation_generator = lambda : data_generator(data, validation_idxs, validation_transforms, batch_size)"
   ]
  },
  {
   "cell_type": "code",
   "execution_count": 232,
   "id": "f6295162-39dd-499e-8061-55a6557a71b0",
   "metadata": {},
   "outputs": [],
   "source": [
    "# np.vstack(data.loc[[0,1,2,3], \"pixels\"].apply(lambda x: np.array(x.split())).values).reshape(-1, 48, 48).shape"
   ]
  },
  {
   "cell_type": "code",
   "execution_count": 233,
   "id": "d0f8b369-86a0-4420-a7e6-74048ecdb299",
   "metadata": {},
   "outputs": [],
   "source": [
    "## creating model\n",
    "class CNN(nn.Module):\n",
    "    def __init__(self, output_size):\n",
    "        super(CNN, self).__init__()\n",
    "\n",
    "        self.K = output_size\n",
    "\n",
    "        self.cnn = nn.Sequential(\n",
    "            nn.Conv2d(in_channels=1, out_channels=32, kernel_size=3, padding=1),\n",
    "            nn.ReLU(),\n",
    "            nn.MaxPool2d(2),\n",
    "            nn.Conv2d(in_channels=32, out_channels=64, kernel_size=3, padding=1),\n",
    "            nn.ReLU(),\n",
    "            nn.MaxPool2d(2),\n",
    "            nn.Conv2d(in_channels=64, out_channels=128, kernel_size=3, padding=1),\n",
    "            nn.ReLU(),\n",
    "            nn.MaxPool2d(2)\n",
    "        )\n",
    "\n",
    "        self.fc = nn.Sequential(\n",
    "            nn.Dropout(0.2),\n",
    "            nn.Linear(6*6*128, 128),\n",
    "            nn.ReLU(),\n",
    "            nn.Linear(128, 64),\n",
    "            nn.ReLU(),\n",
    "            # nn.Linear(64, 32),\n",
    "            # nn.ReLU(),\n",
    "            nn.Linear(64, self.K)\n",
    "        )\n",
    "\n",
    "    def forward(self, X):\n",
    "        out = self.cnn(X)\n",
    "        out = self.fc(out.view(out.shape[0], -1))\n",
    "        return out"
   ]
  },
  {
   "cell_type": "code",
   "execution_count": 234,
   "id": "e103c771-53cd-494b-8628-05d2aa351029",
   "metadata": {},
   "outputs": [
    {
     "data": {
      "text/plain": [
       "device(type='cpu')"
      ]
     },
     "execution_count": 234,
     "metadata": {},
     "output_type": "execute_result"
    }
   ],
   "source": [
    "device = torch.device(\"cuda:0\" if torch.cuda.is_available() else \"cpu\")\n",
    "device"
   ]
  },
  {
   "cell_type": "code",
   "execution_count": 235,
   "id": "7611450e-5b95-4373-abba-5df271277125",
   "metadata": {},
   "outputs": [
    {
     "data": {
      "text/plain": [
       "CNN(\n",
       "  (cnn): Sequential(\n",
       "    (0): Conv2d(1, 32, kernel_size=(3, 3), stride=(1, 1), padding=(1, 1))\n",
       "    (1): ReLU()\n",
       "    (2): MaxPool2d(kernel_size=2, stride=2, padding=0, dilation=1, ceil_mode=False)\n",
       "    (3): Conv2d(32, 64, kernel_size=(3, 3), stride=(1, 1), padding=(1, 1))\n",
       "    (4): ReLU()\n",
       "    (5): MaxPool2d(kernel_size=2, stride=2, padding=0, dilation=1, ceil_mode=False)\n",
       "    (6): Conv2d(64, 128, kernel_size=(3, 3), stride=(1, 1), padding=(1, 1))\n",
       "    (7): ReLU()\n",
       "    (8): MaxPool2d(kernel_size=2, stride=2, padding=0, dilation=1, ceil_mode=False)\n",
       "  )\n",
       "  (fc): Sequential(\n",
       "    (0): Dropout(p=0.2, inplace=False)\n",
       "    (1): Linear(in_features=4608, out_features=128, bias=True)\n",
       "    (2): ReLU()\n",
       "    (3): Linear(in_features=128, out_features=64, bias=True)\n",
       "    (4): ReLU()\n",
       "    (5): Linear(in_features=64, out_features=7, bias=True)\n",
       "  )\n",
       ")"
      ]
     },
     "execution_count": 235,
     "metadata": {},
     "output_type": "execute_result"
    }
   ],
   "source": [
    "model = CNN(len(labels))\n",
    "model.to(device)"
   ]
  },
  {
   "cell_type": "code",
   "execution_count": 236,
   "id": "ec15bf30-356f-4d77-9461-97c5a2b94fc7",
   "metadata": {},
   "outputs": [],
   "source": [
    "## creating criterion and optimizer\n",
    "criterion = nn.CrossEntropyLoss()\n",
    "optimizer = torch.optim.Adam(model.parameters())"
   ]
  },
  {
   "cell_type": "code",
   "execution_count": 237,
   "id": "bfea4c99-8bcf-4863-9729-56815ef7f2c8",
   "metadata": {},
   "outputs": [],
   "source": [
    "## creating batch gradient descent function\n",
    "def batch_gd(model, criterion, optimizer, train_loader, validation_loader, epochs=20):\n",
    "    train_losses = []\n",
    "    validation_losses = []\n",
    "\n",
    "    for it in range(epochs):\n",
    "        t0 = datetime.now()\n",
    "        epoch_losses = []\n",
    "        model.train()\n",
    "        for inputs, targets in train_loader():\n",
    "            optimizer.zero_grad()\n",
    "            inputs, targets = inputs.to(device), targets.to(device)\n",
    "            outputs = model(inputs)\n",
    "            loss = criterion(outputs, targets)\n",
    "\n",
    "            loss.backward()\n",
    "            optimizer.step()\n",
    "            \n",
    "            epoch_losses.append(loss.item())\n",
    "            \n",
    "        train_losses.append(np.mean(epoch_losses))\n",
    "\n",
    "        \n",
    "        epoch_losses = []\n",
    "        model.eval()\n",
    "        for inputs, targets in validation_loader():\n",
    "            inputs, targets = inputs.to(device), targets.to(device)\n",
    "            outputs = model(inputs)\n",
    "            loss = criterion(outputs, targets)\n",
    "            \n",
    "            epoch_losses.append(loss.item())\n",
    "            \n",
    "        validation_losses.append(np.mean(epoch_losses))\n",
    "\n",
    "        dt = datetime.now() - t0\n",
    "\n",
    "        print(f\"Epoch {it+1}/{epochs}, Train Loss: {train_losses[it]}, Validation Loss: {validation_losses[it]}, Duration: {dt}\")\n",
    "\n",
    "    return train_losses, validation_losses"
   ]
  },
  {
   "cell_type": "code",
   "execution_count": 238,
   "id": "2d92b721-f009-47fd-8e60-48c9e10d2dd0",
   "metadata": {},
   "outputs": [
    {
     "name": "stdout",
     "output_type": "stream",
     "text": [
      "Epoch 1/20, Train Loss: 1.7800350883339024, Validation Loss: 1.770391634281944, Duration: 0:01:40.406964\n",
      "Epoch 2/20, Train Loss: 1.624026458286032, Validation Loss: 1.6182516076985527, Duration: 0:01:53.909340\n",
      "Epoch 3/20, Train Loss: 1.5012117216858683, Validation Loss: 1.5485254385892082, Duration: 0:01:46.134574\n",
      "Epoch 4/20, Train Loss: 1.4217230149344364, Validation Loss: 1.424833646591972, Duration: 0:02:27.849424\n",
      "Epoch 5/20, Train Loss: 1.347093010038326, Validation Loss: 1.367024945862153, Duration: 0:02:28.599712\n",
      "Epoch 6/20, Train Loss: 1.3038081330589102, Validation Loss: 1.801540981320774, Duration: 0:02:03.899237\n",
      "Epoch 7/20, Train Loss: 1.3139165911375532, Validation Loss: 1.3010417222976685, Duration: 0:01:57.773062\n",
      "Epoch 8/20, Train Loss: 1.2163845271437983, Validation Loss: 1.3030586698476005, Duration: 0:02:20.723871\n",
      "Epoch 9/20, Train Loss: 1.184274589439524, Validation Loss: 1.2573429854477154, Duration: 0:02:26.981117\n",
      "Epoch 10/20, Train Loss: 1.150814344876599, Validation Loss: 1.2434593561817617, Duration: 0:02:25.783673\n",
      "Epoch 11/20, Train Loss: 1.1225225738650542, Validation Loss: 1.2318142968065597, Duration: 0:02:30.995635\n",
      "Epoch 12/20, Train Loss: 1.0956441881252994, Validation Loss: 1.2153040074250276, Duration: 0:02:55.039161\n",
      "Epoch 13/20, Train Loss: 1.0737492161054354, Validation Loss: 1.213687859913882, Duration: 0:02:31.681221\n",
      "Epoch 14/20, Train Loss: 1.0494217728146742, Validation Loss: 1.2019249665386535, Duration: 0:01:56.670418\n",
      "Epoch 15/20, Train Loss: 1.0227212512488417, Validation Loss: 1.1973167035509558, Duration: 0:01:56.622428\n",
      "Epoch 16/20, Train Loss: 1.0087024084752119, Validation Loss: 1.2033501223606222, Duration: 0:01:56.459233\n",
      "Epoch 17/20, Train Loss: 0.9855727855266437, Validation Loss: 1.1928858643068987, Duration: 0:01:50.915986\n",
      "Epoch 18/20, Train Loss: 0.9666159176827656, Validation Loss: 1.2095633692601149, Duration: 0:01:53.646015\n",
      "Epoch 19/20, Train Loss: 0.9529021136061866, Validation Loss: 1.1975856213008655, Duration: 0:01:55.696522\n",
      "Epoch 20/20, Train Loss: 0.9295893245188024, Validation Loss: 1.2241975691388636, Duration: 0:01:50.274894\n"
     ]
    }
   ],
   "source": [
    "train_losses, validation_losses = batch_gd(model,\n",
    "                                           criterion,\n",
    "                                           optimizer,\n",
    "                                           train_generator,\n",
    "                                           validation_generator,\n",
    "                                           epochs=20\n",
    "                                          )"
   ]
  },
  {
   "cell_type": "code",
   "execution_count": 239,
   "id": "16d2d1fa-2563-4e62-af04-1aa47dcbd3a7",
   "metadata": {},
   "outputs": [
    {
     "data": {
      "image/png": "[encoded data removed]",
      "text/plain": [
       "<Figure size 640x480 with 1 Axes>"
      ]
     },
     "metadata": {},
     "output_type": "display_data"
    }
   ],
   "source": [
    "plt.plot(train_losses, label=\"Train Loss\")\n",
    "plt.plot(validation_losses, label=\"Validation Loss\")\n",
    "plt.legend()\n",
    "plt.show()"
   ]
  },
  {
   "cell_type": "code",
   "execution_count": 240,
   "id": "001add56-52f0-41ba-8827-71f4afe1aa1f",
   "metadata": {},
   "outputs": [
    {
     "name": "stdout",
     "output_type": "stream",
     "text": [
      "Train Accuracy: 0.6780116435288849, Validation Accuracy: 0.5520204366000929\n"
     ]
    }
   ],
   "source": [
    "## getting accuracy\n",
    "with torch.no_grad():\n",
    "    model.eval()\n",
    "    n_correct = 0\n",
    "    count = 0\n",
    "    for inputs, targets in train_generator():\n",
    "        inputs, targets = inputs.to(device), targets.to(device)\n",
    "        outputs = model(inputs)\n",
    "        _, preds = torch.max(outputs, 1)\n",
    "        n_correct += sum(preds == targets).item()\n",
    "        count += len(targets)\n",
    "\n",
    "    train_acc = n_correct/count\n",
    "    \n",
    "    n_correct = 0\n",
    "    count = 0\n",
    "    for inputs, targets in validation_generator():\n",
    "        inputs, targets = inputs.to(device), targets.to(device)\n",
    "        outputs = model(inputs)\n",
    "        _, preds = torch.max(outputs, 1)\n",
    "        n_correct += sum(preds == targets).item()\n",
    "        count += len(targets)\n",
    "\n",
    "    validation_acc = n_correct/count\n",
    "\n",
    "print(f\"Train Accuracy: {train_acc}, Validation Accuracy: {validation_acc}\")"
   ]
  },
  {
   "cell_type": "code",
   "execution_count": null,
   "id": "06a21479-5099-4c95-88c1-3128a53dad5c",
   "metadata": {},
   "outputs": [],
   "source": []
  },
  {
   "cell_type": "code",
   "execution_count": null,
   "id": "8e01519c-e538-4cd6-9a07-4bd2e3597942",
   "metadata": {},
   "outputs": [],
   "source": []
  }
 ],
 "metadata": {
  "kernelspec": {
   "display_name": "Python 3 (ipykernel)",
   "language": "python",
   "name": "python3"
  },
  "language_info": {
   "codemirror_mode": {
    "name": "ipython",
    "version": 3
   },
   "file_extension": ".py",
   "mimetype": "text/x-python",
   "name": "python",
   "nbconvert_exporter": "python",
   "pygments_lexer": "ipython3",
   "version": "3.11.7"
  }
 },
 "nbformat": 4,
 "nbformat_minor": 5
}
