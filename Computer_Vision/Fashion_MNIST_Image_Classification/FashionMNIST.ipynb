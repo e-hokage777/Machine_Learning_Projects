{
 "cells": [
  {
   "cell_type": "markdown",
   "id": "b6a5021a-402f-4e1a-8d9f-7605327604b2",
   "metadata": {},
   "source": [
    "<h1 style=\"text-align: center\">FashionMNIST Image Classification with Pytorch</h1>"
   ]
  },
  {
   "cell_type": "code",
   "execution_count": 1,
   "id": "724233ae",
   "metadata": {},
   "outputs": [],
   "source": [
    "import numpy as np\n",
    "import torch\n",
    "import torch.nn as nn\n",
    "import torchvision\n",
    "import torchvision.transforms as transforms\n",
    "from datetime import datetime\n",
    "import math\n",
    "import matplotlib.pyplot as plt\n",
    "import seaborn as sns\n",
    "from sklearn.metrics import confusion_matrix"
   ]
  },
  {
   "cell_type": "code",
   "execution_count": 2,
   "id": "9f2495a5",
   "metadata": {},
   "outputs": [],
   "source": [
    "## funciton to calculate width and height of convolution layer\n",
    "def conv_out_dim(shape_in, padding=[0,0], dialation=[1,1], kernel_size=[2,2], stride=[1,1]):\n",
    "#     dim = 0\n",
    "    dimensions = []\n",
    "    for dim in range(2):\n",
    "        dimension = (shape_in[dim]+2*padding[dim]-dialation[dim]*(kernel_size[dim]-1)-1)/stride[dim] + 1\n",
    "        dimensions.append(math.floor(dimension))\n",
    "    return dimensions"
   ]
  },
  {
   "cell_type": "code",
   "execution_count": 3,
   "id": "e2eecc6a",
   "metadata": {},
   "outputs": [],
   "source": [
    "# out1 = conv_out_dim([28,28], kernel_size=[3,3], stride=[2,2])\n",
    "# out2 = conv_out_dim(out1, kernel_size=[3,3], stride=[2,2])\n",
    "# out3 = conv_out_dim(out2, kernel_size=[3,3], stride=[2,2])\n",
    "# out3"
   ]
  },
  {
   "cell_type": "code",
   "execution_count": 4,
   "id": "8239fa71",
   "metadata": {},
   "outputs": [],
   "source": [
    "train_dataset = torchvision.datasets.FashionMNIST(\n",
    "    root=\".\",\n",
    "    train=True,\n",
    "    transform=transforms.ToTensor(),\n",
    "    download=True\n",
    ")"
   ]
  },
  {
   "cell_type": "code",
   "execution_count": 5,
   "id": "f98e09da",
   "metadata": {},
   "outputs": [],
   "source": [
    "test_dataset = torchvision.datasets.FashionMNIST(\n",
    "    root=\".\",\n",
    "    train=False,\n",
    "    transform=transforms.ToTensor(),\n",
    "    download=True\n",
    ")"
   ]
  },
  {
   "cell_type": "code",
   "execution_count": 6,
   "id": "6edbe59d",
   "metadata": {},
   "outputs": [
    {
     "name": "stdout",
     "output_type": "stream",
     "text": [
      "Max Pixel Value: 255\n",
      "Min Pixel Value: 0\n",
      "Dimension of Image: torch.Size([28, 28])\n",
      "Target Values: tensor([0, 1, 2, 3, 4, 5, 6, 7, 8, 9])\n"
     ]
    }
   ],
   "source": [
    "## inspecting the data\n",
    "print(\"Max Pixel Value:\", train_dataset.data.max().item())\n",
    "print(\"Min Pixel Value:\", train_dataset.data.min().item())\n",
    "print(\"Dimension of Image:\", train_dataset.data[0].shape)\n",
    "print(\"Target Values:\",train_dataset.targets.unique())"
   ]
  },
  {
   "cell_type": "code",
   "execution_count": 7,
   "id": "f1924857",
   "metadata": {},
   "outputs": [],
   "source": [
    "## Creating CNN\n",
    "class CNN(nn.Module):\n",
    "    def __init__(self, K):\n",
    "        super(CNN, self).__init__()\n",
    "        self.conv_layers = nn.Sequential(nn.Conv2d(in_channels=1, out_channels=32, kernel_size=3, stride=2),\n",
    "                                         nn.ReLU(),\n",
    "                                         nn.Conv2d(in_channels=32, out_channels=64, kernel_size=3, stride=2),\n",
    "                                         nn.ReLU(),\n",
    "                                         nn.Conv2d(in_channels=64, out_channels=128, kernel_size=3, stride=2),\n",
    "                                         nn.ReLU()\n",
    "                                        )\n",
    "        \n",
    "        self.dense_layers = nn.Sequential(nn.Dropout(0.2),\n",
    "                                          nn.Linear(2*2*128, 512),\n",
    "                                          nn.ReLU(),\n",
    "                                          nn.Dropout(0.2),\n",
    "                                          nn.Linear(512, K)\n",
    "                                         )\n",
    "    \n",
    "    ## overriding forward function\n",
    "    def forward(self, X):\n",
    "        out = self.conv_layers(X)\n",
    "        out = out.view(out.size(0), -1)\n",
    "        out = self.dense_layers(out)\n",
    "        return out"
   ]
  },
  {
   "cell_type": "code",
   "execution_count": 8,
   "id": "b7504233",
   "metadata": {},
   "outputs": [],
   "source": [
    "## creating model, criterion and optimizer\n",
    "model = CNN(train_dataset.targets.unique().size(0))\n",
    "criterion = nn.CrossEntropyLoss()\n",
    "optimizer = torch.optim.Adam(model.parameters())"
   ]
  },
  {
   "cell_type": "code",
   "execution_count": 149,
   "id": "a752ca3e",
   "metadata": {},
   "outputs": [],
   "source": [
    "## building loaders for data\n",
    "batch_size = 128\n",
    "train_loader = torch.utils.data.DataLoader(dataset=train_dataset,\n",
    "                                      batch_size=batch_size,\n",
    "                                      shuffle=True\n",
    "                                     )\n",
    "\n",
    "test_loader = torch.utils.data.DataLoader(dataset=test_dataset,\n",
    "                                     batch_size=batch_size,\n",
    "                                     shuffle=False\n",
    "                                    )"
   ]
  },
  {
   "cell_type": "code",
   "execution_count": 126,
   "id": "f46912d7",
   "metadata": {},
   "outputs": [],
   "source": [
    "## training loop\n",
    "\n",
    "def train_model(model, criterion, optimizer, train_loader, test_loader, epochs):\n",
    "    train_losses = []\n",
    "    test_losses = []\n",
    "    for it in range(epochs):\n",
    "        epoch_start_time = datetime.now()## start time at start of epoch\n",
    "        model.train() ## for the dropouts layer\n",
    "        epoch_train_losses = []\n",
    "        for train_inputs, train_targets in train_loader:\n",
    "            optimizer.zero_grad()\n",
    "            train_outputs = model(train_inputs)\n",
    "            train_loss = criterion(train_outputs, train_targets)\n",
    "            train_loss.backward()\n",
    "            optimizer.step()\n",
    "            epoch_train_losses.append(train_loss.item())\n",
    "            \n",
    "        ## average of all epoch train losses\n",
    "        train_losses.append(np.mean(epoch_train_losses))\n",
    "            \n",
    "        model.eval() ## also for the dropout layers\n",
    "        epoch_test_losses = []\n",
    "        for test_inputs, test_targets in test_loader:\n",
    "            test_outputs = model(test_inputs)\n",
    "            test_loss = criterion(test_outputs, test_targets)\n",
    "            epoch_test_losses.append(test_loss.item())\n",
    "            \n",
    "        ## average of all epoch test losses\n",
    "        test_losses.append(np.mean(epoch_test_losses))\n",
    "        \n",
    "        dt = datetime.now() - epoch_start_time ## running time of epoch\n",
    "        \n",
    "        print(f\"Epoch {it+1}/{epochs}, Train Loss: {train_loss:.4f}, Test Loss {test_loss:.4f}, Duration{dt}\")\n",
    "        \n",
    "    return train_losses, test_losses"
   ]
  },
  {
   "cell_type": "code",
   "execution_count": 129,
   "id": "644718e0",
   "metadata": {},
   "outputs": [
    {
     "name": "stdout",
     "output_type": "stream",
     "text": [
      "Epoch 1/10, Train Loss: 0.5008, Test Loss0.0922, Duration0:00:37.034124\n",
      "Epoch 2/10, Train Loss: 0.2988, Test Loss0.2378, Duration0:00:35.461999\n",
      "Epoch 3/10, Train Loss: 0.3229, Test Loss0.5097, Duration0:00:35.285997\n",
      "Epoch 4/10, Train Loss: 0.4170, Test Loss0.6783, Duration0:00:35.445004\n",
      "Epoch 5/10, Train Loss: 0.2191, Test Loss0.2542, Duration0:00:35.520999\n",
      "Epoch 6/10, Train Loss: 0.2888, Test Loss0.6163, Duration0:00:35.993001\n",
      "Epoch 7/10, Train Loss: 0.3137, Test Loss0.6253, Duration0:00:36.092999\n",
      "Epoch 8/10, Train Loss: 0.1898, Test Loss0.2807, Duration0:00:36.236003\n",
      "Epoch 9/10, Train Loss: 0.1317, Test Loss0.5146, Duration0:00:35.904001\n",
      "Epoch 10/10, Train Loss: 0.1836, Test Loss0.1220, Duration0:00:36.032008\n"
     ]
    }
   ],
   "source": [
    "train_losses, test_losses = train_model(model,\n",
    "                                        criterion,\n",
    "                                        optimizer,\n",
    "                                        train_loader,\n",
    "                                        test_loader,\n",
    "                                        10\n",
    "                                       )"
   ]
  },
  {
   "cell_type": "code",
   "execution_count": 136,
   "id": "4e0d986a",
   "metadata": {},
   "outputs": [
    {
     "data": {
      "image/png": "[encoded data removed]",
      "text/plain": [
       "<Figure size 1008x504 with 1 Axes>"
      ]
     },
     "metadata": {
      "needs_background": "light"
     },
     "output_type": "display_data"
    }
   ],
   "source": [
    "## plotting train and test loss\n",
    "fig = plt.figure(figsize=(14,7))\n",
    "plt.plot(train_losses, label=\"Train loss\")\n",
    "plt.plot(test_losses, label=\"Test loss\")\n",
    "plt.legend()\n",
    "plt.show()"
   ]
  },
  {
   "cell_type": "code",
   "execution_count": 143,
   "id": "4566cf9f",
   "metadata": {},
   "outputs": [
    {
     "name": "stdout",
     "output_type": "stream",
     "text": [
      "Train Accuracy: 0.9361, Test Accuracy: 0.8955\n"
     ]
    }
   ],
   "source": [
    "## Getting Accuracy\n",
    "\n",
    "model.eval()\n",
    "\n",
    "## train accuracy\n",
    "n_correct = 0\n",
    "n_targets=0\n",
    "for inputs, targets in train_loader:\n",
    "    outputs = model(inputs)\n",
    "    _, preds = torch.max(outputs, 1)\n",
    "    n_correct += (preds == targets).sum().item()\n",
    "    n_targets += targets.shape[0]\n",
    "    \n",
    "    train_acc = n_correct/n_targets\n",
    "    \n",
    "\n",
    "## test accuracy\n",
    "n_correct = 0\n",
    "n_targets=0\n",
    "for inputs, targets in test_loader:\n",
    "    outputs = model(inputs)\n",
    "    _, preds = torch.max(outputs, 1)\n",
    "    n_correct += (preds == targets).sum().item()\n",
    "    n_targets += targets.shape[0]\n",
    "    \n",
    "    test_acc = n_correct/n_targets\n",
    "    \n",
    "print(f\"Train Accuracy: {train_acc:.4f}, Test Accuracy: {test_acc:.4f}\")"
   ]
  },
  {
   "cell_type": "code",
   "execution_count": 151,
   "id": "99e761b4",
   "metadata": {},
   "outputs": [],
   "source": [
    "## making confusion matrix for test data\n",
    "model.eval()\n",
    "X_test = test_dataset.data\n",
    "y_test = test_dataset.targets.numpy()\n",
    "p_test = np.array([])\n",
    "\n",
    "for X,y in test_loader:\n",
    "    preds = model(X)\n",
    "    _,preds = torch.max(preds, 1)\n",
    "    p_test=np.concatenate([p_test, preds])"
   ]
  },
  {
   "cell_type": "code",
   "execution_count": 152,
   "id": "d2b6f0e5",
   "metadata": {},
   "outputs": [
    {
     "data": {
      "image/png": "[encoded data removed]",
      "text/plain": [
       "<Figure size 864x432 with 2 Axes>"
      ]
     },
     "metadata": {
      "needs_background": "light"
     },
     "output_type": "display_data"
    }
   ],
   "source": [
    "cm = confusion_matrix(y_test,p_test)\n",
    "\n",
    "\n",
    "fig = plt.figure(figsize=(12,6))\n",
    "sns.heatmap(cm, annot=True, square=True, cmap=\"Blues\", fmt=\"\")\n",
    "plt.show()"
   ]
  },
  {
   "cell_type": "code",
   "execution_count": 161,
   "id": "8fdd52e3",
   "metadata": {},
   "outputs": [],
   "source": [
    "labels = train_dataset.classes"
   ]
  },
  {
   "cell_type": "code",
   "execution_count": 167,
   "id": "cd6d74e1",
   "metadata": {},
   "outputs": [
    {
     "data": {
      "text/plain": [
       "['T-shirt/top',\n",
       " 'Trouser',\n",
       " 'Pullover',\n",
       " 'Dress',\n",
       " 'Coat',\n",
       " 'Sandal',\n",
       " 'Shirt',\n",
       " 'Sneaker',\n",
       " 'Bag',\n",
       " 'Ankle boot']"
      ]
     },
     "execution_count": 167,
     "metadata": {},
     "output_type": "execute_result"
    }
   ],
   "source": [
    "labels"
   ]
  },
  {
   "cell_type": "code",
   "execution_count": 189,
   "id": "5f8d772c",
   "metadata": {},
   "outputs": [
    {
     "data": {
      "image/png": "[encoded data removed]",
      "text/plain": [
       "<Figure size 432x432 with 1 Axes>"
      ]
     },
     "metadata": {
      "needs_background": "light"
     },
     "output_type": "display_data"
    }
   ],
   "source": [
    "miss_idxs = np.where(y_test != p_test)[0]\n",
    "i = np.random.choice(miss_idxs)\n",
    "fig = plt.figure(figsize=(6,6))\n",
    "plt.title(f\"True Label {labels[int(y_test[i])]} Predicted Label {labels[int(p_test[i])]}\")\n",
    "plt.imshow(X_test[i].reshape(28,-1), cmap=\"gray\")\n",
    "plt.show()"
   ]
  }
 ],
 "metadata": {
  "kernelspec": {
   "display_name": "Python 3 (ipykernel)",
   "language": "python",
   "name": "python3"
  },
  "language_info": {
   "codemirror_mode": {
    "name": "ipython",
    "version": 3
   },
   "file_extension": ".py",
   "mimetype": "text/x-python",
   "name": "python",
   "nbconvert_exporter": "python",
   "pygments_lexer": "ipython3",
   "version": "3.11.7"
  }
 },
 "nbformat": 4,
 "nbformat_minor": 5
}
