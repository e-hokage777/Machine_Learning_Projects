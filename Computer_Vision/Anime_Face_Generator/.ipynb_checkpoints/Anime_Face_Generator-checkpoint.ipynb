{
 "cells": [
  {
   "cell_type": "code",
   "execution_count": 1,
   "id": "6921c745-7dd0-411a-a400-344dac9ed4e9",
   "metadata": {},
   "outputs": [],
   "source": [
    "import numpy as np\n",
    "import matplotlib.pyplot as plt\n",
    "\n",
    "import torch\n",
    "import torch.nn as nn\n",
    "from torch.utils.data import DataLoader\n",
    "from torchvision import transforms\n",
    "from torchvision.datasets import ImageFolder\n",
    "from torchvision.utils import save_image\n",
    "\n",
    "import os\n",
    "from datetime import datetime"
   ]
  },
  {
   "cell_type": "code",
   "execution_count": 2,
   "id": "9a6d8f87-71ce-4e0c-986e-809fe0e83ced",
   "metadata": {},
   "outputs": [],
   "source": [
    "## creating function to rescale data from -1 to 1 to 0 to 1\n",
    "def img_rescale(img):\n",
    "    return (img + 1) * 0.5"
   ]
  },
  {
   "cell_type": "code",
   "execution_count": 3,
   "id": "6cbb3689-258b-40dc-b05b-ab5395625ff9",
   "metadata": {},
   "outputs": [],
   "source": [
    "## creating folder for saving images\n",
    "if not os.path.exists(\"gan_images\"):\n",
    "    os.makedirs(\"gan_images\")"
   ]
  },
  {
   "cell_type": "code",
   "execution_count": 4,
   "id": "41932029-9e10-48c6-a007-8d807dbb3baa",
   "metadata": {},
   "outputs": [],
   "source": [
    "## creating the transformers\n",
    "resize_shape = (50, 50)\n",
    "transform = transforms.Compose([\n",
    "    transforms.Resize(resize_shape),\n",
    "    transforms.ToTensor(),\n",
    "    transforms.Normalize(mean=[0.5,0.5,0.5], std=[0.5,0.5,0.5])\n",
    "])"
   ]
  },
  {
   "cell_type": "code",
   "execution_count": 5,
   "id": "6a8efe6f-3296-4f96-a001-c9b6baef3ef6",
   "metadata": {},
   "outputs": [],
   "source": [
    "## getting images dataset\n",
    "root = \"data\"\n",
    "dataset = ImageFolder(root, transform=transform)"
   ]
  },
  {
   "cell_type": "code",
   "execution_count": 21,
   "id": "b75f20aa-a0b5-4696-a9a6-bef767e369d2",
   "metadata": {},
   "outputs": [
    {
     "data": {
      "image/png": "[encoded data removed]",
      "text/plain": [
       "<Figure size 432x288 with 1 Axes>"
      ]
     },
     "metadata": {
      "needs_background": "light"
     },
     "output_type": "display_data"
    }
   ],
   "source": [
    "idx = np.random.randint(len(dataset))\n",
    "plt.imshow(img_rescale(dataset[idx][0].permute(1,2,0)))\n",
    "plt.axis(False)\n",
    "plt.show()"
   ]
  },
  {
   "cell_type": "code",
   "execution_count": 124,
   "id": "b82d9a23-30a3-4566-b368-47a4361b6c4f",
   "metadata": {},
   "outputs": [],
   "source": [
    "## creating models\n",
    "input_size = resize_shape[0] * resize_shape[1] * 3\n",
    "latent_size = 150\n",
    "\n",
    "## creating the discriminator\n",
    "discriminator = nn.Sequential(\n",
    "    nn.Linear(input_size, 1024),\n",
    "    nn.LeakyReLU(0.2),\n",
    "    nn.Linear(1024, 512),\n",
    "    nn.LeakyReLU(0.2),\n",
    "    nn.Linear(512, 256),\n",
    "    nn.LeakyReLU(0.2),\n",
    "    nn.Linear(256, 1)\n",
    ")\n",
    "\n",
    "## creating generator\n",
    "generator = nn.Sequential(\n",
    "    nn.Linear(latent_size, 256),\n",
    "    nn.LeakyReLU(0.2),\n",
    "    nn.BatchNorm1d(256),\n",
    "    nn.Linear(256, 512),\n",
    "    nn.LeakyReLU(0.2),\n",
    "    nn.BatchNorm1d(512),\n",
    "    nn.Linear(512, 1024),\n",
    "    nn.LeakyReLU(0.2),\n",
    "    nn.BatchNorm1d(1024),\n",
    "    nn.Linear(1024, input_size),\n",
    "    nn.Tanh()\n",
    ")"
   ]
  },
  {
   "cell_type": "code",
   "execution_count": 125,
   "id": "3a6678b7-0c4e-48f8-9e53-c5306eacc372",
   "metadata": {},
   "outputs": [
    {
     "data": {
      "text/plain": [
       "device(type='cpu')"
      ]
     },
     "execution_count": 125,
     "metadata": {},
     "output_type": "execute_result"
    }
   ],
   "source": [
    "## getting the device\n",
    "device = torch.device(\"cuda:0\" if torch.cuda.is_available() else \"cpu\")\n",
    "device"
   ]
  },
  {
   "cell_type": "code",
   "execution_count": 126,
   "id": "32f4c8ba-5854-4ffe-b56c-85ffcd0657cd",
   "metadata": {},
   "outputs": [
    {
     "data": {
      "text/plain": [
       "Sequential(\n",
       "  (0): Linear(in_features=150, out_features=256, bias=True)\n",
       "  (1): LeakyReLU(negative_slope=0.2)\n",
       "  (2): BatchNorm1d(256, eps=1e-05, momentum=0.1, affine=True, track_running_stats=True)\n",
       "  (3): Linear(in_features=256, out_features=512, bias=True)\n",
       "  (4): LeakyReLU(negative_slope=0.2)\n",
       "  (5): BatchNorm1d(512, eps=1e-05, momentum=0.1, affine=True, track_running_stats=True)\n",
       "  (6): Linear(in_features=512, out_features=1024, bias=True)\n",
       "  (7): LeakyReLU(negative_slope=0.2)\n",
       "  (8): BatchNorm1d(1024, eps=1e-05, momentum=0.1, affine=True, track_running_stats=True)\n",
       "  (9): Linear(in_features=1024, out_features=7500, bias=True)\n",
       "  (10): Tanh()\n",
       ")"
      ]
     },
     "execution_count": 126,
     "metadata": {},
     "output_type": "execute_result"
    }
   ],
   "source": [
    "## moving to device\n",
    "discriminator.to(device)\n",
    "generator.to(device)"
   ]
  },
  {
   "cell_type": "code",
   "execution_count": 127,
   "id": "304e5fa5-15fc-4d49-8e62-a45c72e4d41a",
   "metadata": {},
   "outputs": [],
   "source": [
    "## creating loss and optimizer\n",
    "criterion = nn.BCEWithLogitsLoss()\n",
    "d_optimizer = torch.optim.Adam(discriminator.parameters())\n",
    "g_optimizer = torch.optim.Adam(generator.parameters())"
   ]
  },
  {
   "cell_type": "code",
   "execution_count": 128,
   "id": "f7e22f1c-01e4-442d-aeb2-09e06cebfde3",
   "metadata": {},
   "outputs": [],
   "source": [
    "## creating the dataloaders\n",
    "batch_size = 128\n",
    "loader = DataLoader(dataset, batch_size=batch_size, shuffle=True)"
   ]
  },
  {
   "cell_type": "code",
   "execution_count": 129,
   "id": "551bccdc-008f-4638-8c04-6ebadcfbfa2c",
   "metadata": {},
   "outputs": [],
   "source": [
    "## creating the training function\n",
    "def batch_gd(data_loader, criterion, discriminator=None, generator=None, d_optimizer=None, g_optimizer=None, epochs=100):\n",
    "    assert discriminator and generator and d_optimizer and g_optimizer,\\\n",
    "    \"`discriminator`, `generator`, `d_optimizer` and `g_optmizer` must be declared\"\n",
    "\n",
    "    ones = torch.ones(batch_size, 1).to(device)\n",
    "    zeros = torch.zeros(batch_size, 1).to(device)\n",
    "\n",
    "    d_losses = []\n",
    "    g_losses = []\n",
    "    \n",
    "    for it in range(epochs):\n",
    "        t0 = datetime.now()\n",
    "        for inputs, _ in data_loader:\n",
    "            n = inputs.size(0)\n",
    "            inputs = inputs.view(n, -1).to(device)\n",
    "            \n",
    "            ############################\n",
    "            ## training discriminator ##\n",
    "            ############################\n",
    "\n",
    "            ## passing real images through discriminator\n",
    "            batch_ones = ones[:n]\n",
    "            d_real_outputs = discriminator(inputs)\n",
    "            d_real_loss = criterion(d_real_outputs, batch_ones)\n",
    "\n",
    "            ## passing fake images through discriminator\n",
    "            batch_zeros = zeros[:n]\n",
    "            noise = torch.randn(n, latent_size).to(device)\n",
    "            gen_outputs = generator(noise)\n",
    "            d_fake_outputs = discriminator(gen_outputs)\n",
    "            d_fake_loss = criterion(d_fake_outputs, batch_zeros)\n",
    "\n",
    "            d_loss = (d_real_loss + d_fake_loss) * 0.5\n",
    "            d_optimizer.zero_grad()\n",
    "            g_optimizer.zero_grad()\n",
    "            d_loss.backward()\n",
    "            d_optimizer.step()\n",
    "\n",
    "            ########################\n",
    "            ## training generator ##\n",
    "            ########################\n",
    "            for _ in range(2):\n",
    "                noise = torch.randn(n, latent_size).to(device)\n",
    "                gen_outputs = generator(noise)\n",
    "                d_gen_outputs = discriminator(gen_outputs)\n",
    "                g_loss = criterion(d_gen_outputs, batch_ones)\n",
    "\n",
    "                d_optimizer.zero_grad()\n",
    "                g_optimizer.zero_grad()\n",
    "\n",
    "                g_loss.backward()\n",
    "                g_optimizer.step()\n",
    "\n",
    "\n",
    "        d_losses.append(d_loss.item())\n",
    "        g_losses.append(g_loss.item())\n",
    "\n",
    "        dt = datetime.now() - t0\n",
    "        \n",
    "        print(f\"Epoch: {it+1}\\{epochs} discriminator_loss: {d_loss.item()}, generator_loss: {g_loss.item()}, Duration: {dt}\")\n",
    "\n",
    "        ## saving images\n",
    "        fake_images = gen_outputs.reshape(-1, 3, *resize_shape)\n",
    "        save_image(img_rescale(fake_images), f\"gan_images/{it+1}.png\")\n",
    "        \n",
    "    return d_losses, g_losses"
   ]
  },
  {
   "cell_type": "code",
   "execution_count": 130,
   "id": "c0e0b6fb-0328-430a-a3b5-9c0499e40b64",
   "metadata": {},
   "outputs": [
    {
     "ename": "KeyboardInterrupt",
     "evalue": "",
     "output_type": "error",
     "traceback": [
      "\u001b[1;31m---------------------------------------------------------------------------\u001b[0m",
      "\u001b[1;31mKeyboardInterrupt\u001b[0m                         Traceback (most recent call last)",
      "Input \u001b[1;32mIn [130]\u001b[0m, in \u001b[0;36m<module>\u001b[1;34m\u001b[0m\n\u001b[1;32m----> 1\u001b[0m d_losses, g_losses \u001b[38;5;241m=\u001b[39m \u001b[43mbatch_gd\u001b[49m\u001b[43m(\u001b[49m\u001b[43mloader\u001b[49m\u001b[43m,\u001b[49m\n\u001b[0;32m      2\u001b[0m \u001b[43m                              \u001b[49m\u001b[43mcriterion\u001b[49m\u001b[43m,\u001b[49m\n\u001b[0;32m      3\u001b[0m \u001b[43m                              \u001b[49m\u001b[43mdiscriminator\u001b[49m\u001b[38;5;241;43m=\u001b[39;49m\u001b[43mdiscriminator\u001b[49m\u001b[43m,\u001b[49m\n\u001b[0;32m      4\u001b[0m \u001b[43m                              \u001b[49m\u001b[43mgenerator\u001b[49m\u001b[38;5;241;43m=\u001b[39;49m\u001b[43mgenerator\u001b[49m\u001b[43m,\u001b[49m\n\u001b[0;32m      5\u001b[0m \u001b[43m                              \u001b[49m\u001b[43md_optimizer\u001b[49m\u001b[38;5;241;43m=\u001b[39;49m\u001b[43md_optimizer\u001b[49m\u001b[43m,\u001b[49m\n\u001b[0;32m      6\u001b[0m \u001b[43m                              \u001b[49m\u001b[43mg_optimizer\u001b[49m\u001b[38;5;241;43m=\u001b[39;49m\u001b[43mg_optimizer\u001b[49m\u001b[43m,\u001b[49m\n\u001b[0;32m      7\u001b[0m \u001b[43m                              \u001b[49m\u001b[43mepochs\u001b[49m\u001b[38;5;241;43m=\u001b[39;49m\u001b[38;5;241;43m100\u001b[39;49m\n\u001b[0;32m      8\u001b[0m \u001b[43m                             \u001b[49m\u001b[43m)\u001b[49m\n",
      "Input \u001b[1;32mIn [129]\u001b[0m, in \u001b[0;36mbatch_gd\u001b[1;34m(data_loader, criterion, discriminator, generator, d_optimizer, g_optimizer, epochs)\u001b[0m\n\u001b[0;32m     48\u001b[0m         d_optimizer\u001b[38;5;241m.\u001b[39mzero_grad()\n\u001b[0;32m     49\u001b[0m         g_optimizer\u001b[38;5;241m.\u001b[39mzero_grad()\n\u001b[1;32m---> 51\u001b[0m         \u001b[43mg_loss\u001b[49m\u001b[38;5;241;43m.\u001b[39;49m\u001b[43mbackward\u001b[49m\u001b[43m(\u001b[49m\u001b[43m)\u001b[49m\n\u001b[0;32m     52\u001b[0m         g_optimizer\u001b[38;5;241m.\u001b[39mstep()\n\u001b[0;32m     55\u001b[0m d_losses\u001b[38;5;241m.\u001b[39mappend(d_loss\u001b[38;5;241m.\u001b[39mitem())\n",
      "File \u001b[1;32mC:\\Python310\\lib\\site-packages\\torch\\_tensor.py:492\u001b[0m, in \u001b[0;36mTensor.backward\u001b[1;34m(self, gradient, retain_graph, create_graph, inputs)\u001b[0m\n\u001b[0;32m    482\u001b[0m \u001b[38;5;28;01mif\u001b[39;00m has_torch_function_unary(\u001b[38;5;28mself\u001b[39m):\n\u001b[0;32m    483\u001b[0m     \u001b[38;5;28;01mreturn\u001b[39;00m handle_torch_function(\n\u001b[0;32m    484\u001b[0m         Tensor\u001b[38;5;241m.\u001b[39mbackward,\n\u001b[0;32m    485\u001b[0m         (\u001b[38;5;28mself\u001b[39m,),\n\u001b[1;32m   (...)\u001b[0m\n\u001b[0;32m    490\u001b[0m         inputs\u001b[38;5;241m=\u001b[39minputs,\n\u001b[0;32m    491\u001b[0m     )\n\u001b[1;32m--> 492\u001b[0m \u001b[43mtorch\u001b[49m\u001b[38;5;241;43m.\u001b[39;49m\u001b[43mautograd\u001b[49m\u001b[38;5;241;43m.\u001b[39;49m\u001b[43mbackward\u001b[49m\u001b[43m(\u001b[49m\n\u001b[0;32m    493\u001b[0m \u001b[43m    \u001b[49m\u001b[38;5;28;43mself\u001b[39;49m\u001b[43m,\u001b[49m\u001b[43m \u001b[49m\u001b[43mgradient\u001b[49m\u001b[43m,\u001b[49m\u001b[43m \u001b[49m\u001b[43mretain_graph\u001b[49m\u001b[43m,\u001b[49m\u001b[43m \u001b[49m\u001b[43mcreate_graph\u001b[49m\u001b[43m,\u001b[49m\u001b[43m \u001b[49m\u001b[43minputs\u001b[49m\u001b[38;5;241;43m=\u001b[39;49m\u001b[43minputs\u001b[49m\n\u001b[0;32m    494\u001b[0m \u001b[43m\u001b[49m\u001b[43m)\u001b[49m\n",
      "File \u001b[1;32mC:\\Python310\\lib\\site-packages\\torch\\autograd\\__init__.py:251\u001b[0m, in \u001b[0;36mbackward\u001b[1;34m(tensors, grad_tensors, retain_graph, create_graph, grad_variables, inputs)\u001b[0m\n\u001b[0;32m    246\u001b[0m     retain_graph \u001b[38;5;241m=\u001b[39m create_graph\n\u001b[0;32m    248\u001b[0m \u001b[38;5;66;03m# The reason we repeat the same comment below is that\u001b[39;00m\n\u001b[0;32m    249\u001b[0m \u001b[38;5;66;03m# some Python versions print out the first line of a multi-line function\u001b[39;00m\n\u001b[0;32m    250\u001b[0m \u001b[38;5;66;03m# calls in the traceback and some print out the last line\u001b[39;00m\n\u001b[1;32m--> 251\u001b[0m \u001b[43mVariable\u001b[49m\u001b[38;5;241;43m.\u001b[39;49m\u001b[43m_execution_engine\u001b[49m\u001b[38;5;241;43m.\u001b[39;49m\u001b[43mrun_backward\u001b[49m\u001b[43m(\u001b[49m\u001b[43m  \u001b[49m\u001b[38;5;66;43;03m# Calls into the C++ engine to run the backward pass\u001b[39;49;00m\n\u001b[0;32m    252\u001b[0m \u001b[43m    \u001b[49m\u001b[43mtensors\u001b[49m\u001b[43m,\u001b[49m\n\u001b[0;32m    253\u001b[0m \u001b[43m    \u001b[49m\u001b[43mgrad_tensors_\u001b[49m\u001b[43m,\u001b[49m\n\u001b[0;32m    254\u001b[0m \u001b[43m    \u001b[49m\u001b[43mretain_graph\u001b[49m\u001b[43m,\u001b[49m\n\u001b[0;32m    255\u001b[0m \u001b[43m    \u001b[49m\u001b[43mcreate_graph\u001b[49m\u001b[43m,\u001b[49m\n\u001b[0;32m    256\u001b[0m \u001b[43m    \u001b[49m\u001b[43minputs\u001b[49m\u001b[43m,\u001b[49m\n\u001b[0;32m    257\u001b[0m \u001b[43m    \u001b[49m\u001b[43mallow_unreachable\u001b[49m\u001b[38;5;241;43m=\u001b[39;49m\u001b[38;5;28;43;01mTrue\u001b[39;49;00m\u001b[43m,\u001b[49m\n\u001b[0;32m    258\u001b[0m \u001b[43m    \u001b[49m\u001b[43maccumulate_grad\u001b[49m\u001b[38;5;241;43m=\u001b[39;49m\u001b[38;5;28;43;01mTrue\u001b[39;49;00m\u001b[43m,\u001b[49m\n\u001b[0;32m    259\u001b[0m \u001b[43m\u001b[49m\u001b[43m)\u001b[49m\n",
      "\u001b[1;31mKeyboardInterrupt\u001b[0m: "
     ]
    }
   ],
   "source": [
    "d_losses, g_losses = batch_gd(loader,\n",
    "                              criterion,\n",
    "                              discriminator=discriminator,\n",
    "                              generator=generator,\n",
    "                              d_optimizer=d_optimizer,\n",
    "                              g_optimizer=g_optimizer,\n",
    "                              epochs=100\n",
    "                             )"
   ]
  }
 ],
 "metadata": {
  "kernelspec": {
   "display_name": "Python 3 (ipykernel)",
   "language": "python",
   "name": "python3"
  },
  "language_info": {
   "codemirror_mode": {
    "name": "ipython",
    "version": 3
   },
   "file_extension": ".py",
   "mimetype": "text/x-python",
   "name": "python",
   "nbconvert_exporter": "python",
   "pygments_lexer": "ipython3",
   "version": "3.10.0"
  }
 },
 "nbformat": 4,
 "nbformat_minor": 5
}
