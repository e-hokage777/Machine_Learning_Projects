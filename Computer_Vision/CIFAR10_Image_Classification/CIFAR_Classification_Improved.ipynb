{
 "cells": [
  {
   "cell_type": "code",
   "execution_count": 1,
   "id": "7ed7d26d-9a9f-4cbf-bc5f-a76d636fd413",
   "metadata": {},
   "outputs": [],
   "source": [
    "import numpy as np\n",
    "import torch\n",
    "import torch.nn as nn\n",
    "import torch.nn.functional as F\n",
    "import torchvision\n",
    "from torchvision.transforms import transforms\n",
    "from datetime import datetime\n",
    "import matplotlib.pyplot as plt\n",
    "from sklearn.metrics import confusion_matrix"
   ]
  },
  {
   "cell_type": "code",
   "execution_count": 2,
   "id": "914e564b-db88-483a-841e-6e2f07f710dd",
   "metadata": {},
   "outputs": [],
   "source": [
    "## creating transform\n",
    "transformer_train = transforms.Compose([transforms.RandomCrop(32, padding=4),\n",
    "                                  transforms.RandomHorizontalFlip(p=0.5),\n",
    "                                  transforms.RandomAffine(0, translate=(0.1,0.1)),\n",
    "                                  transforms.ToTensor()\n",
    "                                 ])"
   ]
  },
  {
   "cell_type": "code",
   "execution_count": 3,
   "id": "3063b672-5c7c-4515-a3ec-90d54db372a0",
   "metadata": {},
   "outputs": [],
   "source": [
    "train_dataset = torchvision.datasets.CIFAR10(root=\".\",\n",
    "                                             train=True,\n",
    "                                             transform=transformer_train,\n",
    "                                             download=False\n",
    "                                            )\n",
    "\n",
    "test_dataset = torchvision.datasets.CIFAR10(root=\".\",\n",
    "                                            train=False,\n",
    "                                            transform=transforms.ToTensor(),\n",
    "                                            download=False\n",
    "                                           )"
   ]
  },
  {
   "cell_type": "code",
   "execution_count": 4,
   "id": "2ba98b40-2ee1-4630-8b78-b8fc3157ca16",
   "metadata": {},
   "outputs": [],
   "source": [
    "## creating loaders for the data\n",
    "batch_size = 128\n",
    "\n",
    "train_loader = torch.utils.data.DataLoader(dataset=train_dataset,\n",
    "                                           shuffle=True,\n",
    "                                           batch_size=batch_size\n",
    "                                          )\n",
    "\n",
    "test_loader = torch.utils.data.DataLoader(dataset=test_dataset,\n",
    "                                           shuffle=False,\n",
    "                                           batch_size=batch_size\n",
    "                                          )"
   ]
  },
  {
   "cell_type": "code",
   "execution_count": 5,
   "id": "c23c5859-849b-46d4-a040-8f011f48a4d9",
   "metadata": {},
   "outputs": [],
   "source": [
    "## creating the model\n",
    "class CNN(nn.Module):\n",
    "    def __init__(self,K):\n",
    "        super(CNN, self).__init__()\n",
    "\n",
    "        ## using the same concept from VGG here\n",
    "        self.conv1 = nn.Sequential(nn.Conv2d(3, 32, kernel_size=3, padding=1),\n",
    "                                   nn.ReLU(),\n",
    "                                   nn.BatchNorm2d(32),\n",
    "                                   nn.Conv2d(32, 32, kernel_size=3, padding=1),\n",
    "                                   nn.ReLU(),\n",
    "                                   nn.BatchNorm2d(32),\n",
    "                                   nn.MaxPool2d(2),\n",
    "                                  )\n",
    "        \n",
    "        self.conv2 = nn.Sequential(nn.Conv2d(32, 64, kernel_size=3, padding=1),\n",
    "                                   nn.ReLU(),\n",
    "                                   nn.BatchNorm2d(64),\n",
    "                                   nn.Conv2d(64, 64, kernel_size=3, padding=1),\n",
    "                                   nn.ReLU(),\n",
    "                                   nn.BatchNorm2d(64),\n",
    "                                   nn.MaxPool2d(2),\n",
    "                                  )\n",
    "        \n",
    "        self.conv3 = nn.Sequential(nn.Conv2d(64, 128, kernel_size=3, padding=1),\n",
    "                                   nn.ReLU(),\n",
    "                                   nn.BatchNorm2d(128),\n",
    "                                   nn.Conv2d(128, 128, kernel_size=3, padding=1),\n",
    "                                   nn.ReLU(),\n",
    "                                   nn.BatchNorm2d(128),\n",
    "                                   nn.MaxPool2d(2),\n",
    "                                  )\n",
    "    \n",
    "        self.fc1 = nn.Linear(128*4*4,1024)\n",
    "        self.fc2 = nn.Linear(1024, K)\n",
    "\n",
    "    def forward(self, X):\n",
    "        X = self.conv1(X)\n",
    "        X = self.conv2(X)\n",
    "        X = self.conv3(X)\n",
    "        X = X.view(X.size(0), -1)\n",
    "        X = F.dropout(X, p=0.5)\n",
    "        X = F.relu(self.fc1(X))\n",
    "        X = F.dropout(X, p=0.2)\n",
    "        X = self.fc2(X)\n",
    "\n",
    "        return X"
   ]
  },
  {
   "cell_type": "code",
   "execution_count": 6,
   "id": "d1d95575-d557-420f-b1c1-b4c9776877ac",
   "metadata": {},
   "outputs": [],
   "source": [
    "## creating training tools\n",
    "labels = train_dataset.classes\n",
    "model = CNN(len(labels))\n",
    "criterion = nn.CrossEntropyLoss()\n",
    "optimizer = torch.optim.Adam(model.parameters())"
   ]
  },
  {
   "cell_type": "code",
   "execution_count": 7,
   "id": "6159e9dc-343b-4df1-af4c-4170099f4bee",
   "metadata": {},
   "outputs": [],
   "source": [
    "device = torch.device(\"cuda:0\" if torch.cuda.is_available() else \"cpu\")"
   ]
  },
  {
   "cell_type": "code",
   "execution_count": 8,
   "id": "c91d4c5b-0942-4070-b50b-d2b50dec56d3",
   "metadata": {},
   "outputs": [
    {
     "data": {
      "text/plain": [
       "device(type='cuda', index=0)"
      ]
     },
     "execution_count": 8,
     "metadata": {},
     "output_type": "execute_result"
    }
   ],
   "source": [
    "device"
   ]
  },
  {
   "cell_type": "code",
   "execution_count": 9,
   "id": "46cb56cb-7a8e-4cf6-b480-3c7d858e4f9e",
   "metadata": {},
   "outputs": [
    {
     "data": {
      "text/plain": [
       "CNN(\n",
       "  (conv1): Sequential(\n",
       "    (0): Conv2d(3, 32, kernel_size=(3, 3), stride=(1, 1), padding=(1, 1))\n",
       "    (1): ReLU()\n",
       "    (2): BatchNorm2d(32, eps=1e-05, momentum=0.1, affine=True, track_running_stats=True)\n",
       "    (3): Conv2d(32, 32, kernel_size=(3, 3), stride=(1, 1), padding=(1, 1))\n",
       "    (4): ReLU()\n",
       "    (5): BatchNorm2d(32, eps=1e-05, momentum=0.1, affine=True, track_running_stats=True)\n",
       "    (6): MaxPool2d(kernel_size=2, stride=2, padding=0, dilation=1, ceil_mode=False)\n",
       "  )\n",
       "  (conv2): Sequential(\n",
       "    (0): Conv2d(32, 64, kernel_size=(3, 3), stride=(1, 1), padding=(1, 1))\n",
       "    (1): ReLU()\n",
       "    (2): BatchNorm2d(64, eps=1e-05, momentum=0.1, affine=True, track_running_stats=True)\n",
       "    (3): Conv2d(64, 64, kernel_size=(3, 3), stride=(1, 1), padding=(1, 1))\n",
       "    (4): ReLU()\n",
       "    (5): BatchNorm2d(64, eps=1e-05, momentum=0.1, affine=True, track_running_stats=True)\n",
       "    (6): MaxPool2d(kernel_size=2, stride=2, padding=0, dilation=1, ceil_mode=False)\n",
       "  )\n",
       "  (conv3): Sequential(\n",
       "    (0): Conv2d(64, 128, kernel_size=(3, 3), stride=(1, 1), padding=(1, 1))\n",
       "    (1): ReLU()\n",
       "    (2): BatchNorm2d(128, eps=1e-05, momentum=0.1, affine=True, track_running_stats=True)\n",
       "    (3): Conv2d(128, 128, kernel_size=(3, 3), stride=(1, 1), padding=(1, 1))\n",
       "    (4): ReLU()\n",
       "    (5): BatchNorm2d(128, eps=1e-05, momentum=0.1, affine=True, track_running_stats=True)\n",
       "    (6): MaxPool2d(kernel_size=2, stride=2, padding=0, dilation=1, ceil_mode=False)\n",
       "  )\n",
       "  (fc1): Linear(in_features=2048, out_features=1024, bias=True)\n",
       "  (fc2): Linear(in_features=1024, out_features=10, bias=True)\n",
       ")"
      ]
     },
     "execution_count": 9,
     "metadata": {},
     "output_type": "execute_result"
    }
   ],
   "source": [
    "model.to(device)"
   ]
  },
  {
   "cell_type": "code",
   "execution_count": 10,
   "id": "6128a675-19ea-467c-a261-4cf9a812993f",
   "metadata": {},
   "outputs": [],
   "source": [
    "## creating training function\n",
    "def train_model(model, criterion, optimizer, train_loader, test_loader, epochs):\n",
    "    train_losses = []\n",
    "    test_losses = []\n",
    "    \n",
    "    for it in range(epochs):\n",
    "        epoch_start_time = datetime.now()\n",
    "        epoch_train_losses = []\n",
    "        epoch_test_losses = []\n",
    "        model.train()\n",
    "        for inputs, targets in train_loader:\n",
    "            inputs, targets = inputs.to(device), targets.to(device)\n",
    "            optimizer.zero_grad()\n",
    "            outputs = model(inputs)\n",
    "            loss = criterion(outputs, targets)\n",
    "            loss.backward()\n",
    "            optimizer.step()\n",
    "            epoch_train_losses.append(loss.item())\n",
    "            \n",
    "        train_losses.append(np.mean(epoch_train_losses))\n",
    "        \n",
    "        model.eval()\n",
    "        for inputs, targets in test_loader:\n",
    "            inputs, targets = inputs.to(device), targets.to(device)\n",
    "            outputs = model(inputs)\n",
    "            loss = criterion(outputs, targets)\n",
    "            epoch_test_losses.append(loss.item())\n",
    "\n",
    "        test_losses.append(np.mean(epoch_test_losses))\n",
    "    \n",
    "        dt = datetime.now() - epoch_start_time\n",
    "    \n",
    "        print(f\"Epoch {it+1}/{epochs}, Train Loss: {train_losses[it]:.4f}, Test Loss: {test_losses[it]:.4f}, Duration: {dt}\")\n",
    "        \n",
    "    return train_losses, test_losses"
   ]
  },
  {
   "cell_type": "code",
   "execution_count": 11,
   "id": "75dae273-e262-40f2-b01a-e251775e06ea",
   "metadata": {},
   "outputs": [
    {
     "name": "stdout",
     "output_type": "stream",
     "text": [
      "Epoch 1/80, Train Loss: 1.4266, Test Loss: 1.1743, Duration: 0:00:22.042443\n",
      "Epoch 2/80, Train Loss: 1.0172, Test Loss: 0.8871, Duration: 0:00:21.148833\n",
      "Epoch 3/80, Train Loss: 0.8575, Test Loss: 0.7923, Duration: 0:00:21.077379\n",
      "Epoch 4/80, Train Loss: 0.7580, Test Loss: 0.7175, Duration: 0:00:21.347542\n",
      "Epoch 5/80, Train Loss: 0.6886, Test Loss: 0.6435, Duration: 0:00:21.077327\n",
      "Epoch 6/80, Train Loss: 0.6511, Test Loss: 0.6674, Duration: 0:00:21.355493\n",
      "Epoch 7/80, Train Loss: 0.6138, Test Loss: 0.6249, Duration: 0:00:21.245741\n",
      "Epoch 8/80, Train Loss: 0.5800, Test Loss: 0.6971, Duration: 0:00:21.518240\n",
      "Epoch 9/80, Train Loss: 0.5504, Test Loss: 0.5755, Duration: 0:00:21.097441\n",
      "Epoch 10/80, Train Loss: 0.5271, Test Loss: 0.5884, Duration: 0:00:21.050143\n",
      "Epoch 11/80, Train Loss: 0.5108, Test Loss: 0.5703, Duration: 0:00:21.040588\n",
      "Epoch 12/80, Train Loss: 0.4914, Test Loss: 0.5379, Duration: 0:00:21.020975\n",
      "Epoch 13/80, Train Loss: 0.4733, Test Loss: 0.5795, Duration: 0:00:21.150501\n",
      "Epoch 14/80, Train Loss: 0.4618, Test Loss: 0.5484, Duration: 0:00:21.146128\n",
      "Epoch 15/80, Train Loss: 0.4493, Test Loss: 0.4934, Duration: 0:00:21.161255\n",
      "Epoch 16/80, Train Loss: 0.4376, Test Loss: 0.5241, Duration: 0:00:21.430642\n",
      "Epoch 17/80, Train Loss: 0.4270, Test Loss: 0.6526, Duration: 0:00:21.341137\n",
      "Epoch 18/80, Train Loss: 0.4153, Test Loss: 0.5122, Duration: 0:00:20.991127\n",
      "Epoch 19/80, Train Loss: 0.4045, Test Loss: 0.4652, Duration: 0:00:21.216823\n",
      "Epoch 20/80, Train Loss: 0.3973, Test Loss: 0.4638, Duration: 0:00:21.252320\n",
      "Epoch 21/80, Train Loss: 0.3895, Test Loss: 0.4768, Duration: 0:00:21.070545\n",
      "Epoch 22/80, Train Loss: 0.3844, Test Loss: 0.5027, Duration: 0:00:20.961468\n",
      "Epoch 23/80, Train Loss: 0.3738, Test Loss: 0.4421, Duration: 0:00:20.944455\n",
      "Epoch 24/80, Train Loss: 0.3623, Test Loss: 0.4323, Duration: 0:00:20.939851\n",
      "Epoch 25/80, Train Loss: 0.3586, Test Loss: 0.4569, Duration: 0:00:21.155217\n",
      "Epoch 26/80, Train Loss: 0.3575, Test Loss: 0.4235, Duration: 0:00:21.134943\n",
      "Epoch 27/80, Train Loss: 0.3422, Test Loss: 0.4857, Duration: 0:00:20.958155\n",
      "Epoch 28/80, Train Loss: 0.3422, Test Loss: 0.4214, Duration: 0:00:21.119350\n",
      "Epoch 29/80, Train Loss: 0.3323, Test Loss: 0.4163, Duration: 0:00:21.032133\n",
      "Epoch 30/80, Train Loss: 0.3282, Test Loss: 0.4235, Duration: 0:00:21.063144\n",
      "Epoch 31/80, Train Loss: 0.3192, Test Loss: 0.4484, Duration: 0:00:21.052191\n",
      "Epoch 32/80, Train Loss: 0.3143, Test Loss: 0.4400, Duration: 0:00:20.981522\n",
      "Epoch 33/80, Train Loss: 0.3111, Test Loss: 0.4311, Duration: 0:00:21.012078\n",
      "Epoch 34/80, Train Loss: 0.3078, Test Loss: 0.4500, Duration: 0:00:20.972218\n",
      "Epoch 35/80, Train Loss: 0.2987, Test Loss: 0.4280, Duration: 0:00:20.994897\n",
      "Epoch 36/80, Train Loss: 0.2937, Test Loss: 0.4393, Duration: 0:00:21.184305\n",
      "Epoch 37/80, Train Loss: 0.2955, Test Loss: 0.3971, Duration: 0:00:21.226171\n",
      "Epoch 38/80, Train Loss: 0.2874, Test Loss: 0.4158, Duration: 0:00:21.925341\n",
      "Epoch 39/80, Train Loss: 0.2833, Test Loss: 0.3989, Duration: 0:00:21.061074\n",
      "Epoch 40/80, Train Loss: 0.2808, Test Loss: 0.4254, Duration: 0:00:21.192365\n",
      "Epoch 41/80, Train Loss: 0.2788, Test Loss: 0.4106, Duration: 0:00:21.047775\n",
      "Epoch 42/80, Train Loss: 0.2696, Test Loss: 0.4137, Duration: 0:00:21.048257\n",
      "Epoch 43/80, Train Loss: 0.2638, Test Loss: 0.4079, Duration: 0:00:21.001928\n",
      "Epoch 44/80, Train Loss: 0.2613, Test Loss: 0.4321, Duration: 0:00:21.265195\n",
      "Epoch 45/80, Train Loss: 0.2609, Test Loss: 0.3958, Duration: 0:00:21.180794\n",
      "Epoch 46/80, Train Loss: 0.2577, Test Loss: 0.4165, Duration: 0:00:20.987145\n",
      "Epoch 47/80, Train Loss: 0.2516, Test Loss: 0.4026, Duration: 0:00:21.059560\n",
      "Epoch 48/80, Train Loss: 0.2451, Test Loss: 0.4089, Duration: 0:00:21.011369\n",
      "Epoch 49/80, Train Loss: 0.2475, Test Loss: 0.4166, Duration: 0:00:21.019949\n",
      "Epoch 50/80, Train Loss: 0.2403, Test Loss: 0.3943, Duration: 0:00:20.955627\n",
      "Epoch 51/80, Train Loss: 0.2437, Test Loss: 0.3926, Duration: 0:00:20.990440\n",
      "Epoch 52/80, Train Loss: 0.2439, Test Loss: 0.3943, Duration: 0:00:21.067574\n",
      "Epoch 53/80, Train Loss: 0.2397, Test Loss: 0.3872, Duration: 0:00:21.090448\n",
      "Epoch 54/80, Train Loss: 0.2328, Test Loss: 0.4126, Duration: 0:00:20.988635\n",
      "Epoch 55/80, Train Loss: 0.2322, Test Loss: 0.4080, Duration: 0:00:21.084162\n",
      "Epoch 56/80, Train Loss: 0.2264, Test Loss: 0.4124, Duration: 0:00:21.266277\n",
      "Epoch 57/80, Train Loss: 0.2267, Test Loss: 0.3913, Duration: 0:00:21.072101\n",
      "Epoch 58/80, Train Loss: 0.2223, Test Loss: 0.3954, Duration: 0:00:21.093745\n",
      "Epoch 59/80, Train Loss: 0.2236, Test Loss: 0.3900, Duration: 0:00:21.049550\n",
      "Epoch 60/80, Train Loss: 0.2175, Test Loss: 0.4148, Duration: 0:00:21.015489\n",
      "Epoch 61/80, Train Loss: 0.2201, Test Loss: 0.4226, Duration: 0:00:21.035028\n",
      "Epoch 62/80, Train Loss: 0.2164, Test Loss: 0.4028, Duration: 0:00:21.027020\n",
      "Epoch 63/80, Train Loss: 0.2171, Test Loss: 0.3965, Duration: 0:00:20.997671\n",
      "Epoch 64/80, Train Loss: 0.2126, Test Loss: 0.4345, Duration: 0:00:21.071842\n",
      "Epoch 65/80, Train Loss: 0.2066, Test Loss: 0.4091, Duration: 0:00:21.030997\n",
      "Epoch 66/80, Train Loss: 0.2134, Test Loss: 0.4016, Duration: 0:00:21.049817\n",
      "Epoch 67/80, Train Loss: 0.2091, Test Loss: 0.4144, Duration: 0:00:21.075930\n",
      "Epoch 68/80, Train Loss: 0.2074, Test Loss: 0.3898, Duration: 0:00:21.039861\n",
      "Epoch 69/80, Train Loss: 0.2028, Test Loss: 0.3882, Duration: 0:00:20.996437\n",
      "Epoch 70/80, Train Loss: 0.2045, Test Loss: 0.4019, Duration: 0:00:21.030587\n",
      "Epoch 71/80, Train Loss: 0.2029, Test Loss: 0.3853, Duration: 0:00:20.984506\n",
      "Epoch 72/80, Train Loss: 0.1998, Test Loss: 0.3934, Duration: 0:00:21.005869\n",
      "Epoch 73/80, Train Loss: 0.1998, Test Loss: 0.4185, Duration: 0:00:20.981161\n",
      "Epoch 74/80, Train Loss: 0.1971, Test Loss: 0.4100, Duration: 0:00:21.015507\n",
      "Epoch 75/80, Train Loss: 0.1969, Test Loss: 0.3896, Duration: 0:00:21.006210\n",
      "Epoch 76/80, Train Loss: 0.1905, Test Loss: 0.3935, Duration: 0:00:21.526490\n",
      "Epoch 77/80, Train Loss: 0.1894, Test Loss: 0.4002, Duration: 0:00:21.782495\n",
      "Epoch 78/80, Train Loss: 0.1902, Test Loss: 0.3739, Duration: 0:00:21.038469\n",
      "Epoch 79/80, Train Loss: 0.1866, Test Loss: 0.4132, Duration: 0:00:21.227233\n",
      "Epoch 80/80, Train Loss: 0.1882, Test Loss: 0.3927, Duration: 0:00:21.012678\n"
     ]
    }
   ],
   "source": [
    "train_losses, test_losses = train_model(model, criterion, optimizer, train_loader, test_loader, 80)"
   ]
  },
  {
   "cell_type": "code",
   "execution_count": 15,
   "id": "8900d29f-94ee-44e0-849d-851d60868c37",
   "metadata": {},
   "outputs": [
    {
     "name": "stdout",
     "output_type": "stream",
     "text": [
      "Train Accuracy: 0.9411999583244324, Test Accuracy: 0.8837999701499939\n"
     ]
    }
   ],
   "source": [
    "## Getting accuracies\n",
    "model.eval()\n",
    "train_acc = 0\n",
    "test_acc = 0\n",
    "test_preds = np.array([])\n",
    "\n",
    "## Train accuracy\n",
    "n_corrects = 0\n",
    "total = 0\n",
    "for inputs, targets in train_loader:\n",
    "    inputs, targets = inputs.to(device), targets.to(device)\n",
    "    _, preds = torch.max(model(inputs), 1)\n",
    "    n_corrects += (preds == targets).sum()\n",
    "    total += targets.shape[0]\n",
    "\n",
    "train_acc = n_corrects/total\n",
    "\n",
    "\n",
    "## Test accuracy\n",
    "n_corrects = 0\n",
    "total = 0\n",
    "for inputs, targets in test_loader:\n",
    "    inputs, targets = inputs.to(device), targets.to(device)\n",
    "    _, preds = torch.max(model(inputs), 1)\n",
    "    test_preds = np.concatenate([test_preds, preds.cpu()])\n",
    "    n_corrects += (preds == targets).sum()\n",
    "    total += targets.shape[0]\n",
    "\n",
    "test_acc = n_corrects/total\n",
    "\n",
    "print(f\"Train Accuracy: {train_acc}, Test Accuracy: {test_acc}\")"
   ]
  },
  {
   "cell_type": "code",
   "execution_count": 16,
   "id": "e2874eab-955b-4b36-af0d-422c305c10df",
   "metadata": {},
   "outputs": [],
   "source": [
    "X_test = test_dataset.data\n",
    "y_test = test_dataset.targets"
   ]
  },
  {
   "cell_type": "code",
   "execution_count": 17,
   "id": "a9a2cc66-d51d-490d-9d9b-612769e9001d",
   "metadata": {},
   "outputs": [
    {
     "ename": "NameError",
     "evalue": "name 'sns' is not defined",
     "output_type": "error",
     "traceback": [
      "\u001b[1;31m---------------------------------------------------------------------------\u001b[0m",
      "\u001b[1;31mNameError\u001b[0m                                 Traceback (most recent call last)",
      "Cell \u001b[1;32mIn[17], line 3\u001b[0m\n\u001b[0;32m      1\u001b[0m fig \u001b[38;5;241m=\u001b[39m plt\u001b[38;5;241m.\u001b[39mfigure(figsize\u001b[38;5;241m=\u001b[39m(\u001b[38;5;241m8\u001b[39m,\u001b[38;5;241m8\u001b[39m))\n\u001b[0;32m      2\u001b[0m cm \u001b[38;5;241m=\u001b[39m confusion_matrix(y_test, test_preds)\n\u001b[1;32m----> 3\u001b[0m \u001b[43msns\u001b[49m\u001b[38;5;241m.\u001b[39mheatmap(cm, annot\u001b[38;5;241m=\u001b[39m\u001b[38;5;28;01mTrue\u001b[39;00m, fmt\u001b[38;5;241m=\u001b[39m\u001b[38;5;124m\"\u001b[39m\u001b[38;5;124m\"\u001b[39m, square\u001b[38;5;241m=\u001b[39m\u001b[38;5;28;01mTrue\u001b[39;00m, cmap\u001b[38;5;241m=\u001b[39m\u001b[38;5;124m\"\u001b[39m\u001b[38;5;124mBlues\u001b[39m\u001b[38;5;124m\"\u001b[39m, xticklabels\u001b[38;5;241m=\u001b[39mlabels, yticklabels\u001b[38;5;241m=\u001b[39mlabels)\n\u001b[0;32m      4\u001b[0m plt\u001b[38;5;241m.\u001b[39mshow()\n",
      "\u001b[1;31mNameError\u001b[0m: name 'sns' is not defined"
     ]
    },
    {
     "data": {
      "text/plain": [
       "<Figure size 800x800 with 0 Axes>"
      ]
     },
     "metadata": {},
     "output_type": "display_data"
    }
   ],
   "source": [
    "fig = plt.figure(figsize=(8,8))\n",
    "cm = confusion_matrix(y_test, test_preds)\n",
    "sns.heatmap(cm, annot=True, fmt=\"\", square=True, cmap=\"Blues\", xticklabels=labels, yticklabels=labels)\n",
    "plt.show()"
   ]
  },
  {
   "cell_type": "code",
   "execution_count": null,
   "id": "80988cf3-32da-4bf0-a041-665b39c7f4c3",
   "metadata": {},
   "outputs": [],
   "source": [
    "misclassifications = np.where(test_preds != y_test)[0]\n",
    "mis_idx = np.random.choice(misclassifications)\n",
    "plt.imshow(X_test[mis_idx])\n",
    "plt.title(f\"True Label {labels[y_test[mis_idx]]} Predicted Label {labels[int(test_preds[mis_idx])]}\")\n",
    "plt.show()"
   ]
  },
  {
   "cell_type": "code",
   "execution_count": 52,
   "id": "9366bc48-0b24-4913-b8d3-314d83480f14",
   "metadata": {},
   "outputs": [],
   "source": [
    "from torchsummary import summary"
   ]
  },
  {
   "cell_type": "code",
   "execution_count": 53,
   "id": "db522cb4-9ddd-4048-847d-c945946f1c0d",
   "metadata": {},
   "outputs": [
    {
     "name": "stdout",
     "output_type": "stream",
     "text": [
      "----------------------------------------------------------------\n",
      "        Layer (type)               Output Shape         Param #\n",
      "================================================================\n",
      "            Conv2d-1           [-1, 32, 32, 32]             896\n",
      "              ReLU-2           [-1, 32, 32, 32]               0\n",
      "       BatchNorm2d-3           [-1, 32, 32, 32]              64\n",
      "            Conv2d-4           [-1, 32, 32, 32]           9,248\n",
      "              ReLU-5           [-1, 32, 32, 32]               0\n",
      "       BatchNorm2d-6           [-1, 32, 32, 32]              64\n",
      "         MaxPool2d-7           [-1, 32, 16, 16]               0\n",
      "            Conv2d-8           [-1, 64, 16, 16]          18,496\n",
      "              ReLU-9           [-1, 64, 16, 16]               0\n",
      "      BatchNorm2d-10           [-1, 64, 16, 16]             128\n",
      "           Conv2d-11           [-1, 64, 16, 16]          36,928\n",
      "             ReLU-12           [-1, 64, 16, 16]               0\n",
      "      BatchNorm2d-13           [-1, 64, 16, 16]             128\n",
      "        MaxPool2d-14             [-1, 64, 8, 8]               0\n",
      "           Conv2d-15            [-1, 128, 8, 8]          73,856\n",
      "             ReLU-16            [-1, 128, 8, 8]               0\n",
      "      BatchNorm2d-17            [-1, 128, 8, 8]             256\n",
      "           Conv2d-18            [-1, 128, 8, 8]         147,584\n",
      "             ReLU-19            [-1, 128, 8, 8]               0\n",
      "      BatchNorm2d-20            [-1, 128, 8, 8]             256\n",
      "        MaxPool2d-21            [-1, 128, 4, 4]               0\n",
      "           Linear-22                 [-1, 1024]       2,098,176\n",
      "           Linear-23                   [-1, 10]          10,250\n",
      "================================================================\n",
      "Total params: 2,396,330\n",
      "Trainable params: 2,396,330\n",
      "Non-trainable params: 0\n",
      "----------------------------------------------------------------\n",
      "Input size (MB): 0.01\n",
      "Forward/backward pass size (MB): 2.74\n",
      "Params size (MB): 9.14\n",
      "Estimated Total Size (MB): 11.90\n",
      "----------------------------------------------------------------\n"
     ]
    }
   ],
   "source": [
    "summary(model, (3,32,32))"
   ]
  }
 ],
 "metadata": {
  "kernelspec": {
   "display_name": "Python 3 (ipykernel)",
   "language": "python",
   "name": "python3"
  },
  "language_info": {
   "codemirror_mode": {
    "name": "ipython",
    "version": 3
   },
   "file_extension": ".py",
   "mimetype": "text/x-python",
   "name": "python",
   "nbconvert_exporter": "python",
   "pygments_lexer": "ipython3",
   "version": "3.11.7"
  }
 },
 "nbformat": 4,
 "nbformat_minor": 5
}
