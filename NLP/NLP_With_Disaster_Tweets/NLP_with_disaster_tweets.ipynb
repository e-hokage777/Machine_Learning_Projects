{
 "cells": [
  {
   "cell_type": "code",
   "execution_count": 1,
   "id": "8d0b6ba9-f744-4430-a0b0-b5f83e13eecf",
   "metadata": {},
   "outputs": [],
   "source": [
    "import numpy as np\n",
    "import pandas as pd\n",
    "import matplotlib.pyplot as plt\n",
    "\n",
    "import torch\n",
    "import torch.nn as nn\n",
    "from torch.utils.data import DataLoader\n",
    "\n",
    "from sklearn.model_selection import train_test_split\n",
    "from sklearn.utils import shuffle\n",
    "\n",
    "import math\n",
    "from datetime import datetime"
   ]
  },
  {
   "cell_type": "code",
   "execution_count": 2,
   "id": "3087da1e-e6fc-4e93-b0ad-d061ec1d13ff",
   "metadata": {},
   "outputs": [],
   "source": [
    "## getting the data\n",
    "df_train = pd.read_csv(\"data/train.csv\")\n",
    "df_test = pd.read_csv(\"data/test.csv\")\n",
    "sample_submission = pd.read_csv(\"data/sample_submission.csv\")"
   ]
  },
  {
   "cell_type": "code",
   "execution_count": 3,
   "id": "415c453f-2e85-488f-a070-0865f0369fc4",
   "metadata": {},
   "outputs": [
    {
     "data": {
      "text/html": [
       "<div>\n",
       "<style scoped>\n",
       "    .dataframe tbody tr th:only-of-type {\n",
       "        vertical-align: middle;\n",
       "    }\n",
       "\n",
       "    .dataframe tbody tr th {\n",
       "        vertical-align: top;\n",
       "    }\n",
       "\n",
       "    .dataframe thead th {\n",
       "        text-align: right;\n",
       "    }\n",
       "</style>\n",
       "<table border=\"1\" class=\"dataframe\">\n",
       "  <thead>\n",
       "    <tr style=\"text-align: right;\">\n",
       "      <th></th>\n",
       "      <th>id</th>\n",
       "      <th>keyword</th>\n",
       "      <th>location</th>\n",
       "      <th>text</th>\n",
       "      <th>target</th>\n",
       "    </tr>\n",
       "  </thead>\n",
       "  <tbody>\n",
       "    <tr>\n",
       "      <th>0</th>\n",
       "      <td>1</td>\n",
       "      <td>NaN</td>\n",
       "      <td>NaN</td>\n",
       "      <td>Our Deeds are the Reason of this #earthquake M...</td>\n",
       "      <td>1</td>\n",
       "    </tr>\n",
       "    <tr>\n",
       "      <th>1</th>\n",
       "      <td>4</td>\n",
       "      <td>NaN</td>\n",
       "      <td>NaN</td>\n",
       "      <td>Forest fire near La Ronge Sask. Canada</td>\n",
       "      <td>1</td>\n",
       "    </tr>\n",
       "    <tr>\n",
       "      <th>2</th>\n",
       "      <td>5</td>\n",
       "      <td>NaN</td>\n",
       "      <td>NaN</td>\n",
       "      <td>All residents asked to 'shelter in place' are ...</td>\n",
       "      <td>1</td>\n",
       "    </tr>\n",
       "    <tr>\n",
       "      <th>3</th>\n",
       "      <td>6</td>\n",
       "      <td>NaN</td>\n",
       "      <td>NaN</td>\n",
       "      <td>13,000 people receive #wildfires evacuation or...</td>\n",
       "      <td>1</td>\n",
       "    </tr>\n",
       "    <tr>\n",
       "      <th>4</th>\n",
       "      <td>7</td>\n",
       "      <td>NaN</td>\n",
       "      <td>NaN</td>\n",
       "      <td>Just got sent this photo from Ruby #Alaska as ...</td>\n",
       "      <td>1</td>\n",
       "    </tr>\n",
       "  </tbody>\n",
       "</table>\n",
       "</div>"
      ],
      "text/plain": [
       "   id keyword location                                               text  \\\n",
       "0   1     NaN      NaN  Our Deeds are the Reason of this #earthquake M...   \n",
       "1   4     NaN      NaN             Forest fire near La Ronge Sask. Canada   \n",
       "2   5     NaN      NaN  All residents asked to 'shelter in place' are ...   \n",
       "3   6     NaN      NaN  13,000 people receive #wildfires evacuation or...   \n",
       "4   7     NaN      NaN  Just got sent this photo from Ruby #Alaska as ...   \n",
       "\n",
       "   target  \n",
       "0       1  \n",
       "1       1  \n",
       "2       1  \n",
       "3       1  \n",
       "4       1  "
      ]
     },
     "execution_count": 3,
     "metadata": {},
     "output_type": "execute_result"
    }
   ],
   "source": [
    "df_train.head()"
   ]
  },
  {
   "cell_type": "code",
   "execution_count": 4,
   "id": "d3613a7d-d526-4c81-be0b-ab82dd7e7311",
   "metadata": {},
   "outputs": [
    {
     "data": {
      "text/plain": [
       "id             0\n",
       "keyword       61\n",
       "location    2533\n",
       "text           0\n",
       "target         0\n",
       "dtype: int64"
      ]
     },
     "execution_count": 4,
     "metadata": {},
     "output_type": "execute_result"
    }
   ],
   "source": [
    "## checking for missing\n",
    "df_train.isna().sum()"
   ]
  },
  {
   "cell_type": "code",
   "execution_count": 5,
   "id": "32e14424-354f-47a2-a7dd-826088b2b86f",
   "metadata": {},
   "outputs": [
    {
     "data": {
      "text/plain": [
       "keyword\n",
       "fatalities               45\n",
       "deluge                   42\n",
       "armageddon               42\n",
       "sinking                  41\n",
       "damage                   41\n",
       "                         ..\n",
       "forest%20fire            19\n",
       "epicentre                12\n",
       "threat                   11\n",
       "inundation               10\n",
       "radiation%20emergency     9\n",
       "Name: count, Length: 221, dtype: int64"
      ]
     },
     "execution_count": 5,
     "metadata": {},
     "output_type": "execute_result"
    }
   ],
   "source": [
    "## checking the keyword column\n",
    "df_train[\"keyword\"].value_counts()"
   ]
  },
  {
   "cell_type": "code",
   "execution_count": 6,
   "id": "52bebafc-1905-4f92-8ac1-4744692559de",
   "metadata": {},
   "outputs": [
    {
     "data": {
      "text/html": [
       "<div>\n",
       "<style scoped>\n",
       "    .dataframe tbody tr th:only-of-type {\n",
       "        vertical-align: middle;\n",
       "    }\n",
       "\n",
       "    .dataframe tbody tr th {\n",
       "        vertical-align: top;\n",
       "    }\n",
       "\n",
       "    .dataframe thead th {\n",
       "        text-align: right;\n",
       "    }\n",
       "</style>\n",
       "<table border=\"1\" class=\"dataframe\">\n",
       "  <thead>\n",
       "    <tr style=\"text-align: right;\">\n",
       "      <th></th>\n",
       "      <th>id</th>\n",
       "      <th>keyword</th>\n",
       "      <th>location</th>\n",
       "      <th>text</th>\n",
       "      <th>target</th>\n",
       "    </tr>\n",
       "  </thead>\n",
       "  <tbody>\n",
       "    <tr>\n",
       "      <th>31</th>\n",
       "      <td>48</td>\n",
       "      <td>ablaze</td>\n",
       "      <td>Birmingham</td>\n",
       "      <td>@bbcmtd Wholesale Markets ablaze http://t.co/l...</td>\n",
       "      <td>1</td>\n",
       "    </tr>\n",
       "    <tr>\n",
       "      <th>32</th>\n",
       "      <td>49</td>\n",
       "      <td>ablaze</td>\n",
       "      <td>Est. September 2012 - Bristol</td>\n",
       "      <td>We always try to bring the heavy. #metal #RT h...</td>\n",
       "      <td>0</td>\n",
       "    </tr>\n",
       "    <tr>\n",
       "      <th>33</th>\n",
       "      <td>50</td>\n",
       "      <td>ablaze</td>\n",
       "      <td>AFRICA</td>\n",
       "      <td>#AFRICANBAZE: Breaking news:Nigeria flag set a...</td>\n",
       "      <td>1</td>\n",
       "    </tr>\n",
       "    <tr>\n",
       "      <th>34</th>\n",
       "      <td>52</td>\n",
       "      <td>ablaze</td>\n",
       "      <td>Philadelphia, PA</td>\n",
       "      <td>Crying out for more! Set me ablaze</td>\n",
       "      <td>0</td>\n",
       "    </tr>\n",
       "    <tr>\n",
       "      <th>35</th>\n",
       "      <td>53</td>\n",
       "      <td>ablaze</td>\n",
       "      <td>London, UK</td>\n",
       "      <td>On plus side LOOK AT THE SKY LAST NIGHT IT WAS...</td>\n",
       "      <td>0</td>\n",
       "    </tr>\n",
       "    <tr>\n",
       "      <th>...</th>\n",
       "      <td>...</td>\n",
       "      <td>...</td>\n",
       "      <td>...</td>\n",
       "      <td>...</td>\n",
       "      <td>...</td>\n",
       "    </tr>\n",
       "    <tr>\n",
       "      <th>7575</th>\n",
       "      <td>10826</td>\n",
       "      <td>wrecked</td>\n",
       "      <td>TN</td>\n",
       "      <td>On the bright side I wrecked http://t.co/uEa0t...</td>\n",
       "      <td>0</td>\n",
       "    </tr>\n",
       "    <tr>\n",
       "      <th>7577</th>\n",
       "      <td>10829</td>\n",
       "      <td>wrecked</td>\n",
       "      <td>#NewcastleuponTyne #UK</td>\n",
       "      <td>@widda16 ... He's gone. You can relax. I thoug...</td>\n",
       "      <td>0</td>\n",
       "    </tr>\n",
       "    <tr>\n",
       "      <th>7579</th>\n",
       "      <td>10831</td>\n",
       "      <td>wrecked</td>\n",
       "      <td>Vancouver, Canada</td>\n",
       "      <td>Three days off from work and they've pretty mu...</td>\n",
       "      <td>0</td>\n",
       "    </tr>\n",
       "    <tr>\n",
       "      <th>7580</th>\n",
       "      <td>10832</td>\n",
       "      <td>wrecked</td>\n",
       "      <td>London</td>\n",
       "      <td>#FX #forex #trading Cramer: Iger's 3 words tha...</td>\n",
       "      <td>0</td>\n",
       "    </tr>\n",
       "    <tr>\n",
       "      <th>7581</th>\n",
       "      <td>10833</td>\n",
       "      <td>wrecked</td>\n",
       "      <td>Lincoln</td>\n",
       "      <td>@engineshed Great atmosphere at the British Li...</td>\n",
       "      <td>0</td>\n",
       "    </tr>\n",
       "  </tbody>\n",
       "</table>\n",
       "<p>5080 rows × 5 columns</p>\n",
       "</div>"
      ],
      "text/plain": [
       "         id  keyword                       location  \\\n",
       "31       48   ablaze                     Birmingham   \n",
       "32       49   ablaze  Est. September 2012 - Bristol   \n",
       "33       50   ablaze                         AFRICA   \n",
       "34       52   ablaze               Philadelphia, PA   \n",
       "35       53   ablaze                     London, UK   \n",
       "...     ...      ...                            ...   \n",
       "7575  10826  wrecked                             TN   \n",
       "7577  10829  wrecked         #NewcastleuponTyne #UK   \n",
       "7579  10831  wrecked              Vancouver, Canada   \n",
       "7580  10832  wrecked                        London    \n",
       "7581  10833  wrecked                        Lincoln   \n",
       "\n",
       "                                                   text  target  \n",
       "31    @bbcmtd Wholesale Markets ablaze http://t.co/l...       1  \n",
       "32    We always try to bring the heavy. #metal #RT h...       0  \n",
       "33    #AFRICANBAZE: Breaking news:Nigeria flag set a...       1  \n",
       "34                   Crying out for more! Set me ablaze       0  \n",
       "35    On plus side LOOK AT THE SKY LAST NIGHT IT WAS...       0  \n",
       "...                                                 ...     ...  \n",
       "7575  On the bright side I wrecked http://t.co/uEa0t...       0  \n",
       "7577  @widda16 ... He's gone. You can relax. I thoug...       0  \n",
       "7579  Three days off from work and they've pretty mu...       0  \n",
       "7580  #FX #forex #trading Cramer: Iger's 3 words tha...       0  \n",
       "7581  @engineshed Great atmosphere at the British Li...       0  \n",
       "\n",
       "[5080 rows x 5 columns]"
      ]
     },
     "execution_count": 6,
     "metadata": {},
     "output_type": "execute_result"
    }
   ],
   "source": [
    "df_train[df_train[\"location\"].notna()]"
   ]
  },
  {
   "cell_type": "code",
   "execution_count": 7,
   "id": "096a961f-65e2-474c-bd94-6c4cc25d92f1",
   "metadata": {},
   "outputs": [
    {
     "data": {
      "text/plain": [
       "array(['Steve Buscemi was a firefightr B4 fame &amp; workd 12hr shifts diggin thru WTC rubble lookg 4 survivors. http://t.co/L9fJpNSZuO',\n",
       "       'No #news of #hostages in #Libya\\n\\nhttp://t.co/bjjOIfzUhL\\n\\n#India #terrorism #Africa #AP #TS #NRI #News #TRS #TDP #BJP http://t.co/IywZAlLsN4',\n",
       "       'Tips to prevent basement leaks - Create control joints to eliminate random cracking. #homeimprovement #Flooding http://t.co/Kx8cU4s8T1',\n",
       "       '#nowplaying Sinking Fast - Now or Never on North East Unsigned Radio listen at http://t.co/QymAlttvZp',\n",
       "       'Pandemonium In Aba As Woman Delivers Baby Without Face (Photos) - http://t.co/c5u9qshhnb'],\n",
       "      dtype=object)"
      ]
     },
     "execution_count": 7,
     "metadata": {},
     "output_type": "execute_result"
    }
   ],
   "source": [
    "## checking the nature of the tweets\n",
    "\n",
    "df_train[\"text\"].sample(5).values"
   ]
  },
  {
   "cell_type": "code",
   "execution_count": 8,
   "id": "789a3db4-9661-45e4-a9b1-b178b7eeddde",
   "metadata": {},
   "outputs": [],
   "source": [
    "## for cleaning function\n",
    "## - remove urls\n",
    "## - remove # tags\n",
    "## - remove html special characters eg &amp;\n",
    "## - remove @text\n",
    "## - remove [01:04 UTC]\n",
    "## - strip"
   ]
  },
  {
   "cell_type": "code",
   "execution_count": 9,
   "id": "2d60ad2e-12cd-4956-9e59-bc08f066ca59",
   "metadata": {},
   "outputs": [],
   "source": [
    "import re\n",
    "\n",
    "## function to preprocessing of text\n",
    "def process_text(text):\n",
    "    ## patterns to remove\n",
    "    rem_pat_1 = \"([#@]|https?:)\\S*\"\n",
    "    rem_pat_2 = \"&\\S+;\"\n",
    "    rem_pat_3 = \"\\[\\d+:\\d+.+\\]\" ## removing timestamp. eg. [01:04 UTC]\n",
    "    rem_pat_4 = \"[\\-_.+]\" ## to remove symbols (make sure to bring last to avoid affecting first two patterns)\n",
    "    combined_rem_pat = f\"({rem_pat_1})|({rem_pat_2})|({rem_pat_3})|({rem_pat_4})\"\n",
    "\n",
    "    text = re.sub(combined_rem_pat, \"\", text) ## removing text that match patterns\n",
    "    text = text.strip() ## removing trailing white spaces\n",
    "    text = text.lower() ## lowercasing\n",
    "\n",
    "    return text\n",
    "\n",
    "## function for tokenizing of string\n",
    "def tokenize(text):\n",
    "    return re.split(\"\\s+\", text)"
   ]
  },
  {
   "cell_type": "code",
   "execution_count": 10,
   "id": "1c2f0e9d-009b-4bff-8c5f-9506b8a01653",
   "metadata": {},
   "outputs": [],
   "source": [
    "## getting the training and testing processed data\n",
    "## train\n",
    "train_text = df_train[\"text\"].apply(lambda x: tokenize(process_text(x))).values\n",
    "train_target = df_train[\"target\"].values\n",
    "\n",
    "## test\n",
    "test_text = df_test[\"text\"].apply(lambda x: tokenize(process_text(x))).values"
   ]
  },
  {
   "cell_type": "code",
   "execution_count": 11,
   "id": "da996b2a-3faf-4f00-97c7-c9e7a71eaaa6",
   "metadata": {},
   "outputs": [
    {
     "data": {
      "text/plain": [
       "array([list(['our', 'deeds', 'are', 'the', 'reason', 'of', 'this', 'may', 'allah', 'forgive', 'us', 'all']),\n",
       "       list(['forest', 'fire', 'near', 'la', 'ronge', 'sask', 'canada']),\n",
       "       list(['all', 'residents', 'asked', 'to', \"'shelter\", 'in', \"place'\", 'are', 'being', 'notified', 'by', 'officers', 'no', 'other', 'evacuation', 'or', 'shelter', 'in', 'place', 'orders', 'are', 'expected']),\n",
       "       ..., list(['m194', '?5km', 's', 'of', 'volcano', 'hawaii']),\n",
       "       list(['police', 'investigating', 'after', 'an', 'ebike', 'collided', 'with', 'a', 'car', 'in', 'little', 'portugal', 'ebike', 'rider', 'suffered', 'serious', 'nonlife', 'threatening', 'injuries']),\n",
       "       list(['the', 'latest:', 'more', 'homes', 'razed', 'by', 'northern', 'california', 'wildfire', 'abc', 'news'])],\n",
       "      dtype=object)"
      ]
     },
     "execution_count": 11,
     "metadata": {},
     "output_type": "execute_result"
    }
   ],
   "source": [
    "train_text"
   ]
  },
  {
   "cell_type": "code",
   "execution_count": 12,
   "id": "8f22c46d-9038-4bb1-ace6-41586d1f9826",
   "metadata": {},
   "outputs": [],
   "source": [
    "## creating word dictionary\n",
    "word2idx = {\"<pad>\": 0}\n",
    "count = 1\n",
    "\n",
    "for l in train_text:\n",
    "    for i in range(len(l)):\n",
    "        if l[i] not in word2idx:\n",
    "            word2idx[l[i]] = count\n",
    "            count+=1\n",
    "\n",
    "        l[i] = word2idx[l[i]]"
   ]
  },
  {
   "cell_type": "code",
   "execution_count": 13,
   "id": "ae8a3d53-a463-4f18-8595-8710ec47f3a7",
   "metadata": {},
   "outputs": [],
   "source": [
    "## function to convert token list to integer list\n",
    "def token_to_int(text_data, word2idx):\n",
    "    for i in range(len(text_data)):\n",
    "        idx_list = []\n",
    "        for word in text_data[i]:\n",
    "            if word in word2idx:\n",
    "                idx_list.append(word2idx[word])\n",
    "        text_data[i] = idx_list"
   ]
  },
  {
   "cell_type": "code",
   "execution_count": 14,
   "id": "e903df43-377c-4f3c-9cad-83b8ee98e031",
   "metadata": {},
   "outputs": [],
   "source": [
    "# ## converting text token list to index list\n",
    "# token_to_int(test_text, word2idx)"
   ]
  },
  {
   "cell_type": "code",
   "execution_count": 15,
   "id": "28ba2d0c-4703-4275-a3f6-bcfbaab95be1",
   "metadata": {},
   "outputs": [],
   "source": [
    "## creating train and validation data\n",
    "X_train, X_test, y_train, y_test = train_test_split(train_text, train_target, test_size=0.3, shuffle=True)"
   ]
  },
  {
   "cell_type": "code",
   "execution_count": 16,
   "id": "44611494-663b-43c9-836c-ba7f4682e5d6",
   "metadata": {},
   "outputs": [],
   "source": [
    "## creating data loaders\n",
    "def data_loader(inputs, targets, batch_size=64):\n",
    "    inputs, targets = shuffle(inputs, targets)\n",
    "    n = len(inputs)\n",
    "    num_batches = math.ceil(n/batch_size)\n",
    "\n",
    "    for i in range(num_batches):\n",
    "        start_idx = i * batch_size\n",
    "        end_idx = min(start_idx+batch_size, n)\n",
    "\n",
    "        ## getting the batch data\n",
    "        inputs_batch = inputs[start_idx:end_idx]\n",
    "        targets_batch = targets[start_idx:end_idx]\n",
    "\n",
    "        ## padding the inputs\n",
    "        max_len = max([len(l) for l in inputs_batch])\n",
    "\n",
    "        for j in range(len(inputs_batch)):\n",
    "            pad_len = max_len - len(inputs_batch[j])\n",
    "            inputs_batch[j] = [0]*pad_len + inputs_batch[j]\n",
    "\n",
    "        yield np.array([*inputs_batch]),  targets_batch.reshape(-1,1).astype(np.float32)"
   ]
  },
  {
   "cell_type": "code",
   "execution_count": 17,
   "id": "61ee62d7-c676-4371-bf52-617e8c3e1c92",
   "metadata": {},
   "outputs": [],
   "source": [
    "batch_size = 128\n",
    "train_loader = lambda: data_loader(X_train, y_train, batch_size=batch_size)\n",
    "test_loader = lambda: data_loader(X_test, y_test, batch_size=batch_size)"
   ]
  },
  {
   "cell_type": "code",
   "execution_count": 18,
   "id": "0fd33b7d-9939-41fd-bf05-f797b7adabed",
   "metadata": {},
   "outputs": [],
   "source": [
    "## creating model\n",
    "class Model(nn.Module):\n",
    "    def __init__(self, vocab_size, embed_size, hidden_size, num_layers=1):\n",
    "        super(Model, self).__init__()\n",
    "        self.V = vocab_size\n",
    "        self.D = embed_size\n",
    "        self.M = hidden_size\n",
    "        self.L = num_layers\n",
    "    \n",
    "        self.embed = nn.Embedding(self.V, self.D)\n",
    "        self.rnn = nn.LSTM(\n",
    "            input_size=self.D,\n",
    "            hidden_size=self.M,\n",
    "            num_layers=self.L,\n",
    "            batch_first=True\n",
    "        )\n",
    "    \n",
    "        self.fc = nn.Linear(self.M, 1)\n",
    "\n",
    "    def forward(self, X):\n",
    "        c0 = torch.zeros(self.L, X.size(0), self.M)\n",
    "        h0 = torch.zeros(self.L, X.size(0), self.M)\n",
    "\n",
    "        out = self.embed(X)\n",
    "\n",
    "        out, _ = self.rnn(out, (c0,h0))\n",
    "        out, _ = torch.max(out, 1)\n",
    "\n",
    "        out = self.fc(out)\n",
    "\n",
    "        return out"
   ]
  },
  {
   "cell_type": "code",
   "execution_count": 19,
   "id": "a93132ae-fc8a-44f1-9a3a-01b887894430",
   "metadata": {},
   "outputs": [],
   "source": [
    "model = Model(len(word2idx), 10, 15,1)"
   ]
  },
  {
   "cell_type": "code",
   "execution_count": 20,
   "id": "b0758b65-16ef-4b64-b597-0909ae1c4b07",
   "metadata": {},
   "outputs": [
    {
     "data": {
      "text/plain": [
       "device(type='cpu')"
      ]
     },
     "execution_count": 20,
     "metadata": {},
     "output_type": "execute_result"
    }
   ],
   "source": [
    "device = torch.device(\"cuda:0\" if torch.cuda.is_available() else \"cpu\")\n",
    "device"
   ]
  },
  {
   "cell_type": "code",
   "execution_count": 21,
   "id": "a2027860-9475-4077-80e3-f6e59eac5bc1",
   "metadata": {},
   "outputs": [
    {
     "data": {
      "text/plain": [
       "Model(\n",
       "  (embed): Embedding(17264, 10)\n",
       "  (rnn): LSTM(10, 15, batch_first=True)\n",
       "  (fc): Linear(in_features=15, out_features=1, bias=True)\n",
       ")"
      ]
     },
     "execution_count": 21,
     "metadata": {},
     "output_type": "execute_result"
    }
   ],
   "source": [
    "model.to(device)"
   ]
  },
  {
   "cell_type": "code",
   "execution_count": 22,
   "id": "ba553382-faf0-40ad-8f38-dca38976ae27",
   "metadata": {},
   "outputs": [],
   "source": [
    "criterion = nn.BCEWithLogitsLoss()\n",
    "optimizer = torch.optim.Adam(model.parameters())"
   ]
  },
  {
   "cell_type": "code",
   "execution_count": 23,
   "id": "3272ce22-b6c5-4c55-ba8f-6c2361723cc0",
   "metadata": {},
   "outputs": [],
   "source": [
    "## creating training loop\n",
    "def batch_gd(model, criterion, optimizer, train_loader, test_loader, epochs=50):\n",
    "    train_losses = []\n",
    "    test_losses = []\n",
    "    \n",
    "    for it in range(epochs):\n",
    "        t0 = datetime.now()\n",
    "\n",
    "        epoch_losses = []\n",
    "        for inputs, targets in train_loader():\n",
    "            inputs = torch.from_numpy(inputs).to(device)\n",
    "            targets = torch.from_numpy(targets).to(device)\n",
    "\n",
    "            optimizer.zero_grad()\n",
    "            outputs = model(inputs)\n",
    "            loss = criterion(outputs, targets)\n",
    "            loss.backward()\n",
    "            optimizer.step()\n",
    "\n",
    "            epoch_losses.append(loss.item())\n",
    "\n",
    "        train_losses.append(np.mean(epoch_losses))\n",
    "            \n",
    "        epoch_losses = []\n",
    "        for inputs, targets in test_loader():\n",
    "            inputs = torch.from_numpy(inputs).to(device)\n",
    "            targets = torch.from_numpy(targets).to(device)\n",
    "\n",
    "            outputs = model(inputs)\n",
    "            loss = criterion(outputs, targets)\n",
    "\n",
    "            epoch_losses.append(loss.item())\n",
    "\n",
    "        test_losses.append(np.mean(epoch_losses))\n",
    "\n",
    "        dt = datetime.now() - t0\n",
    "\n",
    "        print(f\"Epoch: {it+1}/{epochs}, Train Loss: {train_losses[it]}, Test Loss: {test_losses[it]}, Duration: {dt}\")\n",
    "\n",
    "    return train_losses, test_losses"
   ]
  },
  {
   "cell_type": "code",
   "execution_count": 24,
   "id": "5c48f944-b03a-4d51-a41d-3aff29d66c68",
   "metadata": {},
   "outputs": [
    {
     "name": "stdout",
     "output_type": "stream",
     "text": [
      "Epoch: 1/12, Train Loss: 0.6827932269800276, Test Loss: 0.6804290182060666, Duration: 0:00:00.783365\n",
      "Epoch: 2/12, Train Loss: 0.6789096168109349, Test Loss: 0.6766829358206855, Duration: 0:00:00.668020\n",
      "Epoch: 3/12, Train Loss: 0.6721508446193877, Test Loss: 0.669143772787518, Duration: 0:00:00.613995\n",
      "Epoch: 4/12, Train Loss: 0.6596340934435526, Test Loss: 0.6563464204470316, Duration: 0:00:00.547001\n",
      "Epoch: 5/12, Train Loss: 0.6366144063926878, Test Loss: 0.6371651987234751, Duration: 0:00:00.582996\n",
      "Epoch: 6/12, Train Loss: 0.6045281021367936, Test Loss: 0.6169321305221982, Duration: 0:00:00.546998\n",
      "Epoch: 7/12, Train Loss: 0.5728640953699747, Test Loss: 0.6028033428721957, Duration: 0:00:00.556002\n",
      "Epoch: 8/12, Train Loss: 0.5433542522646132, Test Loss: 0.5943635933929019, Duration: 0:00:00.548998\n",
      "Epoch: 9/12, Train Loss: 0.5172765716200783, Test Loss: 0.5907124678293864, Duration: 0:00:00.591995\n",
      "Epoch: 10/12, Train Loss: 0.4923091913972582, Test Loss: 0.5869518286652036, Duration: 0:00:00.560001\n",
      "Epoch: 11/12, Train Loss: 0.4703780008213861, Test Loss: 0.5879316329956055, Duration: 0:00:00.582998\n",
      "Epoch: 12/12, Train Loss: 0.4500132217293694, Test Loss: 0.5829636636707518, Duration: 0:00:00.576998\n"
     ]
    }
   ],
   "source": [
    "train_losses, test_losses = batch_gd(model, criterion, optimizer, train_loader, test_loader, epochs=12)"
   ]
  },
  {
   "cell_type": "code",
   "execution_count": 25,
   "id": "8d953d9c-e5f9-43a5-9cae-5436e545435b",
   "metadata": {},
   "outputs": [
    {
     "data": {
      "image/png": "[encoded data removed]",
      "text/plain": [
       "<Figure size 432x288 with 1 Axes>"
      ]
     },
     "metadata": {
      "needs_background": "light"
     },
     "output_type": "display_data"
    }
   ],
   "source": [
    "plt.plot(train_losses)\n",
    "plt.plot(test_losses)\n",
    "plt.show()"
   ]
  },
  {
   "cell_type": "code",
   "execution_count": 32,
   "id": "8c842f42-1c28-4cc5-8b0a-1a2f550d4140",
   "metadata": {},
   "outputs": [
    {
     "name": "stdout",
     "output_type": "stream",
     "text": [
      "Train Accuracy: 0.8199, Test Accuracy: 0.7097\n"
     ]
    }
   ],
   "source": [
    "## checking accuracy\n",
    "with torch.no_grad():\n",
    "    sample_num = 0\n",
    "    total = 0\n",
    "    for inputs, targets in train_loader():\n",
    "        inputs = torch.from_numpy(inputs).to(device)\n",
    "        targets = torch.from_numpy(targets).to(device)\n",
    "        preds = model(inputs)\n",
    "        preds = preds > 0\n",
    "        total += (preds == targets).sum().item()\n",
    "        sample_num += inputs.size(0)\n",
    "\n",
    "    train_acc = total/sample_num\n",
    "    \n",
    "    sample_num = 0\n",
    "    total = 0\n",
    "    for inputs, targets in test_loader():\n",
    "        inputs = torch.from_numpy(inputs).to(device)\n",
    "        targets = torch.from_numpy(targets).to(device)\n",
    "        preds = model(inputs)\n",
    "        preds = preds > 0\n",
    "        total += (preds == targets).sum().item()\n",
    "        sample_num += inputs.size(0)\n",
    "\n",
    "    test_acc = total/sample_num\n",
    "\n",
    "    print(f\"Train Accuracy: {train_acc:.4f}, Test Accuracy: {test_acc:.4f}\")"
   ]
  }
 ],
 "metadata": {
  "kernelspec": {
   "display_name": "Python 3 (ipykernel)",
   "language": "python",
   "name": "python3"
  },
  "language_info": {
   "codemirror_mode": {
    "name": "ipython",
    "version": 3
   },
   "file_extension": ".py",
   "mimetype": "text/x-python",
   "name": "python",
   "nbconvert_exporter": "python",
   "pygments_lexer": "ipython3",
   "version": "3.10.0"
  }
 },
 "nbformat": 4,
 "nbformat_minor": 5
}
