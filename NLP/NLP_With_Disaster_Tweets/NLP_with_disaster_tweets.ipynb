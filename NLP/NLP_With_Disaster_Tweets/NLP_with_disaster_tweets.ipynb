{
 "cells": [
  {
   "cell_type": "code",
   "execution_count": 990,
   "id": "8d0b6ba9-f744-4430-a0b0-b5f83e13eecf",
   "metadata": {},
   "outputs": [],
   "source": [
    "import numpy as np\n",
    "import pandas as pd\n",
    "import matplotlib.pyplot as plt\n",
    "\n",
    "import torch\n",
    "import torch.nn as nn\n",
    "from torch.utils.data import DataLoader\n",
    "\n",
    "from sklearn.model_selection import train_test_split\n",
    "from sklearn.utils import shuffle\n",
    "\n",
    "import os\n",
    "\n",
    "import math\n",
    "from datetime import datetime\n",
    "\n",
    "from nltk.corpus import stopwords"
   ]
  },
  {
   "cell_type": "code",
   "execution_count": 991,
   "id": "e6ca8ea9-74e5-4d7c-a087-9f2aac299be5",
   "metadata": {},
   "outputs": [
    {
     "data": {
      "text/plain": [
       "['i',\n",
       " 'me',\n",
       " 'my',\n",
       " 'myself',\n",
       " 'we',\n",
       " 'our',\n",
       " 'ours',\n",
       " 'ourselves',\n",
       " 'you',\n",
       " \"you're\",\n",
       " \"you've\",\n",
       " \"you'll\",\n",
       " \"you'd\",\n",
       " 'your',\n",
       " 'yours',\n",
       " 'yourself',\n",
       " 'yourselves',\n",
       " 'he',\n",
       " 'him',\n",
       " 'his',\n",
       " 'himself',\n",
       " 'she',\n",
       " \"she's\",\n",
       " 'her',\n",
       " 'hers',\n",
       " 'herself',\n",
       " 'it',\n",
       " \"it's\",\n",
       " 'its',\n",
       " 'itself',\n",
       " 'they',\n",
       " 'them',\n",
       " 'their',\n",
       " 'theirs',\n",
       " 'themselves',\n",
       " 'what',\n",
       " 'which',\n",
       " 'who',\n",
       " 'whom',\n",
       " 'this',\n",
       " 'that',\n",
       " \"that'll\",\n",
       " 'these',\n",
       " 'those',\n",
       " 'am',\n",
       " 'is',\n",
       " 'are',\n",
       " 'was',\n",
       " 'were',\n",
       " 'be',\n",
       " 'been',\n",
       " 'being',\n",
       " 'have',\n",
       " 'has',\n",
       " 'had',\n",
       " 'having',\n",
       " 'do',\n",
       " 'does',\n",
       " 'did',\n",
       " 'doing',\n",
       " 'a',\n",
       " 'an',\n",
       " 'the',\n",
       " 'and',\n",
       " 'but',\n",
       " 'if',\n",
       " 'or',\n",
       " 'because',\n",
       " 'as',\n",
       " 'until',\n",
       " 'while',\n",
       " 'of',\n",
       " 'at',\n",
       " 'by',\n",
       " 'for',\n",
       " 'with',\n",
       " 'about',\n",
       " 'against',\n",
       " 'between',\n",
       " 'into',\n",
       " 'through',\n",
       " 'during',\n",
       " 'before',\n",
       " 'after',\n",
       " 'above',\n",
       " 'below',\n",
       " 'to',\n",
       " 'from',\n",
       " 'up',\n",
       " 'down',\n",
       " 'in',\n",
       " 'out',\n",
       " 'on',\n",
       " 'off',\n",
       " 'over',\n",
       " 'under',\n",
       " 'again',\n",
       " 'further',\n",
       " 'then',\n",
       " 'once',\n",
       " 'here',\n",
       " 'there',\n",
       " 'when',\n",
       " 'where',\n",
       " 'why',\n",
       " 'how',\n",
       " 'all',\n",
       " 'any',\n",
       " 'both',\n",
       " 'each',\n",
       " 'few',\n",
       " 'more',\n",
       " 'most',\n",
       " 'other',\n",
       " 'some',\n",
       " 'such',\n",
       " 'no',\n",
       " 'nor',\n",
       " 'not',\n",
       " 'only',\n",
       " 'own',\n",
       " 'same',\n",
       " 'so',\n",
       " 'than',\n",
       " 'too',\n",
       " 'very',\n",
       " 's',\n",
       " 't',\n",
       " 'can',\n",
       " 'will',\n",
       " 'just',\n",
       " 'don',\n",
       " \"don't\",\n",
       " 'should',\n",
       " \"should've\",\n",
       " 'now',\n",
       " 'd',\n",
       " 'll',\n",
       " 'm',\n",
       " 'o',\n",
       " 're',\n",
       " 've',\n",
       " 'y',\n",
       " 'ain',\n",
       " 'aren',\n",
       " \"aren't\",\n",
       " 'couldn',\n",
       " \"couldn't\",\n",
       " 'didn',\n",
       " \"didn't\",\n",
       " 'doesn',\n",
       " \"doesn't\",\n",
       " 'hadn',\n",
       " \"hadn't\",\n",
       " 'hasn',\n",
       " \"hasn't\",\n",
       " 'haven',\n",
       " \"haven't\",\n",
       " 'isn',\n",
       " \"isn't\",\n",
       " 'ma',\n",
       " 'mightn',\n",
       " \"mightn't\",\n",
       " 'mustn',\n",
       " \"mustn't\",\n",
       " 'needn',\n",
       " \"needn't\",\n",
       " 'shan',\n",
       " \"shan't\",\n",
       " 'shouldn',\n",
       " \"shouldn't\",\n",
       " 'wasn',\n",
       " \"wasn't\",\n",
       " 'weren',\n",
       " \"weren't\",\n",
       " 'won',\n",
       " \"won't\",\n",
       " 'wouldn',\n",
       " \"wouldn't\"]"
      ]
     },
     "execution_count": 991,
     "metadata": {},
     "output_type": "execute_result"
    }
   ],
   "source": [
    "stopwords = stopwords.words(\"english\")\n",
    "stopwords"
   ]
  },
  {
   "cell_type": "code",
   "execution_count": 992,
   "id": "3087da1e-e6fc-4e93-b0ad-d061ec1d13ff",
   "metadata": {},
   "outputs": [],
   "source": [
    "## getting the data\n",
    "df_train = pd.read_csv(\"data/train.csv\")\n",
    "df_test = pd.read_csv(\"data/test.csv\")\n",
    "sample_submission = pd.read_csv(\"data/sample_submission.csv\")"
   ]
  },
  {
   "cell_type": "code",
   "execution_count": 993,
   "id": "415c453f-2e85-488f-a070-0865f0369fc4",
   "metadata": {},
   "outputs": [
    {
     "data": {
      "text/html": [
       "<div>\n",
       "<style scoped>\n",
       "    .dataframe tbody tr th:only-of-type {\n",
       "        vertical-align: middle;\n",
       "    }\n",
       "\n",
       "    .dataframe tbody tr th {\n",
       "        vertical-align: top;\n",
       "    }\n",
       "\n",
       "    .dataframe thead th {\n",
       "        text-align: right;\n",
       "    }\n",
       "</style>\n",
       "<table border=\"1\" class=\"dataframe\">\n",
       "  <thead>\n",
       "    <tr style=\"text-align: right;\">\n",
       "      <th></th>\n",
       "      <th>id</th>\n",
       "      <th>keyword</th>\n",
       "      <th>location</th>\n",
       "      <th>text</th>\n",
       "      <th>target</th>\n",
       "    </tr>\n",
       "  </thead>\n",
       "  <tbody>\n",
       "    <tr>\n",
       "      <th>0</th>\n",
       "      <td>1</td>\n",
       "      <td>NaN</td>\n",
       "      <td>NaN</td>\n",
       "      <td>Our Deeds are the Reason of this #earthquake M...</td>\n",
       "      <td>1</td>\n",
       "    </tr>\n",
       "    <tr>\n",
       "      <th>1</th>\n",
       "      <td>4</td>\n",
       "      <td>NaN</td>\n",
       "      <td>NaN</td>\n",
       "      <td>Forest fire near La Ronge Sask. Canada</td>\n",
       "      <td>1</td>\n",
       "    </tr>\n",
       "    <tr>\n",
       "      <th>2</th>\n",
       "      <td>5</td>\n",
       "      <td>NaN</td>\n",
       "      <td>NaN</td>\n",
       "      <td>All residents asked to 'shelter in place' are ...</td>\n",
       "      <td>1</td>\n",
       "    </tr>\n",
       "    <tr>\n",
       "      <th>3</th>\n",
       "      <td>6</td>\n",
       "      <td>NaN</td>\n",
       "      <td>NaN</td>\n",
       "      <td>13,000 people receive #wildfires evacuation or...</td>\n",
       "      <td>1</td>\n",
       "    </tr>\n",
       "    <tr>\n",
       "      <th>4</th>\n",
       "      <td>7</td>\n",
       "      <td>NaN</td>\n",
       "      <td>NaN</td>\n",
       "      <td>Just got sent this photo from Ruby #Alaska as ...</td>\n",
       "      <td>1</td>\n",
       "    </tr>\n",
       "  </tbody>\n",
       "</table>\n",
       "</div>"
      ],
      "text/plain": [
       "   id keyword location                                               text  \\\n",
       "0   1     NaN      NaN  Our Deeds are the Reason of this #earthquake M...   \n",
       "1   4     NaN      NaN             Forest fire near La Ronge Sask. Canada   \n",
       "2   5     NaN      NaN  All residents asked to 'shelter in place' are ...   \n",
       "3   6     NaN      NaN  13,000 people receive #wildfires evacuation or...   \n",
       "4   7     NaN      NaN  Just got sent this photo from Ruby #Alaska as ...   \n",
       "\n",
       "   target  \n",
       "0       1  \n",
       "1       1  \n",
       "2       1  \n",
       "3       1  \n",
       "4       1  "
      ]
     },
     "execution_count": 993,
     "metadata": {},
     "output_type": "execute_result"
    }
   ],
   "source": [
    "df_train.head()"
   ]
  },
  {
   "cell_type": "code",
   "execution_count": 994,
   "id": "d3613a7d-d526-4c81-be0b-ab82dd7e7311",
   "metadata": {},
   "outputs": [
    {
     "data": {
      "text/plain": [
       "id             0\n",
       "keyword       61\n",
       "location    2533\n",
       "text           0\n",
       "target         0\n",
       "dtype: int64"
      ]
     },
     "execution_count": 994,
     "metadata": {},
     "output_type": "execute_result"
    }
   ],
   "source": [
    "## checking for missing\n",
    "df_train.isna().sum()"
   ]
  },
  {
   "cell_type": "code",
   "execution_count": 995,
   "id": "32e14424-354f-47a2-a7dd-826088b2b86f",
   "metadata": {},
   "outputs": [
    {
     "data": {
      "text/plain": [
       "keyword\n",
       "fatalities               45\n",
       "deluge                   42\n",
       "armageddon               42\n",
       "sinking                  41\n",
       "damage                   41\n",
       "                         ..\n",
       "forest%20fire            19\n",
       "epicentre                12\n",
       "threat                   11\n",
       "inundation               10\n",
       "radiation%20emergency     9\n",
       "Name: count, Length: 221, dtype: int64"
      ]
     },
     "execution_count": 995,
     "metadata": {},
     "output_type": "execute_result"
    }
   ],
   "source": [
    "## checking the keyword column\n",
    "df_train[\"keyword\"].value_counts()"
   ]
  },
  {
   "cell_type": "code",
   "execution_count": 996,
   "id": "52bebafc-1905-4f92-8ac1-4744692559de",
   "metadata": {},
   "outputs": [
    {
     "data": {
      "text/html": [
       "<div>\n",
       "<style scoped>\n",
       "    .dataframe tbody tr th:only-of-type {\n",
       "        vertical-align: middle;\n",
       "    }\n",
       "\n",
       "    .dataframe tbody tr th {\n",
       "        vertical-align: top;\n",
       "    }\n",
       "\n",
       "    .dataframe thead th {\n",
       "        text-align: right;\n",
       "    }\n",
       "</style>\n",
       "<table border=\"1\" class=\"dataframe\">\n",
       "  <thead>\n",
       "    <tr style=\"text-align: right;\">\n",
       "      <th></th>\n",
       "      <th>id</th>\n",
       "      <th>keyword</th>\n",
       "      <th>location</th>\n",
       "      <th>text</th>\n",
       "      <th>target</th>\n",
       "    </tr>\n",
       "  </thead>\n",
       "  <tbody>\n",
       "    <tr>\n",
       "      <th>31</th>\n",
       "      <td>48</td>\n",
       "      <td>ablaze</td>\n",
       "      <td>Birmingham</td>\n",
       "      <td>@bbcmtd Wholesale Markets ablaze http://t.co/l...</td>\n",
       "      <td>1</td>\n",
       "    </tr>\n",
       "    <tr>\n",
       "      <th>32</th>\n",
       "      <td>49</td>\n",
       "      <td>ablaze</td>\n",
       "      <td>Est. September 2012 - Bristol</td>\n",
       "      <td>We always try to bring the heavy. #metal #RT h...</td>\n",
       "      <td>0</td>\n",
       "    </tr>\n",
       "    <tr>\n",
       "      <th>33</th>\n",
       "      <td>50</td>\n",
       "      <td>ablaze</td>\n",
       "      <td>AFRICA</td>\n",
       "      <td>#AFRICANBAZE: Breaking news:Nigeria flag set a...</td>\n",
       "      <td>1</td>\n",
       "    </tr>\n",
       "    <tr>\n",
       "      <th>34</th>\n",
       "      <td>52</td>\n",
       "      <td>ablaze</td>\n",
       "      <td>Philadelphia, PA</td>\n",
       "      <td>Crying out for more! Set me ablaze</td>\n",
       "      <td>0</td>\n",
       "    </tr>\n",
       "    <tr>\n",
       "      <th>35</th>\n",
       "      <td>53</td>\n",
       "      <td>ablaze</td>\n",
       "      <td>London, UK</td>\n",
       "      <td>On plus side LOOK AT THE SKY LAST NIGHT IT WAS...</td>\n",
       "      <td>0</td>\n",
       "    </tr>\n",
       "    <tr>\n",
       "      <th>...</th>\n",
       "      <td>...</td>\n",
       "      <td>...</td>\n",
       "      <td>...</td>\n",
       "      <td>...</td>\n",
       "      <td>...</td>\n",
       "    </tr>\n",
       "    <tr>\n",
       "      <th>7575</th>\n",
       "      <td>10826</td>\n",
       "      <td>wrecked</td>\n",
       "      <td>TN</td>\n",
       "      <td>On the bright side I wrecked http://t.co/uEa0t...</td>\n",
       "      <td>0</td>\n",
       "    </tr>\n",
       "    <tr>\n",
       "      <th>7577</th>\n",
       "      <td>10829</td>\n",
       "      <td>wrecked</td>\n",
       "      <td>#NewcastleuponTyne #UK</td>\n",
       "      <td>@widda16 ... He's gone. You can relax. I thoug...</td>\n",
       "      <td>0</td>\n",
       "    </tr>\n",
       "    <tr>\n",
       "      <th>7579</th>\n",
       "      <td>10831</td>\n",
       "      <td>wrecked</td>\n",
       "      <td>Vancouver, Canada</td>\n",
       "      <td>Three days off from work and they've pretty mu...</td>\n",
       "      <td>0</td>\n",
       "    </tr>\n",
       "    <tr>\n",
       "      <th>7580</th>\n",
       "      <td>10832</td>\n",
       "      <td>wrecked</td>\n",
       "      <td>London</td>\n",
       "      <td>#FX #forex #trading Cramer: Iger's 3 words tha...</td>\n",
       "      <td>0</td>\n",
       "    </tr>\n",
       "    <tr>\n",
       "      <th>7581</th>\n",
       "      <td>10833</td>\n",
       "      <td>wrecked</td>\n",
       "      <td>Lincoln</td>\n",
       "      <td>@engineshed Great atmosphere at the British Li...</td>\n",
       "      <td>0</td>\n",
       "    </tr>\n",
       "  </tbody>\n",
       "</table>\n",
       "<p>5080 rows × 5 columns</p>\n",
       "</div>"
      ],
      "text/plain": [
       "         id  keyword                       location  \\\n",
       "31       48   ablaze                     Birmingham   \n",
       "32       49   ablaze  Est. September 2012 - Bristol   \n",
       "33       50   ablaze                         AFRICA   \n",
       "34       52   ablaze               Philadelphia, PA   \n",
       "35       53   ablaze                     London, UK   \n",
       "...     ...      ...                            ...   \n",
       "7575  10826  wrecked                             TN   \n",
       "7577  10829  wrecked         #NewcastleuponTyne #UK   \n",
       "7579  10831  wrecked              Vancouver, Canada   \n",
       "7580  10832  wrecked                        London    \n",
       "7581  10833  wrecked                        Lincoln   \n",
       "\n",
       "                                                   text  target  \n",
       "31    @bbcmtd Wholesale Markets ablaze http://t.co/l...       1  \n",
       "32    We always try to bring the heavy. #metal #RT h...       0  \n",
       "33    #AFRICANBAZE: Breaking news:Nigeria flag set a...       1  \n",
       "34                   Crying out for more! Set me ablaze       0  \n",
       "35    On plus side LOOK AT THE SKY LAST NIGHT IT WAS...       0  \n",
       "...                                                 ...     ...  \n",
       "7575  On the bright side I wrecked http://t.co/uEa0t...       0  \n",
       "7577  @widda16 ... He's gone. You can relax. I thoug...       0  \n",
       "7579  Three days off from work and they've pretty mu...       0  \n",
       "7580  #FX #forex #trading Cramer: Iger's 3 words tha...       0  \n",
       "7581  @engineshed Great atmosphere at the British Li...       0  \n",
       "\n",
       "[5080 rows x 5 columns]"
      ]
     },
     "execution_count": 996,
     "metadata": {},
     "output_type": "execute_result"
    }
   ],
   "source": [
    "df_train[df_train[\"location\"].notna()]"
   ]
  },
  {
   "cell_type": "code",
   "execution_count": 1016,
   "id": "a28b781e-a5f4-4394-a929-e162d6cbf73d",
   "metadata": {},
   "outputs": [
    {
     "data": {
      "text/plain": [
       "target\n",
       "0    4342\n",
       "1    3271\n",
       "Name: count, dtype: int64"
      ]
     },
     "execution_count": 1016,
     "metadata": {},
     "output_type": "execute_result"
    }
   ],
   "source": [
    "df_train[\"target\"].value_counts()"
   ]
  },
  {
   "cell_type": "code",
   "execution_count": 997,
   "id": "096a961f-65e2-474c-bd94-6c4cc25d92f1",
   "metadata": {},
   "outputs": [
    {
     "data": {
      "text/plain": [
       "array([\"Today is the day Hiroshima got Atomic bomb 70 years ago.  - The 'sanitised narrative' of Hiroshima's atomic bombing http://t.co/GKpANz7vg0\",\n",
       "       \"@Drake is body bagging meek meanwhile he's on tour with Nicki all hush hush...he's put 2 diss tracks out and meek 0 but dude started it lol\",\n",
       "       \"Pakistan says army helicopter has crashed in country's restive northwest killing at least 8 http://t.co/QV1RMZI3J1\",\n",
       "       'I got evacuated from the cinema 30 mins through Inside Out\\r\\nKill me please',\n",
       "       \"don't get on I77 south... huge wreck and airlift and maybe some deaths interstate is completely blocked\"],\n",
       "      dtype=object)"
      ]
     },
     "execution_count": 997,
     "metadata": {},
     "output_type": "execute_result"
    }
   ],
   "source": [
    "## checking the nature of the tweets\n",
    "\n",
    "df_train[\"text\"].sample(5).values"
   ]
  },
  {
   "cell_type": "code",
   "execution_count": 998,
   "id": "789a3db4-9661-45e4-a9b1-b178b7eeddde",
   "metadata": {},
   "outputs": [],
   "source": [
    "## for cleaning function\n",
    "## - remove urls\n",
    "## - remove # tags\n",
    "## - remove html special characters eg &amp;\n",
    "## - remove @text\n",
    "## - remove [01:04 UTC]\n",
    "## - strip"
   ]
  },
  {
   "cell_type": "code",
   "execution_count": 999,
   "id": "2d60ad2e-12cd-4956-9e59-bc08f066ca59",
   "metadata": {},
   "outputs": [],
   "source": [
    "import re\n",
    "\n",
    "## function to preprocessing of text\n",
    "def process_text(text):\n",
    "    ## patterns to remove\n",
    "    rem_pat_1 = \"([#@]|https?:)\\S*\"\n",
    "    rem_pat_2 = \"&\\S+;\"\n",
    "    rem_pat_3 = \"\\[\\d+:\\d+.+\\]\" ## removing timestamp. eg. [01:04 UTC]\n",
    "    rem_pat_4 = \"[\\-_.+]\" ## to remove symbols (make sure to bring last to avoid affecting first two patterns)\n",
    "    combined_rem_pat = f\"({rem_pat_1})|({rem_pat_2})|({rem_pat_3})|({rem_pat_4})\"\n",
    "\n",
    "    text = re.sub(combined_rem_pat, \"\", text) ## removing text that match patterns\n",
    "    text = text.strip() ## removing trailing white spaces\n",
    "    text = text.lower() ## lowercasing\n",
    "\n",
    "    return text\n",
    "\n",
    "## function for tokenizing of string\n",
    "def tokenize(text):\n",
    "    return re.split(\"\\s+\", text)\n",
    "\n",
    "## function to remove stop words\n",
    "def remove_stopwords(token_list):\n",
    "    l = []\n",
    "    for word in token_list:\n",
    "        if word not in stopwords:\n",
    "            l.append(word)\n",
    "    return l\n",
    "\n",
    "def full_text_process(text):\n",
    "    text = process_text(text)\n",
    "    text = tokenize(text)\n",
    "    # text = remove_stopwords(text)\n",
    "    return text"
   ]
  },
  {
   "cell_type": "code",
   "execution_count": 1000,
   "id": "1c2f0e9d-009b-4bff-8c5f-9506b8a01653",
   "metadata": {},
   "outputs": [],
   "source": [
    "## getting the training and testing processed data\n",
    "## train\n",
    "train_text = df_train[\"text\"].apply(lambda x: full_text_process(x)).values\n",
    "train_target = df_train[\"target\"].values"
   ]
  },
  {
   "cell_type": "code",
   "execution_count": 1001,
   "id": "da996b2a-3faf-4f00-97c7-c9e7a71eaaa6",
   "metadata": {},
   "outputs": [
    {
     "data": {
      "text/plain": [
       "array([list(['deeds', 'reason', 'may', 'allah', 'forgive', 'us']),\n",
       "       list(['forest', 'fire', 'near', 'la', 'ronge', 'sask', 'canada']),\n",
       "       list(['residents', 'asked', \"'shelter\", \"place'\", 'notified', 'officers', 'evacuation', 'shelter', 'place', 'orders', 'expected']),\n",
       "       ..., list(['m194', '?5km', 'volcano', 'hawaii']),\n",
       "       list(['police', 'investigating', 'ebike', 'collided', 'car', 'little', 'portugal', 'ebike', 'rider', 'suffered', 'serious', 'nonlife', 'threatening', 'injuries']),\n",
       "       list(['latest:', 'homes', 'razed', 'northern', 'california', 'wildfire', 'abc', 'news'])],\n",
       "      dtype=object)"
      ]
     },
     "execution_count": 1001,
     "metadata": {},
     "output_type": "execute_result"
    }
   ],
   "source": [
    "train_text"
   ]
  },
  {
   "cell_type": "code",
   "execution_count": 1002,
   "id": "8f22c46d-9038-4bb1-ace6-41586d1f9826",
   "metadata": {},
   "outputs": [],
   "source": [
    "## creating word dictionary\n",
    "word2idx = {\"<pad>\": 0}\n",
    "count = 1\n",
    "\n",
    "for l in train_text:\n",
    "    for i in range(len(l)):\n",
    "        if l[i] not in word2idx:\n",
    "            word2idx[l[i]] = count\n",
    "            count+=1\n",
    "\n",
    "        l[i] = word2idx[l[i]]"
   ]
  },
  {
   "cell_type": "code",
   "execution_count": 1003,
   "id": "ae8a3d53-a463-4f18-8595-8710ec47f3a7",
   "metadata": {},
   "outputs": [],
   "source": [
    "## function to convert token list to integer list\n",
    "def token_to_int(text_data, word2idx):\n",
    "    for i in range(len(text_data)):\n",
    "        idx_list = []\n",
    "        for word in text_data[i]:\n",
    "            if word in word2idx:\n",
    "                idx_list.append(word2idx[word])\n",
    "        text_data[i] = idx_list"
   ]
  },
  {
   "cell_type": "code",
   "execution_count": 1004,
   "id": "28ba2d0c-4703-4275-a3f6-bcfbaab95be1",
   "metadata": {},
   "outputs": [],
   "source": [
    "## creating train and validation data\n",
    "X_train, X_test, y_train, y_test = train_test_split(train_text, train_target, test_size=0.3, shuffle=True)"
   ]
  },
  {
   "cell_type": "code",
   "execution_count": 1005,
   "id": "44611494-663b-43c9-836c-ba7f4682e5d6",
   "metadata": {},
   "outputs": [],
   "source": [
    "## creating data loaders\n",
    "def data_loader(inputs, targets, batch_size=64):\n",
    "    inputs, targets = shuffle(inputs, targets)\n",
    "    n = len(inputs)\n",
    "    num_batches = math.ceil(n/batch_size)\n",
    "\n",
    "    for i in range(num_batches):\n",
    "        start_idx = i * batch_size\n",
    "        end_idx = min(start_idx+batch_size, n)\n",
    "\n",
    "        ## getting the batch data\n",
    "        inputs_batch = inputs[start_idx:end_idx]\n",
    "        targets_batch = targets[start_idx:end_idx]\n",
    "\n",
    "        ## padding the inputs\n",
    "        max_len = max([len(l) for l in inputs_batch])\n",
    "\n",
    "        for j in range(len(inputs_batch)):\n",
    "            pad_len = max_len - len(inputs_batch[j])\n",
    "            inputs_batch[j] = [0]*pad_len + inputs_batch[j]\n",
    "\n",
    "        yield np.array([*inputs_batch]),  targets_batch.reshape(-1,1).astype(np.float32)\n",
    "        \n",
    "## creating data loader for submissing data\n",
    "def data_loader_no_target(inputs, batch_size=64):\n",
    "    n = len(inputs)\n",
    "    num_batches = math.ceil(n/batch_size)\n",
    "\n",
    "    for i in range(num_batches):\n",
    "        start_idx = i * batch_size\n",
    "        end_idx = min(start_idx+batch_size, n)\n",
    "\n",
    "        ## getting the batch data\n",
    "        inputs_batch = inputs[start_idx:end_idx]\n",
    "\n",
    "        ## padding the inputs\n",
    "        max_len = max([len(l) for l in inputs_batch])\n",
    "\n",
    "        for j in range(len(inputs_batch)):\n",
    "            pad_len = max_len - len(inputs_batch[j])\n",
    "            inputs_batch[j] = [0]*pad_len + inputs_batch[j]\n",
    "\n",
    "        yield np.array([*inputs_batch])"
   ]
  },
  {
   "cell_type": "code",
   "execution_count": 1006,
   "id": "61ee62d7-c676-4371-bf52-617e8c3e1c92",
   "metadata": {},
   "outputs": [],
   "source": [
    "batch_size = 128\n",
    "train_loader = lambda: data_loader(X_train, y_train, batch_size=batch_size)\n",
    "test_loader = lambda: data_loader(X_test, y_test, batch_size=batch_size)"
   ]
  },
  {
   "cell_type": "code",
   "execution_count": 1007,
   "id": "0fd33b7d-9939-41fd-bf05-f797b7adabed",
   "metadata": {},
   "outputs": [],
   "source": [
    "## creating model\n",
    "class Model(nn.Module):\n",
    "    def __init__(self, vocab_size, embed_size, hidden_size, num_layers):\n",
    "        super(Model, self).__init__()\n",
    "        self.V = vocab_size\n",
    "        self.D = embed_size\n",
    "        self.M = hidden_size\n",
    "        self.L = num_layers\n",
    "    \n",
    "        self.embed = nn.Embedding(self.V, self.D)\n",
    "        self.rnn = nn.LSTM(\n",
    "            input_size=self.D,\n",
    "            hidden_size=self.M,\n",
    "            num_layers=self.L,\n",
    "            batch_first=True\n",
    "        )\n",
    "    \n",
    "        self.fc = nn.Linear(self.M, 1)\n",
    "\n",
    "    def forward(self, X):\n",
    "        c0 = torch.zeros(self.L, X.size(0), self.M)\n",
    "        h0 = torch.zeros(self.L, X.size(0), self.M)\n",
    "\n",
    "        out = self.embed(X)\n",
    "\n",
    "        out, _ = self.rnn(out, (c0,h0))\n",
    "        \n",
    "        out, _ = torch.max(out, 1) ## global max pooling\n",
    "        # out = out[:,-1,:] ## selecting last layer\n",
    "\n",
    "        out = self.fc(out)\n",
    "\n",
    "        return out"
   ]
  },
  {
   "cell_type": "code",
   "execution_count": 1008,
   "id": "a93132ae-fc8a-44f1-9a3a-01b887894430",
   "metadata": {},
   "outputs": [],
   "source": [
    "model = Model(len(word2idx), 10, 15, 1)"
   ]
  },
  {
   "cell_type": "code",
   "execution_count": 1009,
   "id": "b0758b65-16ef-4b64-b597-0909ae1c4b07",
   "metadata": {},
   "outputs": [
    {
     "data": {
      "text/plain": [
       "device(type='cpu')"
      ]
     },
     "execution_count": 1009,
     "metadata": {},
     "output_type": "execute_result"
    }
   ],
   "source": [
    "device = torch.device(\"cuda:0\" if torch.cuda.is_available() else \"cpu\")\n",
    "device"
   ]
  },
  {
   "cell_type": "code",
   "execution_count": 1010,
   "id": "a2027860-9475-4077-80e3-f6e59eac5bc1",
   "metadata": {},
   "outputs": [
    {
     "data": {
      "text/plain": [
       "Model(\n",
       "  (embed): Embedding(17111, 10)\n",
       "  (rnn): LSTM(10, 15, batch_first=True)\n",
       "  (fc): Linear(in_features=15, out_features=1, bias=True)\n",
       ")"
      ]
     },
     "execution_count": 1010,
     "metadata": {},
     "output_type": "execute_result"
    }
   ],
   "source": [
    "model.to(device)"
   ]
  },
  {
   "cell_type": "code",
   "execution_count": 1011,
   "id": "ba553382-faf0-40ad-8f38-dca38976ae27",
   "metadata": {},
   "outputs": [],
   "source": [
    "criterion = nn.BCEWithLogitsLoss()\n",
    "optimizer = torch.optim.Adam(model.parameters())"
   ]
  },
  {
   "cell_type": "code",
   "execution_count": 1012,
   "id": "3272ce22-b6c5-4c55-ba8f-6c2361723cc0",
   "metadata": {},
   "outputs": [],
   "source": [
    "## creating training loop\n",
    "def batch_gd(model, criterion, optimizer, train_loader, test_loader, epochs=50):\n",
    "    train_losses = []\n",
    "    test_losses = []\n",
    "    \n",
    "    for it in range(epochs):\n",
    "        t0 = datetime.now()\n",
    "\n",
    "        epoch_losses = []\n",
    "        model.train()\n",
    "        for inputs, targets in train_loader():\n",
    "            inputs = torch.from_numpy(inputs).to(device)\n",
    "            targets = torch.from_numpy(targets).to(device)\n",
    "\n",
    "            optimizer.zero_grad()\n",
    "            outputs = model(inputs)\n",
    "            loss = criterion(outputs, targets)\n",
    "            loss.backward()\n",
    "            optimizer.step()\n",
    "\n",
    "            epoch_losses.append(loss.item())\n",
    "\n",
    "        train_losses.append(np.mean(epoch_losses))\n",
    "            \n",
    "        epoch_losses = []\n",
    "        model.eval()\n",
    "        for inputs, targets in test_loader():\n",
    "            inputs = torch.from_numpy(inputs).to(device)\n",
    "            targets = torch.from_numpy(targets).to(device)\n",
    "\n",
    "            outputs = model(inputs)\n",
    "            loss = criterion(outputs, targets)\n",
    "\n",
    "            epoch_losses.append(loss.item())\n",
    "\n",
    "        test_losses.append(np.mean(epoch_losses))\n",
    "\n",
    "        dt = datetime.now() - t0\n",
    "\n",
    "        print(f\"Epoch: {it+1}/{epochs}, Train Loss: {train_losses[it]}, Test Loss: {test_losses[it]}, Duration: {dt}\")\n",
    "\n",
    "    return train_losses, test_losses"
   ]
  },
  {
   "cell_type": "code",
   "execution_count": 1013,
   "id": "5c48f944-b03a-4d51-a41d-3aff29d66c68",
   "metadata": {},
   "outputs": [
    {
     "name": "stdout",
     "output_type": "stream",
     "text": [
      "Epoch: 1/15, Train Loss: 0.6849175478730883, Test Loss: 0.6830279065503014, Duration: 0:00:00.489725\n",
      "Epoch: 2/15, Train Loss: 0.6807550092538198, Test Loss: 0.681388646364212, Duration: 0:00:00.467173\n",
      "Epoch: 3/15, Train Loss: 0.6780636778899601, Test Loss: 0.6783455477820503, Duration: 0:00:00.483277\n",
      "Epoch: 4/15, Train Loss: 0.672963715734936, Test Loss: 0.6744159493181441, Duration: 0:00:00.483186\n",
      "Epoch: 5/15, Train Loss: 0.6650157258624122, Test Loss: 0.667954706483417, Duration: 0:00:00.467664\n",
      "Epoch: 6/15, Train Loss: 0.6518661053407759, Test Loss: 0.6584391991297404, Duration: 0:00:00.480305\n",
      "Epoch: 7/15, Train Loss: 0.6314811337561834, Test Loss: 0.6447111997339461, Duration: 0:00:00.469516\n",
      "Epoch: 8/15, Train Loss: 0.602206601983025, Test Loss: 0.6288462844159868, Duration: 0:00:00.465531\n",
      "Epoch: 9/15, Train Loss: 0.5660978555679321, Test Loss: 0.6154881252182854, Duration: 0:00:00.528763\n",
      "Epoch: 10/15, Train Loss: 0.527130283060528, Test Loss: 0.6049738427003225, Duration: 0:00:00.487171\n",
      "Epoch: 11/15, Train Loss: 0.491047502273605, Test Loss: 0.5984029206964705, Duration: 0:00:00.496985\n",
      "Epoch: 12/15, Train Loss: 0.45674328931740354, Test Loss: 0.5976298020945655, Duration: 0:00:00.438734\n",
      "Epoch: 13/15, Train Loss: 0.4272452202581224, Test Loss: 0.6026108165582021, Duration: 0:00:00.466864\n",
      "Epoch: 14/15, Train Loss: 0.4025121693100248, Test Loss: 0.5968457758426666, Duration: 0:00:00.481611\n",
      "Epoch: 15/15, Train Loss: 0.38031265920116786, Test Loss: 0.5960533320903778, Duration: 0:00:00.456306\n"
     ]
    }
   ],
   "source": [
    "train_losses, test_losses = batch_gd(model, criterion, optimizer, train_loader, test_loader, epochs=15)"
   ]
  },
  {
   "cell_type": "code",
   "execution_count": 1014,
   "id": "8d953d9c-e5f9-43a5-9cae-5436e545435b",
   "metadata": {},
   "outputs": [
    {
     "data": {
      "image/png": "[encoded data removed]",
      "text/plain": [
       "<Figure size 432x288 with 1 Axes>"
      ]
     },
     "metadata": {
      "needs_background": "light"
     },
     "output_type": "display_data"
    }
   ],
   "source": [
    "plt.plot(train_losses)\n",
    "plt.plot(test_losses)\n",
    "plt.show()"
   ]
  },
  {
   "cell_type": "code",
   "execution_count": 1015,
   "id": "8c842f42-1c28-4cc5-8b0a-1a2f550d4140",
   "metadata": {},
   "outputs": [
    {
     "name": "stdout",
     "output_type": "stream",
     "text": [
      "Train Accuracy: 0.8583, Test Accuracy: 0.7084\n"
     ]
    }
   ],
   "source": [
    "## checking accuracy\n",
    "model.eval()\n",
    "with torch.no_grad():\n",
    "    sample_num = 0\n",
    "    total = 0\n",
    "    for inputs, targets in train_loader():\n",
    "        inputs = torch.from_numpy(inputs).to(device)\n",
    "        targets = torch.from_numpy(targets).to(device)\n",
    "        preds = model(inputs)\n",
    "        preds = preds > 0\n",
    "        total += (preds == targets).sum().item()\n",
    "        sample_num += inputs.size(0)\n",
    "\n",
    "    train_acc = total/sample_num\n",
    "    \n",
    "    sample_num = 0\n",
    "    total = 0\n",
    "    for inputs, targets in test_loader():\n",
    "        inputs = torch.from_numpy(inputs).to(device)\n",
    "        targets = torch.from_numpy(targets).to(device)\n",
    "        preds = model(inputs)\n",
    "        preds = preds > 0\n",
    "        total += (preds == targets).sum().item()\n",
    "        sample_num += inputs.size(0)\n",
    "\n",
    "    test_acc = total/sample_num\n",
    "\n",
    "    print(f\"Train Accuracy: {train_acc:.4f}, Test Accuracy: {test_acc:.4f}\")"
   ]
  },
  {
   "cell_type": "markdown",
   "id": "b7dd288f-6147-402a-9102-03fa84e8e3cf",
   "metadata": {},
   "source": [
    "#### Prediction on submission data"
   ]
  },
  {
   "cell_type": "code",
   "execution_count": 989,
   "id": "aaf2c4c7-a741-4233-bc2e-f2f4fc25c0fa",
   "metadata": {},
   "outputs": [
    {
     "ename": "KeyboardInterrupt",
     "evalue": "",
     "output_type": "error",
     "traceback": [
      "\u001b[1;31m---------------------------------------------------------------------------\u001b[0m",
      "\u001b[1;31mKeyboardInterrupt\u001b[0m                         Traceback (most recent call last)",
      "Input \u001b[1;32mIn [989]\u001b[0m, in \u001b[0;36m<module>\u001b[1;34m\u001b[0m\n\u001b[0;32m      1\u001b[0m \u001b[38;5;66;03m## test\u001b[39;00m\n\u001b[1;32m----> 2\u001b[0m test_text \u001b[38;5;241m=\u001b[39m \u001b[43mdf_test\u001b[49m\u001b[43m[\u001b[49m\u001b[38;5;124;43m\"\u001b[39;49m\u001b[38;5;124;43mtext\u001b[39;49m\u001b[38;5;124;43m\"\u001b[39;49m\u001b[43m]\u001b[49m\u001b[38;5;241;43m.\u001b[39;49m\u001b[43mapply\u001b[49m\u001b[43m(\u001b[49m\u001b[38;5;28;43;01mlambda\u001b[39;49;00m\u001b[43m \u001b[49m\u001b[43mx\u001b[49m\u001b[43m:\u001b[49m\u001b[43m \u001b[49m\u001b[43mfull_text_process\u001b[49m\u001b[43m(\u001b[49m\u001b[43mx\u001b[49m\u001b[43m)\u001b[49m\u001b[43m)\u001b[49m\u001b[38;5;241m.\u001b[39mvalues\n",
      "File \u001b[1;32mC:\\Python310\\lib\\site-packages\\pandas\\core\\series.py:4760\u001b[0m, in \u001b[0;36mSeries.apply\u001b[1;34m(self, func, convert_dtype, args, by_row, **kwargs)\u001b[0m\n\u001b[0;32m   4625\u001b[0m \u001b[38;5;28;01mdef\u001b[39;00m \u001b[38;5;21mapply\u001b[39m(\n\u001b[0;32m   4626\u001b[0m     \u001b[38;5;28mself\u001b[39m,\n\u001b[0;32m   4627\u001b[0m     func: AggFuncType,\n\u001b[1;32m   (...)\u001b[0m\n\u001b[0;32m   4632\u001b[0m     \u001b[38;5;241m*\u001b[39m\u001b[38;5;241m*\u001b[39mkwargs,\n\u001b[0;32m   4633\u001b[0m ) \u001b[38;5;241m-\u001b[39m\u001b[38;5;241m>\u001b[39m DataFrame \u001b[38;5;241m|\u001b[39m Series:\n\u001b[0;32m   4634\u001b[0m     \u001b[38;5;124;03m\"\"\"\u001b[39;00m\n\u001b[0;32m   4635\u001b[0m \u001b[38;5;124;03m    Invoke function on values of Series.\u001b[39;00m\n\u001b[0;32m   4636\u001b[0m \n\u001b[1;32m   (...)\u001b[0m\n\u001b[0;32m   4751\u001b[0m \u001b[38;5;124;03m    dtype: float64\u001b[39;00m\n\u001b[0;32m   4752\u001b[0m \u001b[38;5;124;03m    \"\"\"\u001b[39;00m\n\u001b[0;32m   4753\u001b[0m     \u001b[38;5;28;01mreturn\u001b[39;00m \u001b[43mSeriesApply\u001b[49m\u001b[43m(\u001b[49m\n\u001b[0;32m   4754\u001b[0m \u001b[43m        \u001b[49m\u001b[38;5;28;43mself\u001b[39;49m\u001b[43m,\u001b[49m\n\u001b[0;32m   4755\u001b[0m \u001b[43m        \u001b[49m\u001b[43mfunc\u001b[49m\u001b[43m,\u001b[49m\n\u001b[0;32m   4756\u001b[0m \u001b[43m        \u001b[49m\u001b[43mconvert_dtype\u001b[49m\u001b[38;5;241;43m=\u001b[39;49m\u001b[43mconvert_dtype\u001b[49m\u001b[43m,\u001b[49m\n\u001b[0;32m   4757\u001b[0m \u001b[43m        \u001b[49m\u001b[43mby_row\u001b[49m\u001b[38;5;241;43m=\u001b[39;49m\u001b[43mby_row\u001b[49m\u001b[43m,\u001b[49m\n\u001b[0;32m   4758\u001b[0m \u001b[43m        \u001b[49m\u001b[43margs\u001b[49m\u001b[38;5;241;43m=\u001b[39;49m\u001b[43margs\u001b[49m\u001b[43m,\u001b[49m\n\u001b[0;32m   4759\u001b[0m \u001b[43m        \u001b[49m\u001b[43mkwargs\u001b[49m\u001b[38;5;241;43m=\u001b[39;49m\u001b[43mkwargs\u001b[49m\u001b[43m,\u001b[49m\n\u001b[1;32m-> 4760\u001b[0m \u001b[43m    \u001b[49m\u001b[43m)\u001b[49m\u001b[38;5;241;43m.\u001b[39;49m\u001b[43mapply\u001b[49m\u001b[43m(\u001b[49m\u001b[43m)\u001b[49m\n",
      "File \u001b[1;32mC:\\Python310\\lib\\site-packages\\pandas\\core\\apply.py:1207\u001b[0m, in \u001b[0;36mSeriesApply.apply\u001b[1;34m(self)\u001b[0m\n\u001b[0;32m   1204\u001b[0m     \u001b[38;5;28;01mreturn\u001b[39;00m \u001b[38;5;28mself\u001b[39m\u001b[38;5;241m.\u001b[39mapply_compat()\n\u001b[0;32m   1206\u001b[0m \u001b[38;5;66;03m# self.func is Callable\u001b[39;00m\n\u001b[1;32m-> 1207\u001b[0m \u001b[38;5;28;01mreturn\u001b[39;00m \u001b[38;5;28;43mself\u001b[39;49m\u001b[38;5;241;43m.\u001b[39;49m\u001b[43mapply_standard\u001b[49m\u001b[43m(\u001b[49m\u001b[43m)\u001b[49m\n",
      "File \u001b[1;32mC:\\Python310\\lib\\site-packages\\pandas\\core\\apply.py:1287\u001b[0m, in \u001b[0;36mSeriesApply.apply_standard\u001b[1;34m(self)\u001b[0m\n\u001b[0;32m   1281\u001b[0m \u001b[38;5;66;03m# row-wise access\u001b[39;00m\n\u001b[0;32m   1282\u001b[0m \u001b[38;5;66;03m# apply doesn't have a `na_action` keyword and for backward compat reasons\u001b[39;00m\n\u001b[0;32m   1283\u001b[0m \u001b[38;5;66;03m# we need to give `na_action=\"ignore\"` for categorical data.\u001b[39;00m\n\u001b[0;32m   1284\u001b[0m \u001b[38;5;66;03m# TODO: remove the `na_action=\"ignore\"` when that default has been changed in\u001b[39;00m\n\u001b[0;32m   1285\u001b[0m \u001b[38;5;66;03m#  Categorical (GH51645).\u001b[39;00m\n\u001b[0;32m   1286\u001b[0m action \u001b[38;5;241m=\u001b[39m \u001b[38;5;124m\"\u001b[39m\u001b[38;5;124mignore\u001b[39m\u001b[38;5;124m\"\u001b[39m \u001b[38;5;28;01mif\u001b[39;00m \u001b[38;5;28misinstance\u001b[39m(obj\u001b[38;5;241m.\u001b[39mdtype, CategoricalDtype) \u001b[38;5;28;01melse\u001b[39;00m \u001b[38;5;28;01mNone\u001b[39;00m\n\u001b[1;32m-> 1287\u001b[0m mapped \u001b[38;5;241m=\u001b[39m \u001b[43mobj\u001b[49m\u001b[38;5;241;43m.\u001b[39;49m\u001b[43m_map_values\u001b[49m\u001b[43m(\u001b[49m\n\u001b[0;32m   1288\u001b[0m \u001b[43m    \u001b[49m\u001b[43mmapper\u001b[49m\u001b[38;5;241;43m=\u001b[39;49m\u001b[43mcurried\u001b[49m\u001b[43m,\u001b[49m\u001b[43m \u001b[49m\u001b[43mna_action\u001b[49m\u001b[38;5;241;43m=\u001b[39;49m\u001b[43maction\u001b[49m\u001b[43m,\u001b[49m\u001b[43m \u001b[49m\u001b[43mconvert\u001b[49m\u001b[38;5;241;43m=\u001b[39;49m\u001b[38;5;28;43mself\u001b[39;49m\u001b[38;5;241;43m.\u001b[39;49m\u001b[43mconvert_dtype\u001b[49m\n\u001b[0;32m   1289\u001b[0m \u001b[43m\u001b[49m\u001b[43m)\u001b[49m\n\u001b[0;32m   1291\u001b[0m \u001b[38;5;28;01mif\u001b[39;00m \u001b[38;5;28mlen\u001b[39m(mapped) \u001b[38;5;129;01mand\u001b[39;00m \u001b[38;5;28misinstance\u001b[39m(mapped[\u001b[38;5;241m0\u001b[39m], ABCSeries):\n\u001b[0;32m   1292\u001b[0m     \u001b[38;5;66;03m# GH#43986 Need to do list(mapped) in order to get treated as nested\u001b[39;00m\n\u001b[0;32m   1293\u001b[0m     \u001b[38;5;66;03m#  See also GH#25959 regarding EA support\u001b[39;00m\n\u001b[0;32m   1294\u001b[0m     \u001b[38;5;28;01mreturn\u001b[39;00m obj\u001b[38;5;241m.\u001b[39m_constructor_expanddim(\u001b[38;5;28mlist\u001b[39m(mapped), index\u001b[38;5;241m=\u001b[39mobj\u001b[38;5;241m.\u001b[39mindex)\n",
      "File \u001b[1;32mC:\\Python310\\lib\\site-packages\\pandas\\core\\base.py:921\u001b[0m, in \u001b[0;36mIndexOpsMixin._map_values\u001b[1;34m(self, mapper, na_action, convert)\u001b[0m\n\u001b[0;32m    918\u001b[0m \u001b[38;5;28;01mif\u001b[39;00m \u001b[38;5;28misinstance\u001b[39m(arr, ExtensionArray):\n\u001b[0;32m    919\u001b[0m     \u001b[38;5;28;01mreturn\u001b[39;00m arr\u001b[38;5;241m.\u001b[39mmap(mapper, na_action\u001b[38;5;241m=\u001b[39mna_action)\n\u001b[1;32m--> 921\u001b[0m \u001b[38;5;28;01mreturn\u001b[39;00m \u001b[43malgorithms\u001b[49m\u001b[38;5;241;43m.\u001b[39;49m\u001b[43mmap_array\u001b[49m\u001b[43m(\u001b[49m\u001b[43marr\u001b[49m\u001b[43m,\u001b[49m\u001b[43m \u001b[49m\u001b[43mmapper\u001b[49m\u001b[43m,\u001b[49m\u001b[43m \u001b[49m\u001b[43mna_action\u001b[49m\u001b[38;5;241;43m=\u001b[39;49m\u001b[43mna_action\u001b[49m\u001b[43m,\u001b[49m\u001b[43m \u001b[49m\u001b[43mconvert\u001b[49m\u001b[38;5;241;43m=\u001b[39;49m\u001b[43mconvert\u001b[49m\u001b[43m)\u001b[49m\n",
      "File \u001b[1;32mC:\\Python310\\lib\\site-packages\\pandas\\core\\algorithms.py:1814\u001b[0m, in \u001b[0;36mmap_array\u001b[1;34m(arr, mapper, na_action, convert)\u001b[0m\n\u001b[0;32m   1812\u001b[0m values \u001b[38;5;241m=\u001b[39m arr\u001b[38;5;241m.\u001b[39mastype(\u001b[38;5;28mobject\u001b[39m, copy\u001b[38;5;241m=\u001b[39m\u001b[38;5;28;01mFalse\u001b[39;00m)\n\u001b[0;32m   1813\u001b[0m \u001b[38;5;28;01mif\u001b[39;00m na_action \u001b[38;5;129;01mis\u001b[39;00m \u001b[38;5;28;01mNone\u001b[39;00m:\n\u001b[1;32m-> 1814\u001b[0m     \u001b[38;5;28;01mreturn\u001b[39;00m \u001b[43mlib\u001b[49m\u001b[38;5;241;43m.\u001b[39;49m\u001b[43mmap_infer\u001b[49m\u001b[43m(\u001b[49m\u001b[43mvalues\u001b[49m\u001b[43m,\u001b[49m\u001b[43m \u001b[49m\u001b[43mmapper\u001b[49m\u001b[43m,\u001b[49m\u001b[43m \u001b[49m\u001b[43mconvert\u001b[49m\u001b[38;5;241;43m=\u001b[39;49m\u001b[43mconvert\u001b[49m\u001b[43m)\u001b[49m\n\u001b[0;32m   1815\u001b[0m \u001b[38;5;28;01melse\u001b[39;00m:\n\u001b[0;32m   1816\u001b[0m     \u001b[38;5;28;01mreturn\u001b[39;00m lib\u001b[38;5;241m.\u001b[39mmap_infer_mask(\n\u001b[0;32m   1817\u001b[0m         values, mapper, mask\u001b[38;5;241m=\u001b[39misna(values)\u001b[38;5;241m.\u001b[39mview(np\u001b[38;5;241m.\u001b[39muint8), convert\u001b[38;5;241m=\u001b[39mconvert\n\u001b[0;32m   1818\u001b[0m     )\n",
      "File \u001b[1;32mlib.pyx:2917\u001b[0m, in \u001b[0;36mpandas._libs.lib.map_infer\u001b[1;34m()\u001b[0m\n",
      "Input \u001b[1;32mIn [989]\u001b[0m, in \u001b[0;36m<lambda>\u001b[1;34m(x)\u001b[0m\n\u001b[0;32m      1\u001b[0m \u001b[38;5;66;03m## test\u001b[39;00m\n\u001b[1;32m----> 2\u001b[0m test_text \u001b[38;5;241m=\u001b[39m df_test[\u001b[38;5;124m\"\u001b[39m\u001b[38;5;124mtext\u001b[39m\u001b[38;5;124m\"\u001b[39m]\u001b[38;5;241m.\u001b[39mapply(\u001b[38;5;28;01mlambda\u001b[39;00m x: \u001b[43mfull_text_process\u001b[49m\u001b[43m(\u001b[49m\u001b[43mx\u001b[49m\u001b[43m)\u001b[49m)\u001b[38;5;241m.\u001b[39mvalues\n",
      "Input \u001b[1;32mIn [972]\u001b[0m, in \u001b[0;36mfull_text_process\u001b[1;34m(text)\u001b[0m\n\u001b[0;32m     31\u001b[0m text \u001b[38;5;241m=\u001b[39m process_text(text)\n\u001b[0;32m     32\u001b[0m text \u001b[38;5;241m=\u001b[39m tokenize(text)\n\u001b[1;32m---> 33\u001b[0m text \u001b[38;5;241m=\u001b[39m \u001b[43mremove_stopwords\u001b[49m\u001b[43m(\u001b[49m\u001b[43mtext\u001b[49m\u001b[43m)\u001b[49m\n\u001b[0;32m     34\u001b[0m \u001b[38;5;28;01mreturn\u001b[39;00m text\n",
      "Input \u001b[1;32mIn [972]\u001b[0m, in \u001b[0;36mremove_stopwords\u001b[1;34m(token_list)\u001b[0m\n",
      "\u001b[1;31mKeyboardInterrupt\u001b[0m: "
     ]
    }
   ],
   "source": [
    "## test\n",
    "test_text = df_test[\"text\"].apply(lambda x: full_text_process(x)).values"
   ]
  },
  {
   "cell_type": "code",
   "execution_count": null,
   "id": "9c7daba6-8ce0-4f71-abda-d7c5177ed8ff",
   "metadata": {},
   "outputs": [],
   "source": [
    "## converting text token list to index list\n",
    "token_to_int(test_text, word2idx)"
   ]
  },
  {
   "cell_type": "code",
   "execution_count": null,
   "id": "2b9bd51b-52e4-4879-9b99-e3ed34712e8c",
   "metadata": {},
   "outputs": [],
   "source": [
    "submission_loader = lambda: data_loader_no_target(test_text, batch_size=batch_size)"
   ]
  },
  {
   "cell_type": "code",
   "execution_count": null,
   "id": "8ccb7929-48de-494b-9daf-7d560cef14e4",
   "metadata": {},
   "outputs": [],
   "source": [
    "sub_preds = np.array([])\n",
    "model.eval()\n",
    "with torch.no_grad():\n",
    "    for inputs in submission_loader():\n",
    "        inputs = torch.from_numpy(inputs).to(device)\n",
    "        preds = model(inputs)\n",
    "        preds = preds > 0\n",
    "        preds = preds.numpy().astype(int).flatten()\n",
    "        sub_preds = np.concatenate([sub_preds, preds])"
   ]
  },
  {
   "cell_type": "code",
   "execution_count": null,
   "id": "a473f747-fcc2-4a76-9124-e8cc2417ab3a",
   "metadata": {},
   "outputs": [],
   "source": [
    "## creating submission dataframe\n",
    "ids = df_test[\"id\"].values\n",
    "\n",
    "sub_df = pd.DataFrame({\"id\": ids, \"target\": sub_preds.astype(int)})\n",
    "\n",
    "## saving as csv\n",
    "if not os.path.exists(\"x__submissions\"):\n",
    "    os.mkdir(\"x__submissions\")\n",
    "\n",
    "sub_df.to_csv(\"x__submissions/sub3.csv\", index=False)"
   ]
  },
  {
   "cell_type": "code",
   "execution_count": null,
   "id": "a641c6df-b26f-403c-b86f-f6f57653902f",
   "metadata": {},
   "outputs": [],
   "source": [
    "sub_df"
   ]
  },
  {
   "cell_type": "code",
   "execution_count": null,
   "id": "9a067dc4-c416-4a5c-88b1-38b0d8fb7541",
   "metadata": {},
   "outputs": [],
   "source": []
  }
 ],
 "metadata": {
  "kernelspec": {
   "display_name": "Python 3 (ipykernel)",
   "language": "python",
   "name": "python3"
  },
  "language_info": {
   "codemirror_mode": {
    "name": "ipython",
    "version": 3
   },
   "file_extension": ".py",
   "mimetype": "text/x-python",
   "name": "python",
   "nbconvert_exporter": "python",
   "pygments_lexer": "ipython3",
   "version": "3.10.0"
  }
 },
 "nbformat": 4,
 "nbformat_minor": 5
}
